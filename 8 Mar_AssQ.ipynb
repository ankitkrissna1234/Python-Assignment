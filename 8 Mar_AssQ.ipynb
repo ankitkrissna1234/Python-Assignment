{
 "cells": [
  {
   "cell_type": "markdown",
   "id": "c7d79783-702e-4ad6-8754-fe1cd4b99f5f",
   "metadata": {},
   "source": [
    "1)"
   ]
  },
  {
   "cell_type": "markdown",
   "id": "1dbd8f7d-a48b-4868-be36-77b9002d61e5",
   "metadata": {},
   "source": [
    "In probability theory and statistics, a probability density function (PDF) is a mathematical function that describes the likelihood of a random variable taking on a specific value or falling within a particular range of values. The PDF is used to characterize the probability distribution of a continuous random variable.               \n",
    "\n",
    "For a continuous random variable, the PDF is defined as a function that integrates to 1 over its entire domain. The PDF represents the relative likelihood of different outcomes, and the area under the PDF curve over a given interval corresponds to the probability of the random variable falling within that interval.                       \n",
    "\n",
    "Mathematically, if X is a continuous random variable, the PDF is denoted by f(x) or p(x), and it satisfies the following properties:                                                                                               \n",
    "\n",
    "i) Non-negativity: f(x) ≥ 0 for all x.                                                                             \n",
    "ii) Normalization: ∫f(x)dx = 1, where the integral is taken over the entire range of X.                             \n",
    "iii) Probability interpretation: The probability of X falling within a specific interval [a, b] is given by the integral of f(x) over that interval: P(a ≤ X ≤ b) = ∫[a, b] f(x)dx.                                                 \n",
    "The PDF provides a way to quantify the likelihood of different values for a continuous random variable, and it is an essential tool for statistical analysis, hypothesis testing, and modeling in various fields."
   ]
  },
  {
   "cell_type": "markdown",
   "id": "618ef4fd-4a38-4659-a892-aba74f239f77",
   "metadata": {},
   "source": [
    "2)"
   ]
  },
  {
   "cell_type": "markdown",
   "id": "d39e697b-f31e-434e-9c2c-c1c3a42dd464",
   "metadata": {},
   "source": [
    "There are several types of probability distributions, each with its own characteristics and applications. The choice of distribution depends on the nature of the data and the problem at hand. Here are some commonly used probability distributions:                                                                                         \n",
    "\n",
    "i) Uniform Distribution: In a uniform distribution, every possible outcome has an equal probability. The probability density function is constant within a specified interval and zero elsewhere.                           \n",
    "\n",
    "ii) Normal Distribution (Gaussian Distribution): The normal distribution is one of the most widely used distributions in statistics. It is characterized by a symmetric bell-shaped curve. Many natural phenomena and measurement errors follow a normal distribution. The distribution is completely defined by its mean and standard deviation.                                                                                                        \n",
    "\n",
    "iii)Binomial Distribution: The binomial distribution models the number of successes in a fixed number of independent Bernoulli trials, where each trial has two possible outcomes: success or failure. It is characterized by parameters n (number of trials) and p (probability of success in a single trial).                                             \n",
    "\n",
    "iv)Poisson Distribution: The Poisson distribution models the number of events that occur in a fixed interval of time or space when the events are rare and independent of each other. It is often used to describe the number of occurrences of rare events, such as accidents or phone calls, over a specific period.                               \n",
    "\n",
    "v)Exponential Distribution: The exponential distribution models the time between events in a Poisson process, where events occur continuously and independently at a constant average rate. It is commonly used in reliability analysis and queuing theory."
   ]
  },
  {
   "cell_type": "markdown",
   "id": "8b4b4368-91dc-4973-8e81-4446a117ead0",
   "metadata": {},
   "source": [
    "3)"
   ]
  },
  {
   "cell_type": "code",
   "execution_count": 1,
   "id": "53244176-8721-4c39-bdc6-8d05b7192151",
   "metadata": {},
   "outputs": [],
   "source": [
    "import math\n",
    "\n",
    "def normal_pdf(x, mean, std_dev):\n",
    "    coefficient = 1 / (std_dev * math.sqrt(2 * math.pi))\n",
    "    exponent = -((x - mean) ** 2) / (2 * std_dev ** 2)\n",
    "    pdf = coefficient * math.exp(exponent)\n",
    "    return pdf"
   ]
  },
  {
   "cell_type": "code",
   "execution_count": 2,
   "id": "47d6f440-f15f-414c-9d5c-a338cdc51c74",
   "metadata": {},
   "outputs": [
    {
     "name": "stdout",
     "output_type": "stream",
     "text": [
      "The PDF at x = 1.5 is 0.12951759566589174\n"
     ]
    }
   ],
   "source": [
    "mean = 0  # Mean of the normal distribution\n",
    "std_dev = 1  # Standard deviation of the normal distribution\n",
    "x = 1.5  # Point at which to calculate the PDF\n",
    "\n",
    "pdf_value = normal_pdf(x, mean, std_dev)\n",
    "print(f\"The PDF at x = {x} is {pdf_value}\")"
   ]
  },
  {
   "cell_type": "markdown",
   "id": "34ce1bc6-145c-41c4-ac46-303b2eb172b9",
   "metadata": {},
   "source": [
    "4)"
   ]
  },
  {
   "cell_type": "markdown",
   "id": "e3a804bf-0f42-4830-9ad9-d120ad4021aa",
   "metadata": {},
   "source": [
    "The binomial distribution is a discrete probability distribution that models the number of successes in a fixed number of independent Bernoulli trials, where each trial has two possible outcomes: success or failure. The properties of the binomial distribution include:                                                                   \n",
    "\n",
    "i) Fixed Number of Trials: The binomial distribution assumes a fixed number of trials, denoted by 'n'. Each trial is independent and has the same probability of success.                                                             \n",
    "\n",
    "ii) Two Possible Outcomes: Each trial in a binomial distribution has two possible outcomes, typically labeled as success (S) and failure (F). The probability of success in a single trial is denoted by 'p', and the probability of failure is denoted by 'q' (where q = 1 - p).                                                                       \n",
    "\n",
    "iii) Independent Trials: The outcome of one trial does not affect the outcome of other trials. Each trial is assumed to be independent.                                                                                         \n",
    "\n",
    "iv) Probability of Success: The probability of success 'p' remains constant for each trial. This allows the binomial distribution to be applied to a variety of scenarios where the probability of success remains consistent."
   ]
  },
  {
   "cell_type": "markdown",
   "id": "2391af82-68cf-4382-a724-7c7838d7817b",
   "metadata": {},
   "source": [
    "Examples of events where the binomial distribution can be applied are:                                             \n",
    "\n",
    "i) Coin Flips: Consider a scenario where you flip a fair coin multiple times. Each flip can be considered as a Bernoulli trial, with success defined as getting heads and failure defined as getting tails. The binomial distribution can be used to model the number of heads (or tails) obtained in a fixed number of coin flips.         \n",
    "\n",
    "ii) Election Outcomes: Suppose there is an election with two candidates, and voters independently cast their votes for one of the candidates. Each vote can be treated as a Bernoulli trial, with success representing a vote for a particular candidate. The binomial distribution can be applied to model the number of votes received by a candidate in a fixed number of voters.                                                                                       "
   ]
  },
  {
   "cell_type": "markdown",
   "id": "bb23c748-24d0-40ae-b048-026d8c16f07f",
   "metadata": {},
   "source": [
    "In both examples, the binomial distribution can be used to calculate the probabilities of obtaining different numbers of successes (such as the probability of getting a specific number of heads or the probability of a candidate receiving a certain number of votes) in a fixed number of trials."
   ]
  },
  {
   "cell_type": "markdown",
   "id": "7fe80537-a4f1-4442-bda0-1628b39ad5c1",
   "metadata": {},
   "source": [
    "5)"
   ]
  },
  {
   "cell_type": "code",
   "execution_count": 3,
   "id": "96973512-8cc4-4a67-a361-7984e4099394",
   "metadata": {},
   "outputs": [
    {
     "data": {
      "image/png": "[encoded data removed]",
      "text/plain": [
       "<Figure size 640x480 with 1 Axes>"
      ]
     },
     "metadata": {},
     "output_type": "display_data"
    }
   ],
   "source": [
    "import numpy as np\n",
    "import matplotlib.pyplot as plt\n",
    "\n",
    "# Set the parameters\n",
    "sample_size = 1000\n",
    "probability_of_success = 0.4\n",
    "\n",
    "# Generate the random sample\n",
    "sample = np.random.binomial(1, probability_of_success, sample_size)\n",
    "\n",
    "# Plot the histogram\n",
    "plt.hist(sample, bins=2, edgecolor='black')\n",
    "plt.xlabel('Success (1) / Failure (0)')\n",
    "plt.ylabel('Frequency')\n",
    "plt.title('Histogram of Random Sample from Binomial Distribution')\n",
    "plt.show()"
   ]
  },
  {
   "cell_type": "markdown",
   "id": "fee3c661-ae58-4f56-bc96-d48345439b98",
   "metadata": {},
   "source": [
    "6)"
   ]
  },
  {
   "cell_type": "code",
   "execution_count": 4,
   "id": "2812cb56-61ac-4c3e-bafb-127d9bfca9cf",
   "metadata": {},
   "outputs": [],
   "source": [
    "import math\n",
    "\n",
    "def poisson_cdf(k, mean):\n",
    "    cdf = 0.0\n",
    "    for i in range(k + 1):\n",
    "        cdf += math.exp(-mean) * (mean ** i) / math.factorial(i)\n",
    "    return cdf"
   ]
  },
  {
   "cell_type": "code",
   "execution_count": 5,
   "id": "0b60441e-a0d4-4db2-881e-ced1a2163410",
   "metadata": {},
   "outputs": [
    {
     "name": "stdout",
     "output_type": "stream",
     "text": [
      "The CDF at k = 5 is 0.8576135530957782\n"
     ]
    }
   ],
   "source": [
    "mean = 3.5  # Mean of the Poisson distribution\n",
    "k = 5  # Point at which to calculate the CDF\n",
    "\n",
    "cdf_value = poisson_cdf(k, mean)\n",
    "print(f\"The CDF at k = {k} is {cdf_value}\")"
   ]
  },
  {
   "cell_type": "markdown",
   "id": "549fec0a-6093-45e3-b21f-029b1ea09c56",
   "metadata": {},
   "source": [
    "7)"
   ]
  },
  {
   "cell_type": "markdown",
   "id": "addca23d-74c2-4665-a94a-de8a6c215f2f",
   "metadata": {},
   "source": [
    "The Binomial and Poisson distributions are both discrete probability distributions but differ in their assumptions and applications. Here are some key differences between the two distributions:"
   ]
  },
  {
   "cell_type": "markdown",
   "id": "bd9fc3fd-2c3c-4852-a50f-1b4da47db18c",
   "metadata": {},
   "source": [
    "i) Assumptions:                                                                                                     \n",
    "\n",
    "Binomial Distribution: The binomial distribution assumes a fixed number of independent trials, each with two possible outcomes (success or failure). The probability of success remains constant for each trial, and the trials are mutually exclusive.                                                                                             \n",
    "Poisson Distribution: The Poisson distribution assumes an unlimited number of trials (or a very large number of trials) occurring over a continuous interval. The events in the Poisson process are assumed to be rare and independent of each other.                                                                                         "
   ]
  },
  {
   "cell_type": "markdown",
   "id": "c8ab0d1c-9f1e-4846-9831-e1a4ba2baceb",
   "metadata": {},
   "source": [
    "ii) Nature of Events:                                                                                               \n",
    "\n",
    "Binomial Distribution: The binomial distribution is used when the events being modeled are discrete and have two possible outcomes (e.g., success or failure, heads or tails).                                                       \n",
    "Poisson Distribution: The Poisson distribution is used to model the number of events occurring within a fixed interval of time or space, where the events are rare and independent. It is suitable for situations where the events can happen multiple times and at unpredictable intervals.                                                   "
   ]
  },
  {
   "cell_type": "markdown",
   "id": "20b64eec-1751-4d54-9a67-6c55fb6a9fb8",
   "metadata": {},
   "source": [
    "iii) Parameters:                                                                                                   \n",
    "\n",
    "Binomial Distribution: The binomial distribution is characterized by two parameters: the number of trials (n) and the probability of success in each trial (p).                                                                       \n",
    "Poisson Distribution: The Poisson distribution is characterized by a single parameter: the average rate or mean number of events (λ) occurring in the given interval.                                                               "
   ]
  },
  {
   "cell_type": "markdown",
   "id": "ddd20641-bddc-47e5-9ee3-0310ce174fcb",
   "metadata": {},
   "source": [
    "iv) Distribution Shape:                                                                                             \n",
    "\n",
    "Binomial Distribution: The binomial distribution is typically bell-shaped or symmetric when the number of trials is large. As the number of trials increases, it approaches a normal distribution.                                     \n",
    "Poisson Distribution: The Poisson distribution is often skewed and right-tailed. It represents a distribution of rare events with low probabilities.                                                                                 "
   ]
  },
  {
   "cell_type": "markdown",
   "id": "5134daba-8f7f-478c-a187-f3485858eb69",
   "metadata": {},
   "source": [
    "v) Use Cases:                                                                                                       \n",
    "\n",
    "Binomial Distribution: The binomial distribution is used when there are a fixed number of trials, and we are interested in the probability of obtaining a specific number of successes or failures in those trials. It is commonly used in scenarios such as coin flips, Bernoulli trials, and binary outcomes.                               \n",
    "Poisson Distribution: The Poisson distribution is used to model the number of occurrences of rare events, such as the number of phone calls received in a call center in a given minute, the number of accidents on a highway in a day, or the number of emails received per hour. It is suitable for situations where events occur randomly and independently over a continuous interval.                                                                           "
   ]
  },
  {
   "cell_type": "markdown",
   "id": "f7dc4ea3-34ce-4c12-80ee-daf95410764c",
   "metadata": {},
   "source": [
    "8)"
   ]
  },
  {
   "cell_type": "code",
   "execution_count": 6,
   "id": "f8791038-b248-4027-b873-c57e5ba234a1",
   "metadata": {},
   "outputs": [
    {
     "name": "stdout",
     "output_type": "stream",
     "text": [
      "Sample Mean: 5.054\n",
      "Sample Variance: 5.051084\n"
     ]
    }
   ],
   "source": [
    "import numpy as np\n",
    "\n",
    "# Set the parameters\n",
    "sample_size = 1000\n",
    "mean = 5\n",
    "\n",
    "# Generate the random sample\n",
    "sample = np.random.poisson(mean, sample_size)\n",
    "\n",
    "# Calculate the sample mean and variance\n",
    "sample_mean = np.mean(sample)\n",
    "sample_variance = np.var(sample)\n",
    "\n",
    "# Print the results\n",
    "print(f\"Sample Mean: {sample_mean}\")\n",
    "print(f\"Sample Variance: {sample_variance}\")"
   ]
  },
  {
   "cell_type": "markdown",
   "id": "84daed00-31a5-4c77-b222-2d6628f9cd62",
   "metadata": {},
   "source": [
    "9)"
   ]
  },
  {
   "cell_type": "markdown",
   "id": "823be80c-4c91-4fb5-8af2-f9e820014aef",
   "metadata": {},
   "source": [
    "In both the Binomial and Poisson distributions, the mean and variance are related, but the nature of the relationship differs between the two distributions.                                                                 \n",
    "\n",
    "i) Binomial Distribution:                                                                                           \n",
    "\n",
    "Mean: For a binomial distribution, the mean is equal to the product of the number of trials (n) and the probability of success in each trial (p), i.e., mean = n * p.                                                                   \n",
    "Variance: The variance of a binomial distribution is given by the product of the number of trials, the probability of success, and the probability of failure, i.e., variance = n * p * (1 - p).                                       \n",
    "Relationship: In a binomial distribution, the variance is directly related to the mean through the probability of success and the probability of failure. As the probability of success (p) approaches 0 or 1, the variance decreases and approaches 0. Conversely, as the probability of success (p) approaches 0.5, the variance reaches its maximum value when p = 0.5.                                                                                                                                                                                                                     \n",
    "ii) Poisson Distribution:                                                                                           \n",
    "\n",
    "Mean: For a Poisson distribution, the mean (λ) represents the average rate or average number of events occurring in a fixed interval of time or space.                                                                                 \n",
    "Variance: In a Poisson distribution, the variance is equal to the mean, i.e., variance = mean = λ.                 \n",
    "Relationship: The mean and variance in a Poisson distribution are equal, meaning the spread of the distribution is directly related to the average number of events. As the mean (λ) increases, the distribution becomes wider and more spread out.                                                                                                   "
   ]
  },
  {
   "cell_type": "markdown",
   "id": "5e01f00c-f233-4718-9089-4021e22fed37",
   "metadata": {},
   "source": [
    "10)"
   ]
  },
  {
   "cell_type": "markdown",
   "id": "1752a32d-d542-4287-beb4-e0584d25e6f1",
   "metadata": {},
   "source": [
    "In a normal distribution, the least frequent data appears in the tails of the distribution, farthest away from the mean.                                                                                                               \n",
    "\n",
    "In a standard normal distribution (a normal distribution with a mean of 0 and a standard deviation of 1), approximately 68% of the data falls within one standard deviation of the mean, approximately 95% falls within two standard deviations, and approximately 99.7% falls within three standard deviations.                               \n",
    "\n",
    "The remaining portions, which are the tails of the distribution, contain the least frequent data. The left tail contains the data that is smaller than the mean, while the right tail contains the data that is larger than the mean.                                                                                                               \n",
    "\n",
    "The least frequent data, or the extreme values, are found in the tails of the distribution because they are farther away from the central and more common values around the mean. These extreme values represent the outliers or unusual observations in the dataset."
   ]
  },
  {
   "cell_type": "code",
   "execution_count": null,
   "id": "3d409131-b6ff-4069-a9c7-04481b2e4f84",
   "metadata": {},
   "outputs": [],
   "source": []
  }
 ],
 "metadata": {
  "kernelspec": {
   "display_name": "Python 3 (ipykernel)",
   "language": "python",
   "name": "python3"
  },
  "language_info": {
   "codemirror_mode": {
    "name": "ipython",
    "version": 3
   },
   "file_extension": ".py",
   "mimetype": "text/x-python",
   "name": "python",
   "nbconvert_exporter": "python",
   "pygments_lexer": "ipython3",
   "version": "3.10.8"
  }
 },
 "nbformat": 4,
 "nbformat_minor": 5
}
