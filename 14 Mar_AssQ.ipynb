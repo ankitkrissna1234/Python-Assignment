{
 "cells": [
  {
   "cell_type": "markdown",
   "id": "f4eaac2d-4ead-4f7c-8e72-c7952ec7c3d9",
   "metadata": {},
   "source": [
    "1)"
   ]
  },
  {
   "cell_type": "code",
   "execution_count": 3,
   "id": "9d5d678d-c339-447f-a3e7-9003c5281cda",
   "metadata": {},
   "outputs": [],
   "source": [
    "import numpy as np\n",
    "from scipy.stats import f_oneway\n",
    "\n",
    "def calculate_f_value(arr1, arr2):\n",
    "    \"\"\"\n",
    "    Calculates the F-value and p-value for a variance ratio test.\n",
    "\n",
    "    Parameters:\n",
    "    - arr1: First array of data.\n",
    "    - arr2: Second array of data.\n",
    "\n",
    "    Returns:\n",
    "    - f_value: The F-value.\n",
    "    - p_value: The p-value.\n",
    "    \"\"\"\n",
    "    f_value, p_value = f_oneway(arr1, arr2)\n",
    "    return f_value, p_value"
   ]
  },
  {
   "cell_type": "code",
   "execution_count": 4,
   "id": "29dddc21-e27b-4cf1-acbd-14c3518dba2e",
   "metadata": {},
   "outputs": [],
   "source": [
    "arr1 = np.random.rand(10)\n",
    "arr2 = np.random.rand(10)"
   ]
  },
  {
   "cell_type": "code",
   "execution_count": 6,
   "id": "f447851d-320f-498c-af2e-012f044a9063",
   "metadata": {},
   "outputs": [
    {
     "data": {
      "text/plain": [
       "(1.2631999275529786, 0.27581247063680775)"
      ]
     },
     "execution_count": 6,
     "metadata": {},
     "output_type": "execute_result"
    }
   ],
   "source": [
    "calculate_f_value(arr1,arr2)"
   ]
  },
  {
   "cell_type": "markdown",
   "id": "a721f6c9-9476-4a04-ae13-6cddbb7fb7fb",
   "metadata": {},
   "source": [
    "2)"
   ]
  },
  {
   "cell_type": "code",
   "execution_count": 7,
   "id": "7e721698-c175-4995-80c3-df1f64a1bc2b",
   "metadata": {},
   "outputs": [],
   "source": [
    "from scipy.stats import f\n",
    "\n",
    "def calculate_critical_f_value(alpha, dfn, dfd):\n",
    "    \"\"\"\n",
    "    Calculates the critical F-value for a two-tailed test.\n",
    "\n",
    "    Parameters:\n",
    "    - alpha: Significance level.\n",
    "    - dfn: Degrees of freedom for the numerator.\n",
    "    - dfd: Degrees of freedom for the denominator.\n",
    "\n",
    "    Returns:\n",
    "    - critical_f_value: The critical F-value.\n",
    "    \"\"\"\n",
    "    critical_f_value = f.ppf(1 - alpha/2, dfn, dfd)\n",
    "    return critical_f_value"
   ]
  },
  {
   "cell_type": "markdown",
   "id": "9557b79c-9f95-4c9b-943d-e74ec6a64900",
   "metadata": {},
   "source": [
    "3)"
   ]
  },
  {
   "cell_type": "code",
   "execution_count": 2,
   "id": "477ed23d-2acb-46db-9fc4-203bbba5ffb6",
   "metadata": {},
   "outputs": [
    {
     "name": "stdout",
     "output_type": "stream",
     "text": [
      "F-value: 1.108631335603457\n",
      "Degrees of freedom (numerator): 99\n",
      "Degrees of freedom (denominator): 99\n",
      "p-value: 0.6089033082129635\n"
     ]
    }
   ],
   "source": [
    "import numpy as np\n",
    "from scipy.stats import f\n",
    "\n",
    "def perform_variance_test(sample1, sample2):\n",
    "    \"\"\"\n",
    "    Performs an F-test to determine if the variances of two samples are equal.\n",
    "\n",
    "    Parameters:\n",
    "    - sample1: First sample.\n",
    "    - sample2: Second sample.\n",
    "\n",
    "    Returns:\n",
    "    - f_value: The F-value.\n",
    "    - dfn: Degrees of freedom numerator.\n",
    "    - dfd: Degrees of freedom denominator.\n",
    "    - p_value: The p-value.\n",
    "    \"\"\"\n",
    "    var1 = np.var(sample1, ddof=1)  # Variance of sample1\n",
    "    var2 = np.var(sample2, ddof=1)  # Variance of sample2\n",
    "\n",
    "    dfn = len(sample1) - 1  # Degrees of freedom numerator\n",
    "    dfd = len(sample2) - 1  # Degrees of freedom denominator\n",
    "\n",
    "    f_value = var1 / var2 if var1 > var2 else var2 / var1  # F-value\n",
    "    p_value = f.sf(f_value, dfn, dfd) * 2  # Two-tailed p-value\n",
    "\n",
    "    return f_value, dfn, dfd, p_value\n",
    "\n",
    "\n",
    "# Generate random samples from two normal distributions\n",
    "np.random.seed(1)\n",
    "sample1 = np.random.normal(loc=0, scale=1, size=100)\n",
    "sample2 = np.random.normal(loc=0, scale=1, size=100)\n",
    "\n",
    "# Perform variance test\n",
    "f_value, dfn, dfd, p_value = perform_variance_test(sample1, sample2)\n",
    "\n",
    "# Output the results\n",
    "print(\"F-value:\", f_value)\n",
    "print(\"Degrees of freedom (numerator):\", dfn)\n",
    "print(\"Degrees of freedom (denominator):\", dfd)\n",
    "print(\"p-value:\", p_value)"
   ]
  },
  {
   "cell_type": "markdown",
   "id": "73d553b5-0575-45a9-abd7-4b383cff6fc2",
   "metadata": {},
   "source": [
    "4)"
   ]
  },
  {
   "cell_type": "code",
   "execution_count": 3,
   "id": "531154c2-5eb2-4cb2-8290-492e99258f10",
   "metadata": {},
   "outputs": [
    {
     "name": "stdout",
     "output_type": "stream",
     "text": [
      "F-value: 1.5\n",
      "p-value: 0.5123897987357996\n",
      "Fail to reject null hypothesis. Variances are not significantly different.\n"
     ]
    }
   ],
   "source": [
    "from scipy.stats import f\n",
    "\n",
    "def perform_f_test(variance1, variance2, sample_size1, sample_size2, alpha):\n",
    "    \"\"\"\n",
    "    Performs an F-test to determine if the variances of two populations are significantly different.\n",
    "\n",
    "    Parameters:\n",
    "    - variance1: Variance of population 1.\n",
    "    - variance2: Variance of population 2.\n",
    "    - sample_size1: Sample size of population 1.\n",
    "    - sample_size2: Sample size of population 2.\n",
    "    - alpha: Significance level.\n",
    "\n",
    "    Returns:\n",
    "    - f_value: The calculated F-value.\n",
    "    - p_value: The calculated p-value.\n",
    "    \"\"\"\n",
    "    dfn = sample_size1 - 1  # Degrees of freedom numerator\n",
    "    dfd = sample_size2 - 1  # Degrees of freedom denominator\n",
    "\n",
    "    f_value = variance1 / variance2 if variance1 > variance2 else variance2 / variance1  # Calculated F-value\n",
    "    p_value = f.sf(f_value, dfn, dfd)  # One-tailed p-value\n",
    "\n",
    "    p_value *= 2  # Convert to two-tailed p-value\n",
    "\n",
    "    return f_value, p_value\n",
    "\n",
    "\n",
    "# Given information\n",
    "variance1 = 10\n",
    "variance2 = 15\n",
    "sample_size1 = 12\n",
    "sample_size2 = 12\n",
    "alpha = 0.05\n",
    "\n",
    "# Perform F-test\n",
    "f_value, p_value = perform_f_test(variance1, variance2, sample_size1, sample_size2, alpha)\n",
    "\n",
    "# Check if p-value is less than the significance level\n",
    "if p_value < alpha:\n",
    "    result = \"Reject null hypothesis. Variances are significantly different.\"\n",
    "else:\n",
    "    result = \"Fail to reject null hypothesis. Variances are not significantly different.\"\n",
    "\n",
    "# Output the results\n",
    "print(\"F-value:\", f_value)\n",
    "print(\"p-value:\", p_value)\n",
    "print(result)"
   ]
  },
  {
   "cell_type": "markdown",
   "id": "4ebacd49-b0db-4353-80a8-ac4cf143f48a",
   "metadata": {},
   "source": [
    "5)"
   ]
  },
  {
   "cell_type": "code",
   "execution_count": 4,
   "id": "01bb8b40-2570-4020-80c6-c42955b3c4bc",
   "metadata": {},
   "outputs": [
    {
     "name": "stdout",
     "output_type": "stream",
     "text": [
      "F-value: 1.2\n",
      "p-value: 0.6587309365634489\n",
      "Fail to reject null hypothesis. Claimed variance is justified.\n"
     ]
    }
   ],
   "source": [
    "from scipy.stats import f\n",
    "\n",
    "def perform_f_test(claimed_variance, sample_variance, sample_size, alpha):\n",
    "    \"\"\"\n",
    "    Performs an F-test to determine if the claimed variance is justified based on the sample variance.\n",
    "\n",
    "    Parameters:\n",
    "    - claimed_variance: The claimed variance.\n",
    "    - sample_variance: The sample variance.\n",
    "    - sample_size: The sample size.\n",
    "    - alpha: Significance level.\n",
    "\n",
    "    Returns:\n",
    "    - f_value: The calculated F-value.\n",
    "    - p_value: The calculated p-value.\n",
    "    \"\"\"\n",
    "    dfn = sample_size - 1  # Degrees of freedom numerator\n",
    "    dfd = sample_size - 1  # Degrees of freedom denominator\n",
    "\n",
    "    f_value = sample_variance / claimed_variance  # Calculated F-value\n",
    "    p_value = f.sf(f_value, dfn, dfd)  # One-tailed p-value\n",
    "\n",
    "    p_value *= 2  # Convert to two-tailed p-value\n",
    "\n",
    "    return f_value, p_value\n",
    "\n",
    "\n",
    "# Given information\n",
    "claimed_variance = 0.005\n",
    "sample_variance = 0.006\n",
    "sample_size = 25\n",
    "alpha = 0.01\n",
    "\n",
    "# Perform F-test\n",
    "f_value, p_value = perform_f_test(claimed_variance, sample_variance, sample_size, alpha)\n",
    "\n",
    "# Check if p-value is less than the significance level\n",
    "if p_value < alpha:\n",
    "    result = \"Reject null hypothesis. Claimed variance is not justified.\"\n",
    "else:\n",
    "    result = \"Fail to reject null hypothesis. Claimed variance is justified.\"\n",
    "\n",
    "# Output the results\n",
    "print(\"F-value:\", f_value)\n",
    "print(\"p-value:\", p_value)\n",
    "print(result)"
   ]
  },
  {
   "cell_type": "markdown",
   "id": "b89b6ad6-364d-4610-83ba-1dbfeec19fe8",
   "metadata": {},
   "source": [
    "6)"
   ]
  },
  {
   "cell_type": "markdown",
   "id": "2f081a57-fb4d-4d44-9a73-faad872ce78b",
   "metadata": {},
   "source": [
    "def calculate_f_distribution_mean_variance(dfn, dfd):\n",
    "    \"\"\"\n",
    "    Calculates the mean and variance of an F-distribution.\n",
    "\n",
    "    Parameters:\n",
    "    - dfn: Degrees of freedom numerator.\n",
    "    - dfd: Degrees of freedom denominator.\n",
    "\n",
    "    Returns:\n",
    "    - mean: Mean of the F-distribution.\n",
    "    - variance: Variance of the F-distribution.\n",
    "    \"\"\"\n",
    "    if dfn <= 2 and dfd > 2:\n",
    "        mean = dfd / (dfd - 2)\n",
    "        variance = (2 * dfd**2 * (dfn + dfd - 2)) / (dfn * (dfd - 2)**2 * (dfd - 4))\n",
    "    elif dfn > 2 and dfd > 2:\n",
    "        mean = dfd / (dfd - 2)\n",
    "        variance = (2 * dfd**2 * (dfn + dfd - 2)) / (dfn * (dfd - 2)**2 * (dfd - 4))\n",
    "    else:\n",
    "        mean = float('NaN')\n",
    "        variance = float('NaN')\n",
    "    \n",
    "    return mean, variance"
   ]
  },
  {
   "cell_type": "code",
   "execution_count": 6,
   "id": "921d1ce2-8be2-408c-8e30-fec8ae72ce31",
   "metadata": {},
   "outputs": [
    {
     "data": {
      "text/plain": [
       "(1.0206185567010309, 0.04341643778912687)"
      ]
     },
     "execution_count": 6,
     "metadata": {},
     "output_type": "execute_result"
    }
   ],
   "source": [
    "calculate_f_distribution_mean_variance(dfn, dfd)"
   ]
  },
  {
   "cell_type": "markdown",
   "id": "a45c82b6-4671-466c-b063-e52c0f60ea72",
   "metadata": {},
   "source": [
    "7)"
   ]
  },
  {
   "cell_type": "code",
   "execution_count": 7,
   "id": "398b9a53-e303-40d4-8838-0247cab1b742",
   "metadata": {},
   "outputs": [
    {
     "name": "stdout",
     "output_type": "stream",
     "text": [
      "F-value: 1.25\n",
      "p-value: 0.6832194382585949\n",
      "Fail to reject null hypothesis. Variances are not significantly different.\n"
     ]
    }
   ],
   "source": [
    "from scipy.stats import f\n",
    "\n",
    "def perform_f_test(sample_variance1, sample_variance2, sample_size1, sample_size2, alpha):\n",
    "    \"\"\"\n",
    "    Performs an F-test to determine if the variances of two populations are significantly different.\n",
    "\n",
    "    Parameters:\n",
    "    - sample_variance1: Sample variance of population 1.\n",
    "    - sample_variance2: Sample variance of population 2.\n",
    "    - sample_size1: Sample size of population 1.\n",
    "    - sample_size2: Sample size of population 2.\n",
    "    - alpha: Significance level.\n",
    "\n",
    "    Returns:\n",
    "    - f_value: The calculated F-value.\n",
    "    - p_value: The calculated p-value.\n",
    "    \"\"\"\n",
    "    dfn = sample_size1 - 1  # Degrees of freedom numerator\n",
    "    dfd = sample_size2 - 1  # Degrees of freedom denominator\n",
    "\n",
    "    f_value = sample_variance1 / sample_variance2  # Calculated F-value\n",
    "    p_value = f.sf(f_value, dfn, dfd)  # One-tailed p-value\n",
    "\n",
    "    p_value *= 2  # Convert to two-tailed p-value\n",
    "\n",
    "    return f_value, p_value\n",
    "\n",
    "\n",
    "# Given information\n",
    "sample_variance1 = 25\n",
    "sample_variance2 = 20\n",
    "sample_size1 = 10\n",
    "sample_size2 = 15\n",
    "alpha = 0.10\n",
    "\n",
    "# Perform F-test\n",
    "f_value, p_value = perform_f_test(sample_variance1, sample_variance2, sample_size1, sample_size2, alpha)\n",
    "\n",
    "# Check if p-value is less than the significance level\n",
    "if p_value < alpha:\n",
    "    result = \"Reject null hypothesis. Variances are significantly different.\"\n",
    "else:\n",
    "    result = \"Fail to reject null hypothesis. Variances are not significantly different.\"\n",
    "\n",
    "# Output the results\n",
    "print(\"F-value:\", f_value)\n",
    "print(\"p-value:\", p_value)\n",
    "print(result)"
   ]
  },
  {
   "cell_type": "markdown",
   "id": "2a5f34e2-c856-4ad8-92d0-ba8584e394dd",
   "metadata": {},
   "source": [
    "8)"
   ]
  },
  {
   "cell_type": "code",
   "execution_count": 8,
   "id": "3155e896-8b51-4744-a187-4421287f512c",
   "metadata": {},
   "outputs": [
    {
     "name": "stdout",
     "output_type": "stream",
     "text": [
      "F-value: 1.4551907719609583\n",
      "p-value: 0.6974815747937483\n",
      "Fail to reject null hypothesis. Variances are not significantly different.\n"
     ]
    }
   ],
   "source": [
    "from scipy.stats import f\n",
    "\n",
    "def perform_f_test(data1, data2, alpha):\n",
    "    \"\"\"\n",
    "    Performs an F-test to determine if the variances of two data sets are significantly different.\n",
    "\n",
    "    Parameters:\n",
    "    - data1: Data set 1.\n",
    "    - data2: Data set 2.\n",
    "    - alpha: Significance level.\n",
    "\n",
    "    Returns:\n",
    "    - f_value: The calculated F-value.\n",
    "    - p_value: The calculated p-value.\n",
    "    \"\"\"\n",
    "    sample_variance1 = sum((x - sum(data1) / len(data1))**2 for x in data1) / (len(data1) - 1)\n",
    "    sample_variance2 = sum((x - sum(data2) / len(data2))**2 for x in data2) / (len(data2) - 1)\n",
    "\n",
    "    dfn = len(data1) - 1  # Degrees of freedom numerator\n",
    "    dfd = len(data2) - 1  # Degrees of freedom denominator\n",
    "\n",
    "    f_value = sample_variance1 / sample_variance2  # Calculated F-value\n",
    "    p_value = f.sf(f_value, dfn, dfd)  # One-tailed p-value\n",
    "\n",
    "    p_value *= 2  # Convert to two-tailed p-value\n",
    "\n",
    "    return f_value, p_value\n",
    "\n",
    "\n",
    "# Given data\n",
    "data1 = [24, 25, 28, 23, 22, 20, 27]  # Restaurant A\n",
    "data2 = [31, 33, 35, 30, 32, 36]  # Restaurant B\n",
    "alpha = 0.05\n",
    "\n",
    "# Perform F-test\n",
    "f_value, p_value = perform_f_test(data1, data2, alpha)\n",
    "\n",
    "# Check if p-value is less than the significance level\n",
    "if p_value < alpha:\n",
    "    result = \"Reject null hypothesis. Variances are significantly different.\"\n",
    "else:\n",
    "    result = \"Fail to reject null hypothesis. Variances are not significantly different.\"\n",
    "\n",
    "# Output the results\n",
    "print(\"F-value:\", f_value)\n",
    "print(\"p-value:\", p_value)\n",
    "print(result)"
   ]
  },
  {
   "cell_type": "markdown",
   "id": "a4c2d1e7-8739-4c2f-8581-9bd3711e23b9",
   "metadata": {},
   "source": [
    "9)"
   ]
  },
  {
   "cell_type": "code",
   "execution_count": 9,
   "id": "8cbd332e-8c89-4226-bca5-4f374278b3cd",
   "metadata": {},
   "outputs": [
    {
     "name": "stdout",
     "output_type": "stream",
     "text": [
      "F-value: 1.9442622950819677\n",
      "p-value: 0.4831043549070688\n",
      "Fail to reject null hypothesis. Variances are not significantly different.\n"
     ]
    }
   ],
   "source": [
    "from scipy.stats import f\n",
    "\n",
    "def perform_f_test(data1, data2, alpha):\n",
    "    \"\"\"\n",
    "    Performs an F-test to determine if the variances of two data sets are significantly different.\n",
    "\n",
    "    Parameters:\n",
    "    - data1: Data set 1.\n",
    "    - data2: Data set 2.\n",
    "    - alpha: Significance level.\n",
    "\n",
    "    Returns:\n",
    "    - f_value: The calculated F-value.\n",
    "    - p_value: The calculated p-value.\n",
    "    \"\"\"\n",
    "    sample_variance1 = sum((x - sum(data1) / len(data1))**2 for x in data1) / (len(data1) - 1)\n",
    "    sample_variance2 = sum((x - sum(data2) / len(data2))**2 for x in data2) / (len(data2) - 1)\n",
    "\n",
    "    dfn = len(data1) - 1  # Degrees of freedom numerator\n",
    "    dfd = len(data2) - 1  # Degrees of freedom denominator\n",
    "\n",
    "    f_value = sample_variance1 / sample_variance2  # Calculated F-value\n",
    "    p_value = f.sf(f_value, dfn, dfd)  # One-tailed p-value\n",
    "\n",
    "    p_value *= 2  # Convert to two-tailed p-value\n",
    "\n",
    "    return f_value, p_value\n",
    "\n",
    "\n",
    "# Given data\n",
    "data1 = [80, 85, 90, 92, 87, 83]  # Group A\n",
    "data2 = [75, 78, 82, 79, 81, 84]  # Group B\n",
    "alpha = 0.01\n",
    "\n",
    "# Perform F-test\n",
    "f_value, p_value = perform_f_test(data1, data2, alpha)\n",
    "\n",
    "# Check if p-value is less than the significance level\n",
    "if p_value < alpha:\n",
    "    result = \"Reject null hypothesis. Variances are significantly different.\"\n",
    "else:\n",
    "    result = \"Fail to reject null hypothesis. Variances are not significantly different.\"\n",
    "\n",
    "# Output the results\n",
    "print(\"F-value:\", f_value)\n",
    "print(\"p-value:\", p_value)\n",
    "print(result)"
   ]
  }
 ],
 "metadata": {
  "kernelspec": {
   "display_name": "Python 3 (ipykernel)",
   "language": "python",
   "name": "python3"
  },
  "language_info": {
   "codemirror_mode": {
    "name": "ipython",
    "version": 3
   },
   "file_extension": ".py",
   "mimetype": "text/x-python",
   "name": "python",
   "nbconvert_exporter": "python",
   "pygments_lexer": "ipython3",
   "version": "3.10.8"
  }
 },
 "nbformat": 4,
 "nbformat_minor": 5
}
