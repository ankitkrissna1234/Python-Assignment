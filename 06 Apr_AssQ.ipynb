{
 "cells": [
  {
   "cell_type": "markdown",
   "id": "68bd2b3d-48d6-44b6-b12d-0efc18e6b1b7",
   "metadata": {},
   "source": [
    "# 1)"
   ]
  },
  {
   "cell_type": "markdown",
   "id": "78b64bae-b1a6-4fc4-a87e-ad461139b821",
   "metadata": {},
   "source": [
    "The mathematical formula for a linear Support Vector Machine (SVM) can be expressed as follows:                         \n",
    "\n",
    "Given a training dataset with input vectors x_i (i = 1, 2, ..., N) and corresponding target values y_i (-1 or 1), the goal of a linear SVM is to find a hyperplane that separates the input vectors into different classes with the maximum margin.                                                                                                                 \n",
    "\n",
    "The hyperplane equation can be represented as:                                                                         \n",
    "\n",
    "w^T x + b = 0                                                                                                           \n",
    "\n",
    "where:                                                                                                                 \n",
    "\n",
    "w is a weight vector perpendicular to the hyperplane,                                                                   \n",
    "x is the input vector,                                                                                                 \n",
    "b is the bias term, and                                                                                                 \n",
    "^T denotes the transpose operation.                                                                                     \n",
    "The decision function of the SVM can be written as:                                                                     \n",
    "\n",
    "f(x) = sign(w^T x + b)                                                                                                 \n",
    "\n",
    "The SVM aims to find the optimal values of w and b by solving an optimization problem, which can be formulated as a constrained quadratic programming (QP) problem. The objective is to maximize the margin while minimizing the classification error.                                                                                                   \n",
    "\n",
    "The optimization problem can be expressed as:                                                                           \n",
    " \n",
    "minimize: 0.5 * ||w||^2 + C * Σ(max(0, 1 - y_i * (w^T x_i + b)))                                                       \n",
    "subject to: y_i * (w^T x_i + b) >= 1, for all i = 1, 2, ..., N                                                         \n",
    "\n",
    "In the objective function, ||w||^2 represents the L2 norm (squared) of the weight vector, and C is a regularization parameter that controls the trade-off between maximizing the margin and allowing some misclassifications. The term Σ(max(0, 1 - y_i * (w^T x_i + b))) represents the hinge loss function, which penalizes misclassified samples.           \n",
    "\n",
    "The constraints ensure that all samples are correctly classified with a margin greater than or equal to 1. The sign function in the decision function assigns a class label of -1 or 1 based on the sign of the linear function w^T x + b. \n",
    "\n",
    "To solve the optimization problem, various algorithms, such as the Sequential Minimal Optimization (SMO) or the gradient descent method, can be used. These algorithms find the optimal values of w and b that minimize the objective function while satisfying the constraints."
   ]
  },
  {
   "cell_type": "markdown",
   "id": "a13b0137-73ec-4be4-8202-ee6f3ecceb3a",
   "metadata": {},
   "source": [
    "# 2)"
   ]
  },
  {
   "cell_type": "markdown",
   "id": "b2941ca8-9c12-4857-bb7e-1034fae1e778",
   "metadata": {},
   "source": [
    "The objective function of a linear Support Vector Machine (SVM) is formulated to maximize the margin while minimizing the classification error. The objective function consists of two components: a regularization term and a hinge loss term.                                                                                                                   \n",
    "\n",
    "The objective function of a linear SVM can be written as:                                                               \n",
    "\n",
    "minimize: 0.5 * ||w||^2 + C * Σ(max(0, 1 - y_i * (w^T x_i + b)))                                                       \n",
    "\n",
    "In this equation:\n",
    "\n",
    "- ||w||^2 represents the L2 norm (squared) of the weight vector w. It penalizes large values of w and helps to achieve a larger margin.\n",
    "- C is a regularization parameter that controls the trade-off between maximizing the margin and allowing some misclassifications. It determines the importance of the hinge loss term in the objective function. A larger value of C gives more weight to the hinge loss term, leading to a smaller margin and potentially fewer misclassifications.\n",
    "- Σ(max(0, 1 - y_i * (w^T x_i + b))) is the hinge loss term. It calculates the loss for each misclassified sample. If a sample is correctly classified, the loss is zero. If a sample is misclassified, the loss is proportional to the distance between the sample and the margin.\n",
    "\n",
    "The hinge loss function max(0, 1 - y_i * (w^T x_i + b)) penalizes misclassifications by measuring the degree to which a sample violates the margin. If a sample is on or beyond the margin boundary, the loss is positive and increases as the sample moves further away from the correct side of the margin. If a sample is correctly classified with a margin greater than 1, the loss is zero.                                                                                       \n",
    "\n",
    "The objective function aims to find the values of w and b that minimize the regularization term (||w||^2) while simultaneously minimizing the hinge loss term. This results in a hyperplane that maximizes the margin between classes while ensuring correct classification or minimizing misclassifications."
   ]
  },
  {
   "cell_type": "markdown",
   "id": "bf058731-fa75-4ee1-9730-dd8027922c00",
   "metadata": {},
   "source": [
    "# 3)"
   ]
  },
  {
   "cell_type": "markdown",
   "id": "f81b3a32-d2b5-4d09-9439-71309f21db3a",
   "metadata": {},
   "source": [
    "The kernel trick is a technique used in Support Vector Machines (SVMs) to implicitly transform the input data into a higher-dimensional feature space without explicitly calculating the transformed features. It allows SVMs to efficiently handle nonlinearly separable data by effectively finding nonlinear decision boundaries.                                 \n",
    "\n",
    "In a standard linear SVM, the decision boundary is a hyperplane in the original input space. However, for complex or nonlinear data, a linear decision boundary may not be sufficient to accurately classify the data points. The kernel trick provides a way to map the input data into a higher-dimensional feature space where linear separation becomes possible.                                                                                                               \n",
    "\n",
    "The key idea behind the kernel trick is to use a kernel function that computes the dot product between the transformed feature vectors in the higher-dimensional space directly, without explicitly computing the transformed features. This avoids the computational burden of explicitly mapping the data into the higher-dimensional space.                       \n",
    "\n",
    "Mathematically, given a kernel function K(x, x'), the decision function of a kernel SVM can be written as:             \n",
    "\n",
    "f(x) = sign(Σ α_i y_i K(x_i, x) + b)                                                                                   \n",
    "\n",
    "where:\n",
    "\n",
    "- α_i are the coefficients determined during the SVM training,\n",
    "- y_i are the target values (-1 or 1) of the training samples,\n",
    "- x_i are the support vectors in the training set, and\n",
    "- b is the bias term.\n",
    "\n",
    "The kernel function K(x, x') implicitly computes the dot product between the transformed feature vectors φ(x) and φ(x') in the higher-dimensional feature space:                                                                               \n",
    "\n",
    "K(x, x') = φ(x)^T φ(x')                                                                                                 \n",
    "\n",
    "By using an appropriate kernel function, such as the radial basis function (RBF) kernel or the polynomial kernel, the SVM can effectively model complex decision boundaries in the original input space.                                     \n",
    "\n",
    "The kernel trick enables SVMs to handle nonlinear data without explicitly transforming the data into a higher-dimensional space. It allows SVMs to take advantage of the efficient computation of dot products in the input space while capturing complex patterns and achieving high classification accuracy."
   ]
  },
  {
   "cell_type": "markdown",
   "id": "a349ddf2-e311-4b0d-931f-df747eb9bc75",
   "metadata": {},
   "source": [
    "# 4)"
   ]
  },
  {
   "cell_type": "markdown",
   "id": "8be50fb3-0117-482c-8cf7-cd248ace3796",
   "metadata": {},
   "source": [
    "Support vectors play a crucial role in Support Vector Machines (SVMs). They are the data points from the training set that lie closest to the decision boundary, and they determine the position and orientation of the decision boundary.    The name \"support vector\" arises from the fact that these points support the construction of the decision boundary.     \n",
    "\n",
    "When training an SVM, the algorithm identifies a subset of training samples that serve as support vectors. These support vectors have the property that they lie either on the margin boundary or within the margin region. Support vectors are critical because they define the decision boundary and affect the generalization performance of the SVM.   \n",
    "\n",
    "Here's an example to illustrate the role of support vectors in SVM:                                                     \n",
    "\n",
    "Suppose you have a dataset with two classes, represented as circles and squares. The goal is to find a decision boundary that separates the two classes. In a linear SVM, this boundary will be a hyperplane."
   ]
  },
  {
   "cell_type": "markdown",
   "id": "115906a0-4d07-4fec-af7a-43dd99290a18",
   "metadata": {},
   "source": [
    "#  5)"
   ]
  },
  {
   "cell_type": "markdown",
   "id": "d9a9e644-8d23-476d-b780-bd684598f4bf",
   "metadata": {},
   "source": [
    "Certainly! Let's illustrate the concepts of the hyperplane, marginal plane, soft margin, and hard margin in SVM using an example with two classes: circles and squares.                                                                       \n",
    "\n",
    "First, let's start with a scenario where the data is linearly separable, allowing for a hard margin SVM.               \n",
    "\n",
    "Example 1: Hard Margin SVM (Linearly Separable Data)                                                                   \n",
    "\n",
    "In this example, we have two classes: circles and squares, with a clear linear separation.                             "
   ]
  },
  {
   "cell_type": "markdown",
   "id": "fa05620a-a28c-48fd-87b3-1c5398ea1596",
   "metadata": {},
   "source": [
    "The solid line represents the hyperplane, which is the decision boundary separating the two classes. It is determined by the support vectors, which are indicated by the filled circles and squares directly on or closest to the margin.     \n",
    "\n",
    "The dashed lines on either side of the hyperplane represent the marginal planes, which are parallel to the hyperplane and at a distance of one margin from it. The margin is the distance between the hyperplane and the nearest support vectors.                                                                                                               \n",
    "\n",
    "In this case, the margin is maximized, and the SVM aims to find the hyperplane that separates the classes with the largest possible margin. Any points outside the margin are correctly classified and do not affect the decision boundary.                                                                                                               \n",
    "\n",
    "Example 2: Soft Margin SVM (Nonlinearly Separable Data)                                                                 \n",
    "\n",
    "Now let's consider a scenario where the data is not linearly separable, requiring a soft margin SVM.\n",
    "\n"
   ]
  },
  {
   "cell_type": "markdown",
   "id": "50f47884-ec05-4f7f-9b7c-ea99c6e978a6",
   "metadata": {},
   "source": [
    "In this example, there is no linear hyperplane that can perfectly separate the two classes. Some data points from one class lie within the margin of the other class.                                                                         \n",
    "\n",
    "To handle such cases, a soft margin SVM allows for some misclassifications and overlapping of the margin to achieve a better overall classification. The misclassified points and the ones within the margin contribute to the loss in the objective function.                                                                                                     \n",
    "\n",
    "In the graph, the solid line still represents the hyperplane, but some data points now fall within the margin or even on the wrong side of the margin. These points are known as slack variables and are denoted by the filled circles and squares.                                                                                                               \n",
    "\n",
    "The soft margin SVM aims to find a balance between maximizing the margin and allowing some misclassifications. The regularization parameter C controls this trade-off. A smaller C value allows for more misclassifications but a larger margin, while a larger C value reduces misclassifications at the cost of a smaller margin.                             \n",
    "\n",
    "The soft margin SVM is more flexible and robust when dealing with real-world data that may contain noise or outliers."
   ]
  },
  {
   "cell_type": "markdown",
   "id": "dfffd523-6b2b-4389-9531-19f3e1612756",
   "metadata": {},
   "source": [
    "# 6)"
   ]
  },
  {
   "cell_type": "code",
   "execution_count": 1,
   "id": "ed4cb570-6094-468e-8ca7-3ac32d342be1",
   "metadata": {},
   "outputs": [
    {
     "name": "stdout",
     "output_type": "stream",
     "text": [
      "Accuracy: 0.9\n"
     ]
    },
    {
     "data": {
      "image/png": "[encoded data removed]",
      "text/plain": [
       "<Figure size 1000x600 with 1 Axes>"
      ]
     },
     "metadata": {},
     "output_type": "display_data"
    },
    {
     "name": "stdout",
     "output_type": "stream",
     "text": [
      "Accuracy (C=0.1): 0.8333333333333334\n",
      "Accuracy (C=1): 0.9\n",
      "Accuracy (C=10): 0.9\n",
      "Accuracy (C=100): 0.9\n"
     ]
    }
   ],
   "source": [
    "import matplotlib.pyplot as plt\n",
    "import numpy as np\n",
    "from sklearn import datasets\n",
    "from sklearn.model_selection import train_test_split\n",
    "from sklearn.svm import SVC\n",
    "from sklearn.metrics import accuracy_score\n",
    "\n",
    "\n",
    "# Load the Iris dataset\n",
    "iris = datasets.load_iris()\n",
    "X = iris.data[:, :2]  # Selecting only the first two features for visualization purposes\n",
    "y = iris.target\n",
    "\n",
    "# Split the dataset into training and testing sets\n",
    "X_train, X_test, y_train, y_test = train_test_split(X, y, test_size=0.2, random_state=42)\n",
    "\n",
    "# Train a linear SVM classifier\n",
    "svm = SVC(kernel='linear')\n",
    "svm.fit(X_train, y_train)\n",
    "\n",
    "# Predict labels for the testing set\n",
    "y_pred = svm.predict(X_test)\n",
    "\n",
    "# Compute the accuracy of the model on the testing set\n",
    "accuracy = accuracy_score(y_test, y_pred)\n",
    "print(\"Accuracy:\", accuracy)\n",
    "\n",
    "# Plot the decision boundaries\n",
    "x_min, x_max = X[:, 0].min() - 1, X[:, 0].max() + 1\n",
    "y_min, y_max = X[:, 1].min() - 1, X[:, 1].max() + 1\n",
    "h = 0.02  # step size in the mesh\n",
    "xx, yy = np.meshgrid(np.arange(x_min, x_max, h), np.arange(y_min, y_max, h))\n",
    "\n",
    "Z = svm.predict(np.c_[xx.ravel(), yy.ravel()])\n",
    "Z = Z.reshape(xx.shape)\n",
    "\n",
    "plt.figure(figsize=(10, 6))\n",
    "plt.contourf(xx, yy, Z, cmap=plt.cm.Paired, alpha=0.8)\n",
    "plt.scatter(X[:, 0], X[:, 1], c=y, cmap=plt.cm.Paired)\n",
    "plt.xlabel('Sepal length')\n",
    "plt.ylabel('Sepal width')\n",
    "plt.title('SVM Decision Boundaries')\n",
    "plt.show()\n",
    "\n",
    "# Try different values of the regularization parameter C\n",
    "C_values = [0.1, 1, 10, 100]\n",
    "for C in C_values:\n",
    "    svm = SVC(kernel='linear', C=C)\n",
    "    svm.fit(X_train, y_train)\n",
    "    y_pred = svm.predict(X_test)\n",
    "    accuracy = accuracy_score(y_test, y_pred)\n",
    "    print(\"Accuracy (C={}): {}\".format(C, accuracy))"
   ]
  },
  {
   "cell_type": "markdown",
   "id": "be2b6546-6cf6-40e9-8264-67173f702e3d",
   "metadata": {},
   "source": [
    "# Bouns task:"
   ]
  },
  {
   "cell_type": "code",
   "execution_count": 2,
   "id": "72ec7d81-7295-46fc-90de-23cfc2192805",
   "metadata": {},
   "outputs": [
    {
     "name": "stdout",
     "output_type": "stream",
     "text": [
      "Custom LinearSVM Accuracy: 0.3\n",
      "Scikit-learn LinearSVM Accuracy: 0.9\n"
     ]
    }
   ],
   "source": [
    "import numpy as np\n",
    "\n",
    "\n",
    "class LinearSVM:\n",
    "    def __init__(self, learning_rate=0.001, num_iterations=1000, C=1.0):\n",
    "        self.learning_rate = learning_rate\n",
    "        self.num_iterations = num_iterations\n",
    "        self.C = C\n",
    "        self.w = None\n",
    "        self.b = None\n",
    "\n",
    "    def fit(self, X, y):\n",
    "        n_samples, n_features = X.shape\n",
    "\n",
    "        # Initialize parameters\n",
    "        self.w = np.zeros(n_features)\n",
    "        self.b = 0\n",
    "\n",
    "        # Training\n",
    "        for _ in range(self.num_iterations):\n",
    "            # Compute the margin and hinge loss\n",
    "            margin = y * (np.dot(X, self.w) + self.b)\n",
    "            hinge_loss = np.maximum(0, 1 - margin)\n",
    "\n",
    "            # Compute gradients\n",
    "            dw = self.w - 2 * self.C * np.dot(X.T, hinge_loss * y) / n_samples\n",
    "            db = -2 * self.C * np.sum(hinge_loss * y) / n_samples\n",
    "\n",
    "            # Update parameters using gradient descent\n",
    "            self.w -= self.learning_rate * dw\n",
    "            self.b -= self.learning_rate * db\n",
    "\n",
    "    def predict(self, X):\n",
    "        return np.sign(np.dot(X, self.w) + self.b)\n",
    "\n",
    "\n",
    "# Testing the custom LinearSVM classifier\n",
    "from sklearn import datasets\n",
    "from sklearn.model_selection import train_test_split\n",
    "from sklearn.svm import SVC\n",
    "from sklearn.metrics import accuracy_score\n",
    "\n",
    "# Load the Iris dataset\n",
    "iris = datasets.load_iris()\n",
    "X = iris.data[:, :2]  # Selecting only the first two features for simplicity\n",
    "y = iris.target\n",
    "\n",
    "# Split the dataset into training and testing sets\n",
    "X_train, X_test, y_train, y_test = train_test_split(X, y, test_size=0.2, random_state=42)\n",
    "\n",
    "# Custom LinearSVM\n",
    "custom_svm = LinearSVM()\n",
    "custom_svm.fit(X_train, y_train)\n",
    "y_pred_custom = custom_svm.predict(X_test)\n",
    "\n",
    "# Scikit-learn LinearSVM\n",
    "sklearn_svm = SVC(kernel='linear')\n",
    "sklearn_svm.fit(X_train, y_train)\n",
    "y_pred_sklearn = sklearn_svm.predict(X_test)\n",
    "\n",
    "# Compare the performance\n",
    "accuracy_custom = accuracy_score(y_test, y_pred_custom)\n",
    "accuracy_sklearn = accuracy_score(y_test, y_pred_sklearn)\n",
    "\n",
    "print(\"Custom LinearSVM Accuracy:\", accuracy_custom)\n",
    "print(\"Scikit-learn LinearSVM Accuracy:\", accuracy_sklearn)"
   ]
  },
  {
   "cell_type": "markdown",
   "id": "8df50b16-c8cb-47a7-89bf-3b51146c3ccd",
   "metadata": {},
   "source": []
  }
 ],
 "metadata": {
  "kernelspec": {
   "display_name": "Python 3 (ipykernel)",
   "language": "python",
   "name": "python3"
  },
  "language_info": {
   "codemirror_mode": {
    "name": "ipython",
    "version": 3
   },
   "file_extension": ".py",
   "mimetype": "text/x-python",
   "name": "python",
   "nbconvert_exporter": "python",
   "pygments_lexer": "ipython3",
   "version": "3.10.8"
  }
 },
 "nbformat": 4,
 "nbformat_minor": 5
}
