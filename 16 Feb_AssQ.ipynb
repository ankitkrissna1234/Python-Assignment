{
 "cells": [
  {
   "cell_type": "markdown",
   "id": "0ff8bad8-104d-4477-9ab7-621cd8689576",
   "metadata": {},
   "source": [
    "1)"
   ]
  },
  {
   "cell_type": "markdown",
   "id": "88a061c4-1b27-4bd2-b07b-dd98f31d474d",
   "metadata": {},
   "source": [
    "A database is a collection of data that is organized in a way that allows for efficient storage, retrieval, and manipulation of information. Databases are used to store and manage data for a wide range of applications, from small personal projects to large enterprise systems."
   ]
  },
  {
   "cell_type": "markdown",
   "id": "8f49b669-15c6-4264-83a7-a555b06aa93f",
   "metadata": {},
   "source": [
    "SQL and NoSQL are two main categories of databases, with some key differences between them:"
   ]
  },
  {
   "cell_type": "markdown",
   "id": "66a38123-7095-4b06-848c-d99166a3303f",
   "metadata": {},
   "source": [
    "i)SQL (Structured Query Language) databases:\n",
    "SQL databases are based on the relational model and use a structured schema to organize data into tables. They are highly structured, with well-defined relationships between tables, and rely on SQL to manipulate and query data. SQL databases are widely used in enterprise systems for transactional processing, such as banking and financial applications."
   ]
  },
  {
   "cell_type": "markdown",
   "id": "9c4e135b-ee79-4899-8231-e12d118b7b80",
   "metadata": {},
   "source": [
    "ii)NoSQL (Not Only SQL) databases:\n",
    "NoSQL databases are designed to handle unstructured data and offer more flexibility in terms of data modeling. They can be categorized as document-oriented, key-value, column-family, and graph databases. Unlike SQL databases, NoSQL databases do not have a fixed schema and allow for easy scalability. They are often used for big data applications and real-time analytics, such as social media platforms and IoT devices."
   ]
  },
  {
   "cell_type": "markdown",
   "id": "cce697fb-d3e2-49e2-8ef3-367494553c26",
   "metadata": {},
   "source": [
    "In summary, SQL databases are highly structured, rely on a fixed schema, and are optimized for transactional processing, while NoSQL databases are flexible, schema-less, and optimized for big"
   ]
  },
  {
   "cell_type": "markdown",
   "id": "1de85f2f-64b0-4e23-9f68-1634f366e3ad",
   "metadata": {},
   "source": [
    "2)"
   ]
  },
  {
   "cell_type": "markdown",
   "id": "8e35b491-da5a-408f-99a2-14d1e9b09d17",
   "metadata": {},
   "source": [
    "DDL stands for Data Definition Language, which is a set of SQL commands used to define and manipulate the structure of a database, tables, and other database objects."
   ]
  },
  {
   "cell_type": "markdown",
   "id": "546fccd6-793c-4f69-aa8b-15551f666b19",
   "metadata": {},
   "source": [
    "The following are the most commonly used DDL commands and their usage:"
   ]
  },
  {
   "cell_type": "markdown",
   "id": "7753dd2f-3c95-42a6-896f-bbb5d7fbe7be",
   "metadata": {},
   "source": [
    "i)CREATE: The CREATE command is used to create a new database object, such as a table, view, or index. For example, to create a new table called \"customers\" with three columns (id, name, and email), you would use the following command:"
   ]
  },
  {
   "cell_type": "raw",
   "id": "64872d84-212f-4255-8dea-8fc1cda35150",
   "metadata": {},
   "source": [
    "CREATE TABLE customers (                                                                         \n",
    "   customer_id INT PRIMARY KEY,                                                                   \n",
    "   customer_name VARCHAR(50),                                                                     \n",
    "   email VARCHAR(100),                                                                           \n",
    "   phone VARCHAR(20)                                                                             \n",
    ");"
   ]
  },
  {
   "cell_type": "markdown",
   "id": "610fe1f9-15cd-4191-9a8d-b27260f54655",
   "metadata": {},
   "source": [
    "ii)DROP: The DROP command is used to delete an existing database object like a table, view, index, or procedure. For example, to drop the \"customers\" table, you can use the following SQL statement:"
   ]
  },
  {
   "cell_type": "raw",
   "id": "f9001b5f-bc44-45fd-99fa-f7301f29f9a2",
   "metadata": {},
   "source": [
    "DROP TABLE customers;"
   ]
  },
  {
   "cell_type": "markdown",
   "id": "4872aa30-808b-49d3-9f14-f837e0ce243c",
   "metadata": {},
   "source": [
    "iii)ALTER: The ALTER command is used to modify the structure of an existing database object like a table, view, index, or procedure. For example, to add a new column called \"address\" to the \"customers\" table, you can use the following SQL statement:"
   ]
  },
  {
   "cell_type": "raw",
   "id": "d8ff9945-f202-4975-9eba-fcab7d4bda12",
   "metadata": {},
   "source": [
    "ALTER TABLE customers ADD COLUMN address VARCHAR(200);"
   ]
  },
  {
   "cell_type": "markdown",
   "id": "3345b7ed-98d2-41fe-a7e4-48f73180d04f",
   "metadata": {},
   "source": [
    "iv)TRUNCATE: The TRUNCATE command is used to delete all data from a table, but it does not delete the table itself. For example, to delete all data from the \"customers\" table that we created earlier, you would use the following command:"
   ]
  },
  {
   "cell_type": "raw",
   "id": "10cf31ef-001b-4a82-84d0-1886aa7c3c1d",
   "metadata": {},
   "source": [
    "TR"
   ]
  },
  {
   "cell_type": "markdown",
   "id": "037ca1f2-15d1-404d-b380-1d25e76ac0aa",
   "metadata": {},
   "source": [
    "3)"
   ]
  },
  {
   "cell_type": "markdown",
   "id": "dcff2344-cf97-4c0c-9487-6cce00c91286",
   "metadata": {},
   "source": [
    "DML stands for Data Manipulation Language, which is a subset of SQL (Structured Query Language) used to manipulate data within a relational database. DML statements are used to add, modify, and delete data within tables."
   ]
  },
  {
   "cell_type": "markdown",
   "id": "be518840-161e-4743-97c2-ecc28339cf7c",
   "metadata": {},
   "source": [
    "Here are examples of the three most commonly used DML statements:"
   ]
  },
  {
   "cell_type": "markdown",
   "id": "f0234f15-8471-44ba-9981-182e447f7af6",
   "metadata": {},
   "source": [
    "i)INSERT Statement:                                                                                                                  \n",
    "The INSERT statement is used to add new records to a table. Here's an example:"
   ]
  },
  {
   "cell_type": "raw",
   "id": "7486096a-f302-44ee-85f8-cf78b3d98f8c",
   "metadata": {},
   "source": [
    "INSERT INTO students (id, name, age, major)                                                                                           \n",
    "VALUES (1234, 'John Smith', 21, 'Computer Science');"
   ]
  },
  {
   "cell_type": "markdown",
   "id": "4c5c2a6d-5169-40b7-bdb3-596361e01680",
   "metadata": {},
   "source": [
    "In this example, the \"students\" table has four columns: \"id\", \"name\", \"age\", and \"major\". We are adding a new record to the table with an ID of 1234, the name \"John Smith\", age of 21, and a major of \"Computer Science\"."
   ]
  },
  {
   "cell_type": "markdown",
   "id": "44782232-c956-456a-89ee-7df5e2419b3c",
   "metadata": {},
   "source": [
    "ii)UPDATE Statement:                                                                                                                 \n",
    "The UPDATE statement is used to modify existing records in a table. Here's an example:"
   ]
  },
  {
   "cell_type": "raw",
   "id": "a7029492-917a-49a5-bfc9-4ae82a131fe0",
   "metadata": {},
   "source": [
    "UPDATE students                                                                                                                      \n",
    "SET major = 'Information Systems'                                                                                                     \n",
    "WHERE id = 1234;                                                                                                                     "
   ]
  },
  {
   "cell_type": "markdown",
   "id": "c89fc80f-497b-4f37-b69a-79b0ee4de6ff",
   "metadata": {},
   "source": [
    "iii)DELETE Statement:                                                                                                                \n",
    "The DELETE statement is used to delete records from a table. Here's an example:                                                     "
   ]
  },
  {
   "cell_type": "raw",
   "id": "4351605d-0bed-4ecd-a9e4-84c87c275c64",
   "metadata": {},
   "source": [
    "DELETE FROM students                                                                                                \n",
    "WHERE id = 1234;"
   ]
  },
  {
   "cell_type": "markdown",
   "id": "611cd0b7-d6dc-4d4e-856a-41d66b6e38a0",
   "metadata": {},
   "source": [
    "In this example, we are deleting the record with an ID of 1234 from the \"students\" table."
   ]
  },
  {
   "cell_type": "markdown",
   "id": "ed171e66-ab03-4f5b-9489-928da1006399",
   "metadata": {},
   "source": [
    "4)"
   ]
  },
  {
   "cell_type": "markdown",
   "id": "4ad09f6c-864a-46ce-b003-7fa44c71dab4",
   "metadata": {},
   "source": [
    "DQL stands for Data Query Language. It is a subset of SQL (Structured Query Language) that is used to retrieve and manipulate data from a database. DQL commands are used to select, filter, and sort data in a database."
   ]
  },
  {
   "cell_type": "markdown",
   "id": "f50ad4c6-a529-4c36-8aa9-eb676ec9ce45",
   "metadata": {},
   "source": [
    "The SELECT statement is one of the most commonly used commands in DQL. It is used to retrieve data from one or more tables in a database. Here is an example of a SELECT statement:"
   ]
  },
  {
   "cell_type": "raw",
   "id": "5c976108-3b98-460e-a520-781cae1a9364",
   "metadata": {},
   "source": [
    "SELECT * FROM customers;"
   ]
  },
  {
   "cell_type": "markdown",
   "id": "20124375-e5dd-41d3-a361-8b1ba8343e7d",
   "metadata": {},
   "source": [
    "In this example, the SELECT statement is used to retrieve all columns and rows from the \"customers\" table in a database. The asterisk (*) is used as a wildcard character that represents all columns in the table."
   ]
  },
  {
   "cell_type": "markdown",
   "id": "a58aaba5-7eaf-4cc7-b35c-3db052ae57ec",
   "metadata": {},
   "source": [
    "If we want to retrieve specific columns, we can replace the asterisk with the column names, separated by commas. For example:"
   ]
  },
  {
   "cell_type": "raw",
   "id": "3d6336eb-4733-48d6-9649-d6f2fbcbf2fa",
   "metadata": {},
   "source": [
    "SELECT first_name, last_name, email FROM customers;"
   ]
  },
  {
   "cell_type": "markdown",
   "id": "6078b4db-5065-43cc-8093-4875e8f769b8",
   "metadata": {},
   "source": [
    "This SELECT statement will retrieve only the \"first_name\", \"last_name\", and \"email\" columns from the \"customers\" table."
   ]
  },
  {
   "cell_type": "markdown",
   "id": "36e36e5b-84ab-429c-bdff-d9f092b36f9f",
   "metadata": {},
   "source": [
    "We can also use the SELECT statement with a WHERE clause to filter the data based on certain conditions. For example:"
   ]
  },
  {
   "cell_type": "raw",
   "id": "74658fcc-7ef4-4cd6-a5f0-6c51fb65a04c",
   "metadata": {},
   "source": [
    "SELECT * FROM customers WHERE city='New York';"
   ]
  },
  {
   "cell_type": "markdown",
   "id": "89f09773-aafc-4423-8f9b-35f7e313ff33",
   "metadata": {},
   "source": [
    "This SELECT statement will retrieve all columns and rows from the \"customers\" table where the \"city\" column is equal to \"New York\"."
   ]
  },
  {
   "cell_type": "markdown",
   "id": "6747cd53-d01d-4453-b617-bbe0c8a9e7df",
   "metadata": {},
   "source": [
    "5)"
   ]
  },
  {
   "cell_type": "markdown",
   "id": "3b3bc4c2-8dc1-413f-8a48-7f678183be93",
   "metadata": {},
   "source": [
    "In database design, a primary key is a unique identifier that is assigned to a record in a table. It is a column or a set of columns in a table that uniquely identifies each row. The primary key serves as a reference point for other tables to establish relationships with the table containing the primary key. Each table should have a primary key, and it should be chosen in such a way that it is unique and does not change over time."
   ]
  },
  {
   "cell_type": "markdown",
   "id": "47c49bd7-a8c4-4e4b-9fa0-685f77e5e9e5",
   "metadata": {},
   "source": [
    "For example, consider a table called \"Customers\" that contains information about customers of a company. The \"Customer ID\" column can be chosen as the primary key for this table. Each customer will have a unique \"Customer ID\" that will remain constant over time, and other tables can reference the \"Customer ID\" to establish relationships with the \"Customers\" table."
   ]
  },
  {
   "cell_type": "markdown",
   "id": "5ae78d71-0263-4d56-9abf-a24ae84e6c22",
   "metadata": {},
   "source": [
    "A foreign key is a column or a set of columns in one table that refers to the primary key of another table. It is used to establish relationships between tables. The foreign key serves as a link between two tables and ensures that the data is consistent across the tables. A foreign key can only reference a primary key in another table."
   ]
  },
  {
   "cell_type": "markdown",
   "id": "42010849-7844-47db-9ec8-4f34b588e4b5",
   "metadata": {},
   "source": [
    "For example, consider a table called \"Orders\" that contains information about orders placed by customers. The \"Customer ID\" column in the \"Orders\" table can be a foreign key that references the \"Customer ID\" column in the \"Customers\" table. This establishes a relationship between the \"Orders\" and \"Customers\" tables, allowing us to retrieve information about orders for a particular customer."
   ]
  },
  {
   "cell_type": "markdown",
   "id": "e61bd1f9-d25e-4623-a033-e91b1190c43b",
   "metadata": {},
   "source": [
    "In summary, a primary key is a unique identifier for a record in a table, while a foreign key is a column or a set of columns in one table that refers to the primary key of another table, establishing a relationship between the two tables."
   ]
  },
  {
   "cell_type": "markdown",
   "id": "d7a8e451-165f-4eec-8812-a706e5cc6880",
   "metadata": {},
   "source": [
    "6)"
   ]
  },
  {
   "cell_type": "markdown",
   "id": "092cf556-f0d3-4dd0-8713-1bcc2b06a676",
   "metadata": {},
   "source": [
    "Here is an example Python code to connect MySQL to Python using the mysql-connector library:"
   ]
  },
  {
   "cell_type": "raw",
   "id": "5cd7dc60-07c7-4489-bb58-e93759372f8f",
   "metadata": {},
   "source": [
    "import mysql.connector\n",
    "\n",
    "mydb = mysql.connector.connect(\n",
    "  host=\"localhost\",\n",
    "  user=\"yourusername\",\n",
    "  password=\"yourpassword\",\n",
    "  database=\"yourdatabase\"\n",
    ")\n",
    "\n",
    "mycursor = mydb.cursor()\n",
    "\n",
    "mycursor.execute(\"SELECT * FROM yourtable\")\n",
    "\n",
    "myresult = mycursor.fetchall()\n",
    "\n",
    "for x in myresult:\n",
    "  print(x)"
   ]
  },
  {
   "cell_type": "markdown",
   "id": "a49ede42-ff20-45f1-8b95-c281d52b19ea",
   "metadata": {},
   "source": [
    "In this code, we first import the 'mysql.connector' library and use the 'connect()' method to connect to our MySQL database. We pass in the host, user, password, and database information as arguments."
   ]
  },
  {
   "cell_type": "markdown",
   "id": "843fea4f-ed4f-48e0-8c7b-82096d5aa226",
   "metadata": {},
   "source": [
    "Next, we create a cursor object using the 'cursor()' method of the 'mydb' connection object. The cursor object allows us to execute SQL queries on the database."
   ]
  },
  {
   "cell_type": "markdown",
   "id": "00d2a768-540b-4e26-82d6-bfecb14112f1",
   "metadata": {},
   "source": [
    "We then use the 'execute()' method of the cursor object to execute a SQL query. In this example, we are executing a SELECT statement that retrieves all rows and columns from a table called \"yourtable\"."
   ]
  },
  {
   "cell_type": "markdown",
   "id": "d78c7c4f-10e4-4bfe-9cad-dce67cc8c451",
   "metadata": {},
   "source": [
    "The 'fetchall()' method of the cursor object is used to retrieve all rows from the query result set. We then loop through the result set using a for loop and print each row."
   ]
  },
  {
   "cell_type": "markdown",
   "id": "7fce773a-be7f-4992-97c2-6add8ecb980c",
   "metadata": {},
   "source": [
    "The 'cursor()' method returns a cursor object that we can use to interact with the database. We use the 'execute()' method of the cursor object to execute SQL queries. The 'execute()' method takes a string argument that contains the SQL query to execute."
   ]
  },
  {
   "cell_type": "markdown",
   "id": "0f06d94f-f290-4b97-9d3f-556c9223253c",
   "metadata": {},
   "source": [
    "In summary, the 'cursor()' method creates a cursor object that allows us to execute SQL queries, while the 'execute()' method of the cursor object is used to execute SQL queries on the database."
   ]
  },
  {
   "cell_type": "markdown",
   "id": "fda260d0-ad65-4220-95e6-c592850419a8",
   "metadata": {},
   "source": [
    "7)"
   ]
  },
  {
   "cell_type": "markdown",
   "id": "84106f36-23b0-4058-81cf-b6000503f0b2",
   "metadata": {},
   "source": [
    "The order of execution of SQL clauses in an SQL query is as follows:"
   ]
  },
  {
   "cell_type": "raw",
   "id": "d5683466-f13e-48e8-b3b9-fa417a35402f",
   "metadata": {},
   "source": [
    "FROM clause: This clause specifies the table or tables from which the data is retrieved.\n",
    "\n",
    "WHERE clause: This clause filters the data based on specified conditions.\n",
    "\n",
    "GROUP BY clause: This clause groups the data based on specified columns.\n",
    "\n",
    "HAVING clause: This clause filters the grouped data based on specified conditions.\n",
    "\n",
    "SELECT clause: This clause selects the columns to retrieve from the table or tables.\n",
    "\n",
    "ORDER BY clause: This clause sorts the data based on specified columns.\n",
    "\n",
    "LIMIT clause: This clause limits the number of rows returned by the query."
   ]
  },
  {
   "cell_type": "markdown",
   "id": "c512e6f7-084c-4553-a7e6-7d67f20065a5",
   "metadata": {},
   "source": [
    "It is important to note that not all SQL queries will contain all of these clauses, and the order of the clauses may vary depending on the specific query. However, in general, the order of execution of the clauses is as listed above."
   ]
  },
  {
   "cell_type": "code",
   "execution_count": null,
   "id": "d0409b16-4c94-4154-a33a-733d2063e0e5",
   "metadata": {},
   "outputs": [],
   "source": []
  }
 ],
 "metadata": {
  "kernelspec": {
   "display_name": "Python 3 (ipykernel)",
   "language": "python",
   "name": "python3"
  },
  "language_info": {
   "codemirror_mode": {
    "name": "ipython",
    "version": 3
   },
   "file_extension": ".py",
   "mimetype": "text/x-python",
   "name": "python",
   "nbconvert_exporter": "python",
   "pygments_lexer": "ipython3",
   "version": "3.10.8"
  }
 },
 "nbformat": 4,
 "nbformat_minor": 5
}
