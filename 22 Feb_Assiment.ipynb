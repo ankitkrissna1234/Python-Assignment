{
 "cells": [
  {
   "cell_type": "markdown",
   "id": "707f29f8-9bcc-4ea6-8f21-8fe6b2759bc4",
   "metadata": {},
   "source": [
    "1)\n"
   ]
  },
  {
   "cell_type": "code",
   "execution_count": 1,
   "id": "5fd8371a-098e-4040-9d49-beef4d5c099c",
   "metadata": {},
   "outputs": [
    {
     "name": "stdout",
     "output_type": "stream",
     "text": [
      "0     4\n",
      "1     8\n",
      "2    15\n",
      "3    16\n",
      "4    23\n",
      "5    42\n",
      "dtype: int64\n"
     ]
    }
   ],
   "source": [
    "import pandas as pd\n",
    "\n",
    "data = [4, 8, 15, 16, 23, 42]\n",
    "series = pd.Series(data)\n",
    "print(series)"
   ]
  },
  {
   "cell_type": "markdown",
   "id": "8d74a911-d145-47d3-86ef-4973353365c6",
   "metadata": {},
   "source": [
    "2)\n"
   ]
  },
  {
   "cell_type": "code",
   "execution_count": 2,
   "id": "bf5139d1-0363-4ebd-a54c-a4729d5b4ac1",
   "metadata": {},
   "outputs": [
    {
     "name": "stdout",
     "output_type": "stream",
     "text": [
      "0     10\n",
      "1     20\n",
      "2     30\n",
      "3     40\n",
      "4     50\n",
      "5     60\n",
      "6     70\n",
      "7     80\n",
      "8     90\n",
      "9    100\n",
      "dtype: int64\n"
     ]
    }
   ],
   "source": [
    "import pandas as pd\n",
    "\n",
    "my_list = [10, 20, 30, 40, 50, 60, 70, 80, 90, 100]\n",
    "series = pd.Series(my_list)\n",
    "print(series)"
   ]
  },
  {
   "cell_type": "markdown",
   "id": "0fbf25c3-1003-4afc-b17c-5b2fc16031bf",
   "metadata": {},
   "source": [
    "3)"
   ]
  },
  {
   "cell_type": "code",
   "execution_count": 3,
   "id": "3766bcf9-4cf4-49d5-a51e-39e1848206cf",
   "metadata": {},
   "outputs": [
    {
     "name": "stdout",
     "output_type": "stream",
     "text": [
      "     Name  Age  Gender\n",
      "0   Alice   25  Female\n",
      "1     Bob   30    Male\n",
      "2  Claire   27  Female\n"
     ]
    }
   ],
   "source": [
    "import pandas as pd\n",
    "\n",
    "data = {\n",
    "    'Name': ['Alice', 'Bob', 'Claire'],\n",
    "    'Age': [25, 30, 27],\n",
    "    'Gender': ['Female', 'Male', 'Female']\n",
    "}\n",
    "\n",
    "df = pd.DataFrame(data)\n",
    "print(df)"
   ]
  },
  {
   "cell_type": "markdown",
   "id": "59055fb3-6a6f-4d78-8504-d3dc2528924e",
   "metadata": {},
   "source": [
    "4)"
   ]
  },
  {
   "cell_type": "markdown",
   "id": "91e88c05-2c9e-4a54-bd92-a4e6bdd76e1a",
   "metadata": {},
   "source": [
    "In pandas, a DataFrame is a two-dimensional labeled data structure that is used to store and manipulate tabular data. It is a fundamental data structure in pandas and is analogous to a table in a relational database or a spreadsheet in Excel. A DataFrame consists of rows and columns, where each column can contain data of a different type (e.g., numerical, categorical, or textual).                                                                                         \n",
    "                                                                                                \n",
    "On the other hand, a pandas Series is a one-dimensional labeled array that can store data of any type. It is similar to a column in a DataFrame or a single column of data in a spreadsheet. A Series is labeled with an index, which provides a unique identifier for each element in the Series.  "
   ]
  },
  {
   "cell_type": "markdown",
   "id": "5c36d448-d23d-46cf-8c9d-bb133770ccce",
   "metadata": {},
   "source": [
    "To illustrate the difference between a DataFrame and a Series, consider the following example:"
   ]
  },
  {
   "cell_type": "code",
   "execution_count": 4,
   "id": "07070f3d-1388-469d-899f-092ded82d2e1",
   "metadata": {},
   "outputs": [
    {
     "name": "stdout",
     "output_type": "stream",
     "text": [
      "DataFrame:\n",
      "     Name  Age  Gender\n",
      "0   Alice   25  Female\n",
      "1     Bob   30    Male\n",
      "2  Claire   27  Female\n",
      "\n",
      "Series:\n",
      "0    25\n",
      "1    30\n",
      "2    27\n",
      "Name: Age, dtype: int64\n"
     ]
    }
   ],
   "source": [
    "import pandas as pd\n",
    "\n",
    "# Creating a DataFrame\n",
    "data = {\n",
    "    'Name': ['Alice', 'Bob', 'Claire'],\n",
    "    'Age': [25, 30, 27],\n",
    "    'Gender': ['Female', 'Male', 'Female']\n",
    "}\n",
    "df = pd.DataFrame(data)\n",
    "\n",
    "# Creating a Series\n",
    "ages = pd.Series([25, 30, 27], name='Age')\n",
    "\n",
    "print(\"DataFrame:\")\n",
    "print(df)\n",
    "print(\"\\nSeries:\")\n",
    "print(ages)"
   ]
  },
  {
   "cell_type": "markdown",
   "id": "0fcf66b3-a6bd-488c-b044-42703253dfe5",
   "metadata": {},
   "source": [
    "In this example, we create a DataFrame named 'df' with three columns: 'Name', 'Age', and 'Gender'. Each column is a pandas Series, where the 'Name' column is a Series of strings, the 'Age' column is a Series of integers, and the 'Gender' column is a Series of strings.\n",
    "\n",
    "We also create a separate Series named 'ages' that contains only the 'Age' column from the DataFrame. It is a one-dimensional Series labeled with the index values 0, 1, and 2.\n",
    "\n",
    "In summary, a DataFrame is a two-dimensional data structure that can store multiple columns of different types, while a Series is a one-dimensional data structure that represents a single column of data."
   ]
  },
  {
   "cell_type": "markdown",
   "id": "71281b4e-a0ac-4040-9ae3-d05c1ff89886",
   "metadata": {},
   "source": [
    "5)"
   ]
  },
  {
   "cell_type": "markdown",
   "id": "97e411c4-c305-4f61-9259-e8a33cd216e5",
   "metadata": {},
   "source": [
    "Pandas provides a wide range of functions and methods to manipulate data in a DataFrame. Here are some commonly used functions:"
   ]
  },
  {
   "cell_type": "markdown",
   "id": "78444d01-d6c3-4953-a70d-d58c087e76e1",
   "metadata": {},
   "source": [
    "i) 'head()' and 'tail()': These functions allow you to view the first few rows ('head()') or the last few rows ('tail()') of a DataFrame. They are useful for inspecting data quickly."
   ]
  },
  {
   "cell_type": "code",
   "execution_count": 6,
   "id": "d880395a-f961-4c80-8f05-db6e7931af72",
   "metadata": {},
   "outputs": [
    {
     "name": "stdout",
     "output_type": "stream",
     "text": [
      "    name         email_id  phone_number\n",
      "0   sudh   sudh@gmail.com       8436767\n",
      "1  krish  krish@gmail.con     367378379\n"
     ]
    }
   ],
   "source": [
    "import pandas as pd\n",
    "\n",
    "df = pd.read_csv('data.csv')  # Assuming 'data.csv' is the file containing your data\n",
    "print(df.head())  # View the first 5 rows"
   ]
  },
  {
   "cell_type": "markdown",
   "id": "e754c4da-50bb-4a05-84e8-227047d13392",
   "metadata": {},
   "source": [
    "ii)'shape': It returns the dimensions of the DataFrame, i.e., the number of rows and columns."
   ]
  },
  {
   "cell_type": "code",
   "execution_count": 7,
   "id": "5cbe99db-d370-49bd-a879-6a19c167a55c",
   "metadata": {},
   "outputs": [
    {
     "name": "stdout",
     "output_type": "stream",
     "text": [
      "(2, 3)\n"
     ]
    }
   ],
   "source": [
    "import pandas as pd\n",
    "\n",
    "df = pd.read_csv('data.csv')  # Assuming 'data.csv' is the file containing your data\n",
    "print(df.shape)  # Print the dimensions of the DataFrame"
   ]
  },
  {
   "cell_type": "markdown",
   "id": "2de4cba9-b9c6-45db-8d24-3bf7dac89caf",
   "metadata": {},
   "source": [
    "iii)  'describe()': This function provides descriptive statistics of the numerical columns in the DataFrame, such as count, mean, standard deviation, minimum, maximum, etc."
   ]
  },
  {
   "cell_type": "code",
   "execution_count": 8,
   "id": "dcdd784d-5fb9-4420-ac7d-32f42895a4c2",
   "metadata": {},
   "outputs": [
    {
     "name": "stdout",
     "output_type": "stream",
     "text": [
      "       phone_number\n",
      "count  2.000000e+00\n",
      "mean   1.879076e+08\n",
      "std    2.538100e+08\n",
      "min    8.436767e+06\n",
      "25%    9.817217e+07\n",
      "50%    1.879076e+08\n",
      "75%    2.776430e+08\n",
      "max    3.673784e+08\n"
     ]
    }
   ],
   "source": [
    "import pandas as pd\n",
    "\n",
    "df = pd.read_csv('data.csv')  # Assuming 'data.csv' is the file containing your data\n",
    "print(df.describe())  # Get descriptive statistics of the DataFrame"
   ]
  },
  {
   "cell_type": "markdown",
   "id": "f029dabd-8f90-4504-8b43-641b057bd4f9",
   "metadata": {},
   "source": [
    "iv) sort_values(): It allows you to sort the DataFrame based on one or more columns. This is useful for arranging the data in a specific order."
   ]
  },
  {
   "cell_type": "code",
   "execution_count": 10,
   "id": "672559ce-490e-4220-ad5c-2a4367658d96",
   "metadata": {},
   "outputs": [
    {
     "name": "stdout",
     "output_type": "stream",
     "text": [
      "    name         email_id  phone_number\n",
      "1  krish  krish@gmail.con     367378379\n",
      "0   sudh   sudh@gmail.com       8436767\n"
     ]
    }
   ],
   "source": [
    "import pandas as pd\n",
    "\n",
    "df = pd.read_csv('data.csv')  # Assuming 'data.csv' is the file containing your data\n",
    "sorted_df = df.sort_values('name')  # Sort the DataFrame by the 'Age' column\n",
    "print(sorted_df)"
   ]
  },
  {
   "cell_type": "markdown",
   "id": "b03dca95-65cf-48d9-a009-c055e6fc7f40",
   "metadata": {},
   "source": [
    "v) 'groupby()': It enables grouping the data based on one or more columns and applying aggregate functions on those groups. It is useful for data aggregation and summarization."
   ]
  },
  {
   "cell_type": "code",
   "execution_count": 12,
   "id": "90d17f66-2625-44c7-8253-53af6c5eeaff",
   "metadata": {},
   "outputs": [
    {
     "name": "stdout",
     "output_type": "stream",
     "text": [
      "                 phone_number\n",
      "email_id                     \n",
      "krish@gmail.con   367378379.0\n",
      "sudh@gmail.com      8436767.0\n"
     ]
    },
    {
     "name": "stderr",
     "output_type": "stream",
     "text": [
      "/tmp/ipykernel_133/1268438330.py:4: FutureWarning: The default value of numeric_only in DataFrameGroupBy.mean is deprecated. In a future version, numeric_only will default to False. Either specify numeric_only or select only columns which should be valid for the function.\n",
      "  grouped_df = df.groupby('email_id').mean()  # Group the data by 'Gender' and calculate the mean for each group\n"
     ]
    }
   ],
   "source": [
    "import pandas as pd\n",
    "\n",
    "df = pd.read_csv('data.csv')  # Assuming 'data.csv' is the file containing your data\n",
    "grouped_df = df.groupby('email_id').mean()  # Group the data by 'Gender' and calculate the mean for each group\n",
    "print(grouped_df)"
   ]
  },
  {
   "cell_type": "markdown",
   "id": "b663e09f-0187-4169-83e0-50296fc38235",
   "metadata": {},
   "source": [
    "6)"
   ]
  },
  {
   "cell_type": "markdown",
   "id": "f82880f5-766a-45de-ba27-fcf0beb12ea9",
   "metadata": {},
   "source": [
    "In Pandas, the mutable nature refers to the ability to modify an object after it has been created. Among the options you provided, the only mutable object is the DataFrame. Both Series and Panel objects are immutable, meaning they cannot be modified after creation.\n",
    "\n",
    "A DataFrame allows you to change the values of specific cells, add or remove columns, and perform various data manipulations. This mutability is one of the key features of a DataFrame that distinguishes it from a Series or Panel."
   ]
  },
  {
   "cell_type": "markdown",
   "id": "6aa55a5d-5256-4a63-ac3d-554bd14b1d2d",
   "metadata": {},
   "source": [
    "7)"
   ]
  },
  {
   "cell_type": "markdown",
   "id": "7ccac80f-9f19-45a2-835a-24c4f498d752",
   "metadata": {},
   "source": [
    "To create a DataFrame using multiple Series, you can pass a dictionary of Series objects to the 'pd.DataFrame()' constructor. Each Series will represent a column in the DataFrame. Here's an example:"
   ]
  },
  {
   "cell_type": "code",
   "execution_count": 13,
   "id": "d22a26d3-4cef-4fd4-9491-bf3a92a05155",
   "metadata": {},
   "outputs": [
    {
     "name": "stdout",
     "output_type": "stream",
     "text": [
      "     Name  Age  Gender\n",
      "0   Alice   25  Female\n",
      "1     Bob   30    Male\n",
      "2  Claire   27  Female\n"
     ]
    }
   ],
   "source": [
    "import pandas as pd\n",
    "\n",
    "# Create individual Series\n",
    "names = pd.Series(['Alice', 'Bob', 'Claire'])\n",
    "ages = pd.Series([25, 30, 27])\n",
    "genders = pd.Series(['Female', 'Male', 'Female'])\n",
    "\n",
    "# Create DataFrame using the Series\n",
    "data = {\n",
    "    'Name': names,\n",
    "    'Age': ages,\n",
    "    'Gender': genders\n",
    "}\n",
    "df = pd.DataFrame(data)\n",
    "\n",
    "# Print the DataFrame\n",
    "print(df)"
   ]
  },
  {
   "cell_type": "markdown",
   "id": "71072d62-b089-499f-bce8-a72879bffacd",
   "metadata": {},
   "source": [
    "In this example, we created three individual Series objects: 'names', 'ages', and 'genders'. Each Series represents a column of data, with the corresponding names, ages, and genders of individuals.\n",
    "\n",
    "We then created a dictionary 'data' with the column names as keys and the respective Series objects as values. Finally, we used the 'pd.DataFrame()' constructor to create a DataFrame 'df' by passing the 'data' dictionary.\n",
    "\n",
    "The resulting DataFrame contains three columns: 'Name', 'Age', and 'Gender', with their corresponding values from the Series. Each row represents an individual record, and the indices start from 0."
   ]
  },
  {
   "cell_type": "code",
   "execution_count": null,
   "id": "35b17c68-caf4-43df-8c75-f9161b956f47",
   "metadata": {},
   "outputs": [],
   "source": []
  }
 ],
 "metadata": {
  "kernelspec": {
   "display_name": "Python 3 (ipykernel)",
   "language": "python",
   "name": "python3"
  },
  "language_info": {
   "codemirror_mode": {
    "name": "ipython",
    "version": 3
   },
   "file_extension": ".py",
   "mimetype": "text/x-python",
   "name": "python",
   "nbconvert_exporter": "python",
   "pygments_lexer": "ipython3",
   "version": "3.10.8"
  }
 },
 "nbformat": 4,
 "nbformat_minor": 5
}
