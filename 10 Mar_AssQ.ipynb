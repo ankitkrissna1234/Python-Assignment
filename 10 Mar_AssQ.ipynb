{
 "cells": [
  {
   "cell_type": "markdown",
   "id": "60adcb56-fc22-4719-9206-bb3df2f832ce",
   "metadata": {},
   "source": [
    "1)"
   ]
  },
  {
   "cell_type": "markdown",
   "id": "c854363d-f93e-48d3-aa8e-83a005c08602",
   "metadata": {},
   "source": [
    "Estimation statistics is a branch of statistics that focuses on estimating unknown population parameters based on sample data. It involves using statistical techniques to make educated guesses, or estimates, about the values of population parameters such as means, proportions, or variances.                                                     \n",
    "\n",
    "Point Estimate:                                                                                                     \n",
    "A point estimate is a single value that is used to estimate an unknown population parameter. It is obtained by using a sample statistic that is calculated from the sample data. For example, the sample mean can be used as a point estimate for the population mean, or the sample proportion can be used as a point estimate for the population proportion. Point estimates provide a single value that represents the best guess of the parameter, based on the available data. However, they do not provide any information about the precision or accuracy of the estimate.       \n",
    "\n",
    "Interval Estimate:                                                                                                 \n",
    "An interval estimate, also known as a confidence interval, is a range of values that is used to estimate an unknown population parameter. It takes into account both the point estimate and the variability in the data. The interval is constructed in such a way that it is likely to contain the true value of the parameter within a certain level of confidence.                                                                                                         \n",
    "\n",
    "For example, a 95% confidence interval for the population mean represents a range of values within which we can be 95% confident that the true population mean lies. This interval is typically constructed using the point estimate plus and minus a margin of error, which is determined based on the variability of the sample data and the desired level of confidence.                                                                                               \n",
    "\n",
    "Interval estimates provide a more informative way of expressing uncertainty compared to point estimates alone. They give a range of values within which the true parameter value is likely to fall, taking into account the inherent variability in sampling."
   ]
  },
  {
   "cell_type": "markdown",
   "id": "48eb0f7b-c5c1-49e0-8cbf-3bad54c5d16e",
   "metadata": {},
   "source": [
    "2)"
   ]
  },
  {
   "cell_type": "code",
   "execution_count": 1,
   "id": "4fa8be6d-d56c-4dff-935b-ddbe31b0d3bd",
   "metadata": {},
   "outputs": [],
   "source": [
    "def estimate_population_mean(sample_mean, sample_std_dev, sample_size):\n",
    "    # Calculate the standard error\n",
    "    standard_error = sample_std_dev / (sample_size ** 0.5)\n",
    "    \n",
    "    # Calculate the margin of error (assuming a desired confidence level, e.g., 95%)\n",
    "    z_value = 1.96  # For a 95% confidence level (you can change this value for different confidence levels)\n",
    "    margin_of_error = z_value * standard_error\n",
    "    \n",
    "    # Calculate the lower and upper bounds of the confidence interval\n",
    "    lower_bound = sample_mean - margin_of_error\n",
    "    upper_bound = sample_mean + margin_of_error\n",
    "    \n",
    "    # Return the estimated population mean and the confidence interval\n",
    "    return sample_mean, lower_bound, upper_bound"
   ]
  },
  {
   "cell_type": "code",
   "execution_count": 2,
   "id": "9822a9ef-4f62-4bfc-9bcb-7a0291d7c10a",
   "metadata": {},
   "outputs": [
    {
     "name": "stdout",
     "output_type": "stream",
     "text": [
      "Estimated population mean: 25.8\n",
      "95% Confidence Interval: (25.172800000000002, 26.4272)\n"
     ]
    }
   ],
   "source": [
    "sample_mean = 25.8\n",
    "sample_std_dev = 3.2\n",
    "sample_size = 100\n",
    "\n",
    "estimated_mean, lower_bound, upper_bound = estimate_population_mean(sample_mean, sample_std_dev, sample_size)\n",
    "\n",
    "print(\"Estimated population mean:\", estimated_mean)\n",
    "print(\"95% Confidence Interval:\", (lower_bound, upper_bound))"
   ]
  },
  {
   "cell_type": "markdown",
   "id": "9f100383-a10a-4d5c-bbb8-1fb8c9940ac6",
   "metadata": {},
   "source": [
    "3)"
   ]
  },
  {
   "cell_type": "markdown",
   "id": "bf4c933f-5178-4a71-afbd-8af7f784a59a",
   "metadata": {},
   "source": [
    "Hypothesis testing is a statistical method used to make inferences or decisions about a population based on sample data. It involves formulating a null hypothesis and an alternative hypothesis, collecting data, and using statistical tests to evaluate the evidence against the null hypothesis. The goal is to determine whether the observed data provide enough evidence to reject the null hypothesis in favor of the alternative hypothesis.         \n",
    "\n",
    "The null hypothesis (H0) represents a default or initial assumption, often stating that there is no significant difference or relationship between variables in the population. The alternative hypothesis (H1 or Ha) suggests that there is a significant difference or relationship between variables.                                               \n",
    "\n",
    "Hypothesis testing is used for several reasons:                                                                     \n",
    "\n",
    "Decision-making: Hypothesis tests provide a structured framework for making decisions based on data. By evaluating the evidence against the null hypothesis, we can make informed choices about accepting or rejecting a claim or hypothesis.                                                                                                         \n",
    "\n",
    "Inference about populations: Hypothesis testing allows us to make inferences about population parameters based on sample data. By testing hypotheses, we can draw conclusions about the population from which the sample is taken.   \n",
    "\n",
    "Scientific research: Hypothesis testing is fundamental to scientific research. It helps researchers test theories, validate hypotheses, and draw meaningful conclusions. It allows scientists to assess the significance and practical relevance of their findings.                                                                                       \n",
    "\n",
    "Quality control: Hypothesis testing plays a crucial role in quality control processes. It helps determine whether a manufacturing process is meeting the desired specifications or whether changes in production methods have a significant impact on the product.                                                                                 \n",
    "\n",
    "The importance of hypothesis testing lies in its ability to provide a systematic approach to drawing conclusions and making decisions based on data. It helps avoid making conclusions based on random variation or personal beliefs. By following a rigorous statistical procedure, hypothesis testing provides a way to objectively assess the evidence in favor or against a hypothesis, enabling more robust and reliable conclusions in various fields of study.                                                                                                             "
   ]
  },
  {
   "cell_type": "markdown",
   "id": "fa7a7208-984d-450c-9925-5703f4fcd5cb",
   "metadata": {},
   "source": [
    "3)"
   ]
  },
  {
   "cell_type": "markdown",
   "id": "6f7e3ea1-afc4-43c3-b1c8-d01aab7d7319",
   "metadata": {},
   "source": [
    "The hypothesis can be stated as follows:                                                                           \n",
    "\n",
    "Null Hypothesis (H0): The average weight of male college students is equal to or less than the average weight of female college students.                                                                                           \n",
    "Alternative Hypothesis (H1 or Ha): The average weight of male college students is greater than the average weight of female college students.                                                                                         \n",
    "\n",
    "Symbolically, this can be represented as:                                                                           \n",
    "\n",
    "H0: μ_male <= μ_female                                                                                             \n",
    "Ha: μ_male > μ_female                                                                                               \n",
    "\n",
    "In this hypothesis, we assume that there is no significant difference in the average weight between male and female college students (H0). The alternative hypothesis (Ha) suggests that there is a significant difference, specifically that the average weight of male college students is greater than that of female college students.     \n",
    "\n",
    "To test this hypothesis, you would collect data on the weights of male and female college students and perform statistical analysis, such as a t-test or z-test, to evaluate whether the data provide sufficient evidence to reject the null hypothesis in favor of the alternative hypothesis.                                                 "
   ]
  },
  {
   "cell_type": "markdown",
   "id": "5b0d6a43-129d-4cff-93a6-d945de2cc127",
   "metadata": {},
   "source": [
    "4)"
   ]
  },
  {
   "cell_type": "code",
   "execution_count": 3,
   "id": "9994b072-1bb9-4dbd-a026-488ae8f7d264",
   "metadata": {},
   "outputs": [
    {
     "name": "stdout",
     "output_type": "stream",
     "text": [
      "Test statistic: 5.194887690444326\n",
      "Critical value: 1.7340636066175354\n",
      "Result: Reject the null hypothesis\n"
     ]
    }
   ],
   "source": [
    "import numpy as np\n",
    "from scipy import stats\n",
    "\n",
    "def hypothesis_test(sample1, sample2, alpha):\n",
    "    # Calculate the sample statistics\n",
    "    n1 = len(sample1)\n",
    "    n2 = len(sample2)\n",
    "    mean1 = np.mean(sample1)\n",
    "    mean2 = np.mean(sample2)\n",
    "    var1 = np.var(sample1, ddof=1)\n",
    "    var2 = np.var(sample2, ddof=1)\n",
    "\n",
    "    # Calculate the pooled standard deviation\n",
    "    pooled_std = np.sqrt((var1 + var2) / 2)\n",
    "\n",
    "    # Calculate the test statistic (here, we use a two-sample t-test)\n",
    "    t_stat = (mean1 - mean2) / (pooled_std * np.sqrt(1/n1 + 1/n2))\n",
    "\n",
    "    # Calculate the degrees of freedom\n",
    "    df = n1 + n2 - 2\n",
    "\n",
    "    # Calculate the critical value based on the desired significance level (alpha)\n",
    "    critical_value = stats.t.ppf(1 - alpha, df)\n",
    "\n",
    "    # Compare the test statistic with the critical value and determine the result\n",
    "    if t_stat > critical_value:\n",
    "        result = \"Reject the null hypothesis\"\n",
    "    else:\n",
    "        result = \"Fail to reject the null hypothesis\"\n",
    "\n",
    "    # Return the test statistic, critical value, and result\n",
    "    return t_stat, critical_value, result\n",
    "\n",
    "# Example usage\n",
    "sample1 = [78, 84, 88, 80, 76, 92, 86, 90, 82, 85]\n",
    "sample2 = [72, 74, 68, 66, 70, 76, 78, 80, 72, 74]\n",
    "alpha = 0.05\n",
    "\n",
    "t_stat, critical_value, result = hypothesis_test(sample1, sample2, alpha)\n",
    "\n",
    "print(\"Test statistic:\", t_stat)\n",
    "print(\"Critical value:\", critical_value)\n",
    "print(\"Result:\", result)"
   ]
  },
  {
   "cell_type": "markdown",
   "id": "7279261e-7e73-49d9-b3c7-292ee53db53f",
   "metadata": {},
   "source": [
    "5)"
   ]
  },
  {
   "cell_type": "markdown",
   "id": "874900cc-c13c-45bb-9241-9f2cfdf88abc",
   "metadata": {},
   "source": [
    "In statistical hypothesis testing, the null hypothesis (H0) and alternative hypothesis (H1 or Ha) are two competing statements about a population parameter or the relationship between variables. These hypotheses are formulated to be tested based on sample data. Here are some examples of null and alternative hypotheses:                         \n",
    "\n",
    "Example for a population mean:                                                                                     \n",
    "Null Hypothesis (H0): The average height of adult males is 175 cm.                                                 \n",
    "Alternative Hypothesis (H1 or Ha): The average height of adult males is not 175 cm.                                 \n",
    "\n",
    "Example for a population proportion:                                                                               \n",
    "Null Hypothesis (H0): The proportion of customers who prefer Brand A is 0.4.                                       \n",
    "Alternative Hypothesis (H1 or Ha): The proportion of customers who prefer Brand A is greater than 0.4.             \n",
    "\n",
    "Example for a difference in means:                                                                                 \n",
    "Null Hypothesis (H0): There is no difference in the mean test scores of students who receive tutoring and those who do not.                                                                                                             \n",
    "Alternative Hypothesis (H1 or Ha): The mean test score of students who receive tutoring is higher than those who do not.                                                                                                               \n",
    "\n",
    "Example for a correlation:                                                                                         \n",
    "Null Hypothesis (H0): There is no correlation between hours of study and exam performance.                         \n",
    "Alternative Hypothesis (H1 or Ha): There is a positive correlation between hours of study and exam performance.     \n",
    "\n",
    "In each example, the null hypothesis represents a default or initial assumption, often stating no significant difference or relationship between variables in the population. The alternative hypothesis, on the other hand, suggests a specific alternative scenario, such as a difference, association, or effect that contradicts the null hypothesis.                                                                                                         \n",
    "\n",
    "The goal of hypothesis testing is to evaluate the evidence in the sample data and determine whether there is enough statistical evidence to reject the null hypothesis in favor of the alternative hypothesis. The decision is based on the strength of the evidence and a predetermined significance level, often denoted as α (alpha).                   "
   ]
  },
  {
   "cell_type": "markdown",
   "id": "dacd53e8-5c04-4460-8cf7-80ccdf2ef449",
   "metadata": {},
   "source": [
    "6)"
   ]
  },
  {
   "cell_type": "markdown",
   "id": "4c7f92b4-dca1-4595-bedc-7156397fe88c",
   "metadata": {},
   "source": [
    "The steps involved in hypothesis testing are as follows:                                                           \n",
    "\n",
    "Step 1: Formulate the hypotheses                                                                                   \n",
    "\n",
    "State the null hypothesis (H0) and the alternative hypothesis (H1 or Ha) based on the research question or problem. The null hypothesis typically represents no significant difference or relationship, while the alternative hypothesis suggests a specific alternative scenario.                                                               \n",
    "Step 2: Set the significance level                                                                                 \n",
    "\n",
    "Determine the desired level of significance (α) for the hypothesis test, which represents the maximum acceptable probability of making a Type I error (rejecting the null hypothesis when it is true). Commonly used significance levels are 0.05 (5%) and 0.01 (1%).                                                                                 \n",
    "Step 3: Collect and analyze the data                                                                               \n",
    "\n",
    "Collect a representative sample from the population of interest and perform the necessary data collection and analysis. Calculate relevant sample statistics (e.g., sample mean, sample proportion) and estimate population parameters.                                                                                                         \n",
    "Step 4: Determine the test statistic and the critical region                                                       \n",
    "\n",
    "Select an appropriate statistical test based on the type of data and the hypotheses being tested (e.g., t-test, chi-square test). Determine the test statistic that will be used to evaluate the evidence against the null hypothesis. Define the critical region(s), which represent the range of values of the test statistic that would lead to the rejection of the null hypothesis.                                                                       \n",
    "Step 5: Calculate the test statistic                                                                               \n",
    "\n",
    "Calculate the value of the test statistic using the sample data and the chosen statistical test. This value quantifies the difference or relationship observed in the sample and is used to assess the evidence against the null hypothesis.\n",
    "Step 6: Make a decision and draw conclusions                                                                       \n",
    "\n",
    "Compare the calculated test statistic with the critical values or use p-values (probability values) to determine whether the null hypothesis should be rejected or not. If the calculated test statistic falls in the critical region or if the p-value is less than the significance level, reject the null hypothesis. Otherwise, fail to reject the null hypothesis.                                                                                               \n",
    "Step 7: State the conclusion                                                                                       \n",
    "\n",
    "Based on the decision made in Step 6, state the conclusion of the hypothesis test. Explain the findings in the context of the research question and interpret the results, taking into account the limitations and assumptions of the test.                                                                                                           \n",
    "Step 8: Provide additional information (optional)                                                                   \n",
    "\n",
    "Depending on the situation, you may also report additional information, such as effect sizes, confidence intervals, or power analysis, to provide a more comprehensive understanding of the results.                                   \n",
    "It's important to note that hypothesis testing is just one tool in statistical inference, and it should be used in conjunction with other statistical methods and critical thinking to draw meaningful conclusions from data.         "
   ]
  },
  {
   "cell_type": "markdown",
   "id": "3e25c7c1-3ab1-4fc3-9e16-572f618a60a4",
   "metadata": {},
   "source": [
    "7)"
   ]
  },
  {
   "cell_type": "markdown",
   "id": "59cab964-ca41-46fd-937a-daba4e0eb464",
   "metadata": {},
   "source": [
    "In hypothesis testing, the p-value is a measure of the evidence against the null hypothesis. It quantifies the probability of observing a test statistic as extreme as, or more extreme than, the one calculated from the sample data, assuming that the null hypothesis is true. The p-value helps determine whether the observed data provide strong enough evidence to reject the null hypothesis in favor of the alternative hypothesis.                       \n",
    "\n",
    "The significance of the p-value in hypothesis testing can be understood as follows:                                 \n",
    "\n",
    "Interpreting the p-value: If the p-value is small (typically smaller than the chosen significance level, α), it suggests that the observed data are unlikely to occur if the null hypothesis is true. This indicates stronger evidence against the null hypothesis. On the other hand, if the p-value is large, it suggests that the observed data are reasonably likely to occur even if the null hypothesis is true, weakening the evidence against the null hypothesis.                                                                                                         \n",
    "\n",
    "Decision-making: The p-value is compared to the significance level (α) to make a decision about rejecting or failing to reject the null hypothesis. If the p-value is less than α, it is typically interpreted as evidence to reject the null hypothesis. Conversely, if the p-value is greater than or equal to α, there is insufficient evidence to reject the null hypothesis.                                                                             \n",
    "\n",
    "Flexibility and context: The p-value allows for flexibility in decision-making by providing a continuous measure of evidence against the null hypothesis. Researchers can choose different significance levels and make decisions based on their specific requirements and the context of the study.                                                       \n",
    "\n",
    "Reporting and reproducibility: The p-value is commonly reported in scientific research as a standard way to communicate the strength of evidence against the null hypothesis. It helps other researchers understand and evaluate the findings, facilitating the reproducibility and scrutiny of scientific results.                         \n",
    "\n",
    "However, it's important to note that the p-value alone does not provide a measure of the magnitude or practical significance of the observed effect. It is a measure of statistical evidence against the null hypothesis, but it does not indicate the size, importance, or relevance of the observed difference or relationship. The p-value should be interpreted along with effect sizes, confidence intervals, and other relevant measures to gain a more comprehensive understanding of the findings."
   ]
  },
  {
   "cell_type": "markdown",
   "id": "466984bf-c2ef-4b68-96e7-9a3f5579cfbb",
   "metadata": {},
   "source": [
    "8)"
   ]
  },
  {
   "cell_type": "markdown",
   "id": "1885225c-cebe-43fd-9a8f-b7ea64912adb",
   "metadata": {},
   "source": [
    "The p-value is a statistical measure used in hypothesis testing to assess the strength of evidence against the null hypothesis. It represents the probability of obtaining results as extreme as, or more extreme than, the observed data, assuming that the null hypothesis is true.                                                                   \n",
    "\n",
    "Here's an explanation of the significance of the p-value in hypothesis testing:                                     \n",
    "\n",
    "Interpretation of the p-value: The p-value is a numerical value ranging between 0 and 1. A smaller p-value suggests stronger evidence against the null hypothesis. Specifically, a low p-value indicates that the observed data are unlikely to have occurred by chance alone, assuming the null hypothesis is true. On the other hand, a larger p-value suggests that the observed data are reasonably likely to occur even if the null hypothesis is true.           \n",
    "\n",
    "Decision-making: The p-value is compared to a predetermined significance level (α) to make a decision about rejecting or failing to reject the null hypothesis. If the p-value is less than or equal to α, it is commonly interpreted as evidence to reject the null hypothesis in favor of the alternative hypothesis. Conversely, if the p-value is greater than α, there is insufficient evidence to reject the null hypothesis.                             \n",
    "\n",
    "Flexibility and contextual interpretation: The choice of significance level (α) allows for flexibility in decision-making. Researchers can set α based on the desired level of confidence or the consequences of making Type I and Type II errors. The p-value provides a continuous measure of evidence against the null hypothesis, allowing researchers to make decisions that align with the specific requirements and context of their study.                 \n",
    "\n",
    "Reporting and reproducibility: The p-value is typically reported in scientific research as a standard way to communicate the strength of evidence against the null hypothesis. By including the p-value, researchers provide important information to other scientists, allowing them to evaluate and replicate the study's findings. Transparency in reporting p-values enhances the reproducibility and scrutiny of scientific results.                 \n",
    "\n",
    "It's important to note that the p-value is just one piece of evidence in the hypothesis testing process. It provides a statistical measure of evidence against the null hypothesis but does not indicate the practical significance or importance of the observed effect. Proper interpretation of the p-value should consider effect sizes, confidence intervals, study design, and relevant context to draw meaningful conclusions.                     "
   ]
  },
  {
   "cell_type": "markdown",
   "id": "303683d7-0a68-42a5-8b10-9c844f27e10d",
   "metadata": {},
   "source": [
    "9)"
   ]
  },
  {
   "cell_type": "code",
   "execution_count": 4,
   "id": "0cec31c9-3540-493c-b9fb-a14d8e93e13e",
   "metadata": {},
   "outputs": [
    {
     "data": {
      "image/png": "[encoded data removed]",
      "text/plain": [
       "<Figure size 640x480 with 1 Axes>"
      ]
     },
     "metadata": {},
     "output_type": "display_data"
    }
   ],
   "source": [
    "import numpy as np\n",
    "import matplotlib.pyplot as plt\n",
    "from scipy.stats import t\n",
    "\n",
    "# Set the degrees of freedom\n",
    "df = 10\n",
    "\n",
    "# Generate x values for the plot\n",
    "x = np.linspace(-4, 4, 500)\n",
    "\n",
    "# Calculate the corresponding y values using the t-distribution\n",
    "y = t.pdf(x, df)\n",
    "\n",
    "# Plot the t-distribution\n",
    "plt.plot(x, y, label=f\"t-distribution (df={df})\")\n",
    "plt.xlabel('x')\n",
    "plt.ylabel('Probability Density')\n",
    "plt.title('Student\\'s t-distribution')\n",
    "plt.legend()\n",
    "plt.grid(True)\n",
    "plt.show()"
   ]
  },
  {
   "cell_type": "markdown",
   "id": "debcf12e-3cdc-45b9-9346-484c8b7da8d1",
   "metadata": {},
   "source": [
    "10)"
   ]
  },
  {
   "cell_type": "code",
   "execution_count": 5,
   "id": "72067580-52af-4e71-8413-dbbca7de97bf",
   "metadata": {},
   "outputs": [
    {
     "name": "stdout",
     "output_type": "stream",
     "text": [
      "Test statistic: -1.8534061896456457\n",
      "p-value: 0.10094750139514419\n"
     ]
    }
   ],
   "source": [
    "import numpy as np\n",
    "from scipy import stats\n",
    "\n",
    "def two_sample_t_test(sample1, sample2):\n",
    "    # Calculate the sample statistics\n",
    "    n1 = len(sample1)\n",
    "    n2 = len(sample2)\n",
    "    mean1 = np.mean(sample1)\n",
    "    mean2 = np.mean(sample2)\n",
    "    var1 = np.var(sample1, ddof=1)\n",
    "    var2 = np.var(sample2, ddof=1)\n",
    "\n",
    "    # Calculate the pooled standard deviation\n",
    "    pooled_std = np.sqrt((var1 + var2) / 2)\n",
    "\n",
    "    # Calculate the test statistic (two-sample t-test)\n",
    "    t_stat = (mean1 - mean2) / (pooled_std * np.sqrt(1/n1 + 1/n2))\n",
    "\n",
    "    # Calculate the degrees of freedom\n",
    "    df = n1 + n2 - 2\n",
    "\n",
    "    # Calculate the p-value\n",
    "    p_value = 2 * (1 - stats.t.cdf(abs(t_stat), df))\n",
    "\n",
    "    # Return the test statistic and p-value\n",
    "    return t_stat, p_value\n",
    "\n",
    "# Example usage\n",
    "sample1 = [10, 12, 14, 15, 16]\n",
    "sample2 = [13, 15, 16, 18, 20]\n",
    "\n",
    "t_stat, p_value = two_sample_t_test(sample1, sample2)\n",
    "\n",
    "print(\"Test statistic:\", t_stat)\n",
    "print(\"p-value:\", p_value)"
   ]
  },
  {
   "cell_type": "markdown",
   "id": "4dace090-31e9-4857-9205-90b1d8bb7dc1",
   "metadata": {},
   "source": [
    "11)"
   ]
  },
  {
   "cell_type": "markdown",
   "id": "6d35528e-7eff-4b84-a32d-ef056d698cd5",
   "metadata": {},
   "source": [
    "The Central Limit Theorem (CLT) relies on a set of assumptions to hold true in order for its conclusions to be valid. The assumptions of the Central Limit Theorem include:                                                       \n",
    "\n",
    "Independent and Identically Distributed (IID) Random Variables: The random variables in the sample should be independent of each other, meaning that the outcome of one variable does not affect the outcome of another.          Additionally, the random variables should be identically distributed, meaning they follow the same probability distribution with the same mean and variance.                                                                       \n",
    "\n",
    "Finite Mean and Variance: The random variables should have a finite mean (μ) and finite variance (σ^2). These parameters define the shape and characteristics of the distribution.                                               \n",
    "\n",
    "Sufficiently Large Sample Size: The Central Limit Theorem assumes that the sample size (n) is sufficiently large. Although there is no strict rule for determining the threshold, a general guideline is that the sample size should be at least 30. The larger the sample size, the better the approximation to a normal distribution.                 \n",
    "\n",
    "It's important to note that violating these assumptions can affect the validity and accuracy of the Central Limit Theorem. In situations where the assumptions are not met, alternative methods may need to be employed for statistical inference and analysis.                                                                                 \n",
    "\n",
    "While the Central Limit Theorem is a powerful tool, it is also worth noting that there are variations and extensions of the theorem that relax some of these assumptions. These variations, such as the Lyapunov CLT and Lindeberg–Lévy CLT, provide more flexibility and applicability in certain scenarios where the assumptions of the classical CLT may not hold perfectly.                                                        "
   ]
  },
  {
   "cell_type": "markdown",
   "id": "cdbdd0b3-0ed1-4528-9236-445f5537dd20",
   "metadata": {},
   "source": [
    "12)"
   ]
  },
  {
   "cell_type": "markdown",
   "id": "3ff958a5-489d-453c-95b6-3ea56ddae9c3",
   "metadata": {},
   "source": [
    "The t-statistic, also known as the Student's t-statistic, is a statistical measure used in hypothesis testing and confidence interval estimation when the population standard deviation is unknown. It is used when working with small sample sizes or when the population standard deviation is not known.                                         \n",
    "\n",
    "The formula for calculating the t-statistic is as follows:                                                         \n",
    "\n",
    "t = (X̄ - μ) / (s / √n)                                                                                             \n",
    "\n",
    "where:                                                                                                             \n",
    "t is the t-statistic,                                                                                               \n",
    "X̄ is the sample mean,                                                                                               \n",
    "μ is the population mean (hypothesized value),                                                                     \n",
    "s is the sample standard deviation,                                                                                 \n",
    "n is the sample size.                                                                                               \n",
    "\n",
    "The t-statistic compares the difference between the sample mean (X̄) and the hypothesized population mean (μ) in relation to the variability within the sample. It quantifies how many standard errors the sample mean is away from the hypothesized population mean.\n",
    "\n",
    "The t-statistic follows a t-distribution with n-1 degrees of freedom. The t-distribution is similar to the normal distribution but has thicker tails, accounting for the additional uncertainty introduced by using the sample standard deviation instead of the population standard deviation.                                                   \n",
    "\n",
    "The t-statistic is commonly used in various statistical tests, such as t-tests for comparing means, paired t-tests for dependent samples, and independent t-tests for independent samples. It allows for inference about population parameters based on small sample sizes or when the population standard deviation is unknown.                       "
   ]
  },
  {
   "cell_type": "markdown",
   "id": "3b329e5d-5109-4b96-bcee-074c5e77f69d",
   "metadata": {},
   "source": [
    "13)"
   ]
  },
  {
   "cell_type": "markdown",
   "id": "dd2a5c01-ceef-4c8a-86c2-3c80250793f8",
   "metadata": {},
   "source": [
    "To estimate the population mean revenue with a 95% confidence interval, we can use the t-distribution since the population standard deviation is unknown and the sample size is relatively small (n = 50).                         \n",
    "\n",
    "The formula for calculating the confidence interval is:                                                          \n",
    "\n",
    "CI = X̄ ± t * (s / √n)                                                                                               \n",
    "\n",
    "where:                                                                                                             \n",
    "CI is the confidence interval,                                                                                     \n",
    "X̄ is the sample mean revenue,                                                                                       \n",
    "t is the critical value from the t-distribution based on the desired confidence level and degrees of freedom,       \n",
    "s is the sample standard deviation,\n",
    "n is the sample size.                                                                                               \n",
    "\n",
    "Since the sample size is 50, the degrees of freedom for this calculation would be (n - 1) = (50 - 1) = 49.         \n",
    "\n",
    "First, we need to determine the critical value (t*) based on the desired confidence level. For a 95% confidence level, with 49 degrees of freedom, we consult the t-distribution table or use statistical software to find the value. For a two-tailed test, the critical value would be approximately 2.0098.                                     \n",
    "\n",
    "Next, we can plug in the values into the formula to calculate the confidence interval:                             \n",
    "\n",
    "CI = $500 ± 2.0098 * ($50 / √50)                                                                                   \n",
    "\n",
    "CI = $500 ± 2.0098 * ($50 / 7.071)                                                                                 \n",
    "\n",
    "CI = $500 ± 2.0098 * $7.071                                                                                         \n",
    "\n",
    "CI = $500 ± $14.204                                                                                                 \n",
    "\n",
    "The confidence interval is [$500 - $14.204, $500 + $14.204].                                                       \n",
    "\n",
    "Simplifying, the confidence interval is approximately [$485.796, $514.204].                                         \n",
    "\n",
    "Therefore, with a 95% confidence level, we can estimate that the population mean revenue for the coffee shop falls within the range of approximately $485.796 to $514.204."
   ]
  },
  {
   "cell_type": "markdown",
   "id": "a4189806-67e0-4bcc-976f-a4e271fa840b",
   "metadata": {},
   "source": [
    "14)"
   ]
  },
  {
   "cell_type": "markdown",
   "id": "b9cdedb3-1a92-4658-af35-ce0683bc84b7",
   "metadata": {},
   "source": [
    "To test the hypothesis with a significance level of 0.05, we can perform a one-sample t-test. The null hypothesis (H0) is that the new drug does not decrease blood pressure by 10 mmHg, while the alternative hypothesis (Ha) is that the new drug does decrease blood pressure by 10 mmHg.                                                         \n",
    "\n",
    "The test statistic for a one-sample t-test is calculated as:                                                                                                              \n",
    "\n",
    "t = (X̄ - μ) / (s / √n)                                                                                             \n",
    "\n",
    "where:                                                                                                             \n",
    "t is the test statistic,                                                                                           \n",
    "X̄ is the sample mean decrease in blood pressure,                                                                   \n",
    "μ is the hypothesized population mean decrease in blood pressure under the null hypothesis,                         \n",
    "s is the sample standard deviation of the decrease in blood pressure,                                               \n",
    "n is the sample size.                                                                                               \n",
    "\n",
    "In this case:                                                                                                       \n",
    "X̄ = 8 mmHg (sample mean decrease in blood pressure)                                                                 \n",
    "μ = 10 mmHg (hypothesized population mean decrease in blood pressure under the null hypothesis)                     \n",
    "s = 3 mmHg (sample standard deviation of the decrease in blood pressure)                                           \n",
    "n = 100 (sample size)                                                                                               \n",
    "\n",
    "Substituting these values into the formula, we get:                                                                 \n",
    "\n",
    "t = (8 - 10) / (3 / √100)                                                                                           \n",
    "= -2 / (3 / 10)                                                                                                     \n",
    "= -20/3                                                                                                             \n",
    "\n",
    "To determine whether to reject the null hypothesis or not, we need to compare the absolute value of the test statistic to the critical value. The critical value depends on the significance level and the degrees of freedom, which in this case is (n - 1) = (100 - 1) = 99.                                                                     \n",
    "\n",
    "At a significance level of 0.05 for a two-tailed test, the critical value is approximately ±1.984 (obtained from the t-distribution table or statistical software).                                                                 \n",
    "\n",
    "Since the absolute value of the test statistic (-20/3) is greater than the critical value (1.984), we reject the null hypothesis.                                                                                                   \n",
    "\n",
    "Therefore, based on the sample data, we have evidence to suggest that the new drug decreases blood pressure by more than 10 mmHg, with a significance level of 0.05."
   ]
  },
  {
   "cell_type": "markdown",
   "id": "f34070e6-93ef-4722-93a2-e5a9775e4bc3",
   "metadata": {},
   "source": [
    "15)"
   ]
  },
  {
   "cell_type": "markdown",
   "id": "b6f1daf8-5473-494a-8206-a8a7b38e79d6",
   "metadata": {},
   "source": [
    "To test the hypothesis that the true mean weight of the products is less than 5 pounds, we can perform a one-sample t-test. The null hypothesis (H0) is that the true mean weight is equal to 5 pounds, while the alternative hypothesis (Ha) is that the true mean weight is less than 5 pounds.                                                 \n",
    "\n",
    "The test statistic for a one-sample t-test is calculated as:                                                       \n",
    "\n",
    "t = (X̄ - μ) / (s / √n)                                                                                             \n",
    "\n",
    "where:                                                                                                             \n",
    "t is the test statistic,                                                                                           \n",
    "X̄ is the sample mean weight,                                                                                       \n",
    "μ is the hypothesized true mean weight under the null hypothesis,                                                   \n",
    "s is the sample standard deviation of the weights,                                                                 \n",
    "n is the sample size.                                                                                               \n",
    "\n",
    "In this case:                                                                                                       \n",
    "X̄ = 4.8 pounds (sample mean weight)                                                                                 \n",
    "μ = 5 pounds (hypothesized true mean weight under the null hypothesis)\n",
    "s = 0.5 pounds (sample standard deviation of the weights)\n",
    "n = 25 (sample size)                                                                                               \n",
    "\n",
    "Substituting these values into the formula, we get:                                                                 \n",
    "\n",
    "t = (4.8 - 5) / (0.5 / √25)                                                                                         \n",
    "= -0.2 / (0.5 / 5)                                                                                                 \n",
    "= -0.2 / 0.1                                                                                                       \n",
    "= -2                                                                                                               \n",
    "\n",
    "To determine whether to reject the null hypothesis or not, we need to compare the test statistic to the critical value. Since the alternative hypothesis is that the true mean weight is less than 5 pounds, we will conduct a one-tailed test.                                                                                                       \n",
    "\n",
    "At a significance level of 0.01 for a one-tailed test with 24 degrees of freedom (n - 1), the critical value is approximately -2.492 (obtained from the t-distribution table or statistical software).                             \n",
    "\n",
    "Since the test statistic (-2) is greater than the critical value (-2.492), we fail to reject the null hypothesis.\n",
    "\n",
    "Therefore, based on the sample data, we do not have sufficient evidence to suggest that the true mean weight of the products is less than 5 pounds, with a significance level of 0.01"
   ]
  },
  {
   "cell_type": "markdown",
   "id": "6c6c4f1d-8f45-467f-bfbe-6162244a1c50",
   "metadata": {},
   "source": [
    "16)"
   ]
  },
  {
   "cell_type": "markdown",
   "id": "cf31729c-194f-4432-b2fe-8a1ceca380f7",
   "metadata": {},
   "source": [
    "To test the hypothesis that the population means for the two groups are equal, we can perform an independent two-sample t-test. The null hypothesis (H0) is that the population means are equal, while the alternative hypothesis (Ha) is that the population means are not equal.                                                                   \n",
    "\n",
    "The test statistic for an independent two-sample t-test is calculated as:                                           \n",
    "\n",
    "t = (X̄1 - X̄2) / √((s1^2 / n1) + (s2^2 / n2))                                                                       \n",
    "\n",
    "where:                                                                                                             \n",
    "t is the test statistic,                                                                                           \n",
    "X̄1 and X̄2 are the sample means of the two groups,                                                                   \n",
    "s1 and s2 are the sample standard deviations of the two groups,                                                     \n",
    "n1 and n2 are the sample sizes of the two groups.                                                                   \n",
    "\n",
    "In this case:                                                                                                       \n",
    "X̄1 = 80 (mean score of the first group)                                                                             \n",
    "X̄2 = 75 (mean score of the second group)                                                                           \n",
    "s1 = 10 (standard deviation of the first group)                                                                     \n",
    "s2 = 8 (standard deviation of the second group)                                                                     \n",
    "n1 = 30 (sample size of the first group)                                                                           \n",
    "n2 = 40 (sample size of the second group)                                                                           \n",
    "\n",
    "Substituting these values into the formula, we get:                                                                 \n",
    "\n",
    "t = (80 - 75) / √((10^2 / 30) + (8^2 / 40))                                                                         \n",
    "= 5 / √((100 / 30) + (64 / 40))                                                                                     \n",
    "= 5 / √(3.33 + 1.6)                                                                                                 \n",
    "= 5 / √4.93                                                                                                         \n",
    "≈ 5 / 2.22                                                                                                         \n",
    "≈ 2.25                                                                                                             \n",
    "\n",
    "To determine whether to reject the null hypothesis or not, we need to compare the absolute value of the test statistic to the critical value. Since the alternative hypothesis is that the population means are not equal, we will conduct a two-tailed test.                                                                                     \n",
    "\n",
    "At a significance level of 0.01 for a two-tailed test with (n1 + n2 - 2) degrees of freedom [(30 + 40 - 2) = 68], the critical value is approximately ±2.620 (obtained from the t-distribution table or statistical software).       \n",
    "\n",
    "Since the absolute value of the test statistic (2.25) is less than the critical value (2.620), we fail to reject the null hypothesis.                                                                                               \n",
    "\n",
    "Therefore, based on the sample data, we do not have sufficient evidence to suggest that the population means for the two groups are different, with a significance level of 0.01.                                                   "
   ]
  },
  {
   "cell_type": "markdown",
   "id": "21fe83fa-4955-42fb-a5f2-ed3f963b3890",
   "metadata": {},
   "source": [
    "17)"
   ]
  },
  {
   "cell_type": "markdown",
   "id": "e8fe959e-af51-4655-8101-cac6912e51bc",
   "metadata": {},
   "source": [
    "To estimate the population mean with a 99% confidence interval, we can use the formula for the confidence interval:\n",
    "\n",
    "CI = X̄ ± Z * (s / √n)                                                                                               \n",
    "\n",
    "where:                                                                                                             \n",
    "CI is the confidence interval,                                                                                     \n",
    "X̄ is the sample mean,                                                                                               \n",
    "Z is the critical value from the standard normal distribution based on the desired confidence level,               \n",
    "s is the sample standard deviation,                                                                                 \n",
    "n is the sample size.                                                                                               \n",
    "\n",
    "In this case:                                                                                                       \n",
    "X̄ = 4 (sample mean)                                                                                                 \n",
    "s = 1.5 (sample standard deviation)                                                                                 \n",
    "n = 50 (sample size)                                                                                               \n",
    "\n",
    "First, we need to determine the critical value (Z) based on the desired confidence level. For a 99% confidence level, we need to find the Z-value that corresponds to the middle 99% of the standard normal distribution. This critical value is approximately 2.576 (obtained from the standard normal distribution table or statistical software).                                                                                                         \n",
    "\n",
    "Next, we can plug in the values into the formula to calculate the confidence interval:                             \n",
    "\n",
    "CI = 4 ± 2.576 * (1.5 / √50)                                                                                       \n",
    "\n",
    "CI = 4 ± 2.576 * (1.5 / 7.071)                                                                                     \n",
    "\n",
    "CI = 4 ± 2.576 * 0.212                                                                                             \n",
    "\n",
    "CI = 4 ± 0.547                                                                                                     \n",
    "\n",
    "The confidence interval is [3.453, 4.547].                                                                         \n",
    "\n",
    "Therefore, with a 99% confidence level, we can estimate that the population mean number of ads watched by viewers during a TV program falls within the range of approximately 3.453 to 4.547."
   ]
  },
  {
   "cell_type": "code",
   "execution_count": null,
   "id": "aac8eca0-8ef7-43b1-9f21-21ab5dc74007",
   "metadata": {},
   "outputs": [],
   "source": []
  }
 ],
 "metadata": {
  "kernelspec": {
   "display_name": "Python 3 (ipykernel)",
   "language": "python",
   "name": "python3"
  },
  "language_info": {
   "codemirror_mode": {
    "name": "ipython",
    "version": 3
   },
   "file_extension": ".py",
   "mimetype": "text/x-python",
   "name": "python",
   "nbconvert_exporter": "python",
   "pygments_lexer": "ipython3",
   "version": "3.10.8"
  }
 },
 "nbformat": 4,
 "nbformat_minor": 5
}
