{
 "cells": [
  {
   "cell_type": "markdown",
   "id": "ecc1bc86-231f-43ab-a880-ecb93acc4b7d",
   "metadata": {},
   "source": [
    "1)"
   ]
  },
  {
   "cell_type": "markdown",
   "id": "c31af864-1739-4a6d-845c-cdf6dccb4dae",
   "metadata": {},
   "source": [
    "In object-oriented programming, a class is a blueprint or template for creating objects that define a set of properties and methods. An object is an instance of a class that represents a real-world entity and has its own set of properties and methods.\n",
    "\n",
    "A class defines the common attributes and behaviors that objects of that class will have. For example, a class \"Car\" might have attributes such as make, model, and year, and behaviors such as accelerating, braking, and turning. Objects of the \"Car\" class would represent individual cars, each with their own make, model, year, and ability to accelerate, brake, and turn.\n",
    "\n",
    "Example:"
   ]
  },
  {
   "cell_type": "code",
   "execution_count": 1,
   "id": "320e8837-cce5-44c8-a8e3-bbbf6a14a263",
   "metadata": {},
   "outputs": [],
   "source": [
    "class Car:\n",
    "    def __init__(self, make, model, year):\n",
    "        self.make = make\n",
    "        self.model = model\n",
    "        self.year = year\n",
    "        \n",
    "    def accelerate(self):\n",
    "        print(f\"The {self.year} {self.make} {self.model} is accelerating.\")\n",
    "        \n",
    "    def brake(self):\n",
    "        print(f\"The {self.year} {self.make} {self.model} is braking.\")\n",
    "        \n",
    "    def turn(self, direction):\n",
    "        print(f\"The {self.year} {self.make} {self.model} is turning {direction}.\")\n"
   ]
  },
  {
   "cell_type": "markdown",
   "id": "6a3b0f80-35a6-4a90-bedc-72a35746d975",
   "metadata": {},
   "source": [
    "In this example, the 'Car' class has three attributes: 'make', 'model', and 'year'. The '__init__()' method is a special method that is called when an object of the class is created, and it initializes the object with the given values for these attributes.\n",
    "\n",
    "The 'Car' class also has three methods: 'accelerate()', 'brake()', and 'turn()'. These methods define the behaviors of a 'Car' object. For example, the 'accelerate()' method prints a message indicating that the car is accelerating.\n",
    "\n",
    "To create an object of the 'Car' class, we would use the following code:"
   ]
  },
  {
   "cell_type": "code",
   "execution_count": 2,
   "id": "191feecb-07e2-43b0-8a14-05834159d22e",
   "metadata": {},
   "outputs": [],
   "source": [
    "my_car = Car(\"Toyota\", \"Corolla\", 2022)\n"
   ]
  },
  {
   "cell_type": "markdown",
   "id": "7ee63066-7c58-414b-a138-bd733a097165",
   "metadata": {},
   "source": [
    "This code creates a 'Car' object called 'my_car' with the make \"Toyota\", model \"Corolla\", and year 2022.\n",
    "\n",
    "We can then call methods on the 'my_car' object, like this:"
   ]
  },
  {
   "cell_type": "code",
   "execution_count": 3,
   "id": "c47d7a13-76cc-456d-991b-41be157a80ef",
   "metadata": {},
   "outputs": [
    {
     "name": "stdout",
     "output_type": "stream",
     "text": [
      "The 2022 Toyota Corolla is accelerating.\n",
      "The 2022 Toyota Corolla is turning left.\n",
      "The 2022 Toyota Corolla is braking.\n"
     ]
    }
   ],
   "source": [
    "my_car.accelerate()\n",
    "my_car.turn(\"left\")\n",
    "my_car.brake()"
   ]
  },
  {
   "cell_type": "markdown",
   "id": "d979f7fa-20bb-4c67-b2a0-3ee332317487",
   "metadata": {},
   "source": [
    "In summary, a class is a blueprint for creating objects, and an object is an instance of a class that has its own set of properties and methods. In this example, the 'Car' class defines the attributes and behaviors that a 'Car' object would have."
   ]
  },
  {
   "cell_type": "markdown",
   "id": "80ad13d6-a692-4b44-977b-668cc25f5b3e",
   "metadata": {},
   "source": [
    "2)"
   ]
  },
  {
   "cell_type": "markdown",
   "id": "c290aa20-fcc0-4430-9349-c10ae5d26da1",
   "metadata": {},
   "source": [
    "The four pillars of object-oriented programming (OOPs) are:\n",
    "\n",
    "i)  Encapsulation\n",
    "ii) Abstraction\n",
    "iii)Inheritance\n",
    "iv) Polymorphism"
   ]
  },
  {
   "cell_type": "markdown",
   "id": "6fe38771-5a57-4908-9b7c-c9f3a4e2babe",
   "metadata": {},
   "source": [
    "3)"
   ]
  },
  {
   "cell_type": "markdown",
   "id": "a7b59068-c08c-4bdc-8aae-8b25438fdaf1",
   "metadata": {},
   "source": [
    "The '__init__()' function is a special method in Python classes that is called when an instance of the class is created. It is used to initialize the attributes of the object and perform any necessary setup or initialization that needs to be done before the object can be used.\n",
    "\n",
    "The '__init__()' function takes the self parameter as its first argument, which refers to the object being created. The other parameters are used to initialize the object's attributes.\n",
    "\n",
    "Here's an example to illustrate the use of '__init__()' function:"
   ]
  },
  {
   "cell_type": "code",
   "execution_count": 4,
   "id": "d3e83b56-7e52-4953-8319-08f540406bb4",
   "metadata": {},
   "outputs": [],
   "source": [
    "class Car:\n",
    "    def __init__(self, make, model, year):\n",
    "        self.make = make\n",
    "        self.model = model\n",
    "        self.year = year\n",
    "        self.odometer_reading = 0\n",
    "\n",
    "    def get_description(self):\n",
    "        description = f\"{self.year} {self.make} {self.model}\"\n",
    "        return description.title()\n",
    "\n",
    "    def read_odometer(self):\n",
    "        print(f\"This car has {self.odometer_reading} miles on it.\")\n",
    "\n",
    "    def update_odometer(self, mileage):\n",
    "        if mileage >= self.odometer_reading:\n",
    "            self.odometer_reading = mileage\n",
    "        else:\n",
    "            print(\"You can't roll back an odometer!\")"
   ]
  },
  {
   "cell_type": "code",
   "execution_count": 5,
   "id": "15bc179e-e77f-4365-8bfe-db5115d34107",
   "metadata": {},
   "outputs": [],
   "source": [
    "my_car = Car('honda', 'civic', 2022)"
   ]
  },
  {
   "cell_type": "markdown",
   "id": "ce89cbcc-ecf9-4b84-afdc-4403dad17dc5",
   "metadata": {},
   "source": [
    "4)"
   ]
  },
  {
   "cell_type": "markdown",
   "id": "9c51b909-40a7-4f21-a1a2-e6163244e539",
   "metadata": {},
   "source": [
    "In object-oriented programming, 'self' is used to refer to the instance of a class that is currently being worked with. It is a reference to the object itself and is used to access the attributes and methods of the object.\n",
    "\n",
    "When we define a method in a class, we need to include the 'self' parameter as the first parameter of the method. This parameter is used to refer to the object that the method is being called on"
   ]
  },
  {
   "cell_type": "markdown",
   "id": "1a340b55-9c29-4caa-8c7b-e10986eb07bd",
   "metadata": {},
   "source": [
    "5)"
   ]
  },
  {
   "cell_type": "markdown",
   "id": "db43ee40-3f3f-4d4f-b2b5-ecc7e98b53d1",
   "metadata": {},
   "source": [
    "Inheritance is a fundamental concept in object-oriented programming (OOP) that allows a new class to be based on an existing class. It is a mechanism by which a class can acquire the properties (methods and attributes) of another class. In other words, it is a way of creating a new class that is a modified version of an existing class.\n",
    "\n",
    "There are four types of inheritance:\n",
    "\n",
    "i) Single inheritance: In single inheritance, a subclass inherits from a single superclass.\n",
    "Example:"
   ]
  },
  {
   "cell_type": "code",
   "execution_count": 9,
   "id": "22863868-8741-4537-9d77-d7b38a99851e",
   "metadata": {},
   "outputs": [
    {
     "name": "stdout",
     "output_type": "stream",
     "text": [
      "The animal is eating...\n",
      "Meow!\n"
     ]
    }
   ],
   "source": [
    "class Animal:\n",
    "    def __init__(self, name, species):\n",
    "        self.name = name\n",
    "        self.species = species\n",
    "\n",
    "    def eat(self):\n",
    "        print(\"The animal is eating...\")\n",
    "\n",
    "class Cat(Animal):\n",
    "    def __init__(self, name, breed):\n",
    "        super().__init__(name, species='cat')\n",
    "        self.breed = breed\n",
    "\n",
    "    def meow(self):\n",
    "        print(\"Meow!\")\n",
    "\n",
    "cat = Cat('Whiskers', 'Siamese')\n",
    "cat.eat()  # prints \"The animal is eating...\"\n",
    "cat.meow()  # prints \"Meow!\"\n"
   ]
  },
  {
   "cell_type": "markdown",
   "id": "40616309-a7a5-41f7-a5ad-45e6b4eb2bbf",
   "metadata": {},
   "source": [
    "ii) Multiple inheritance: In multiple inheritance, a subclass inherits from multiple superclasses.\n",
    "Example:"
   ]
  },
  {
   "cell_type": "code",
   "execution_count": 10,
   "id": "5dfc9a17-56d0-4fed-b4d6-b98c01cc4292",
   "metadata": {},
   "outputs": [
    {
     "name": "stdout",
     "output_type": "stream",
     "text": [
      "Method A\n",
      "Method B\n",
      "Method C\n"
     ]
    }
   ],
   "source": [
    "class A:\n",
    "    def method_a(self):\n",
    "        print(\"Method A\")\n",
    "\n",
    "class B:\n",
    "    def method_b(self):\n",
    "        print(\"Method B\")\n",
    "\n",
    "class C(A, B):\n",
    "    def method_c(self):\n",
    "        print(\"Method C\")\n",
    "\n",
    "c = C()\n",
    "c.method_a()  # prints \"Method A\"\n",
    "c.method_b()  # prints \"Method B\"\n",
    "c.method_c()  # prints \"Method C\"\n"
   ]
  },
  {
   "cell_type": "markdown",
   "id": "c28bbd9b-e36f-4773-a8ef-1b0b846d2a09",
   "metadata": {},
   "source": [
    "iii) Multi-level inheritance: In multi-level inheritance, a subclass inherits from a superclass, which itself inherits from another superclass.\n",
    "Example:"
   ]
  },
  {
   "cell_type": "code",
   "execution_count": 11,
   "id": "a3fcdd41-1892-4af0-a7a3-7fffb49d14b2",
   "metadata": {},
   "outputs": [
    {
     "name": "stdout",
     "output_type": "stream",
     "text": [
      "The vehicle is starting...\n",
      "The car is driving...\n",
      "The sports car is accelerating...\n"
     ]
    }
   ],
   "source": [
    "class Vehicle:\n",
    "    def __init__(self, make, model):\n",
    "        self.make = make\n",
    "        self.model = model\n",
    "\n",
    "    def start(self):\n",
    "        print(\"The vehicle is starting...\")\n",
    "\n",
    "class Car(Vehicle):\n",
    "    def __init__(self, make, model, num_doors):\n",
    "        super().__init__(make, model)\n",
    "        self.num_doors = num_doors\n",
    "\n",
    "    def drive(self):\n",
    "        print(\"The car is driving...\")\n",
    "\n",
    "class SportsCar(Car):\n",
    "    def __init__(self, make, model, num_doors, top_speed):\n",
    "        super().__init__(make, model, num_doors)\n",
    "        self.top_speed = top_speed\n",
    "\n",
    "    def accelerate(self):\n",
    "        print(\"The sports car is accelerating...\")\n",
    "\n",
    "car = SportsCar('Ferrari', '458', 2, 205)\n",
    "car.start()  # prints \"The vehicle is starting...\"\n",
    "car.drive()  # prints \"The car is driving...\"\n",
    "car.accelerate()  # prints \"The sports car is accelerating...\"\n"
   ]
  },
  {
   "cell_type": "markdown",
   "id": "4b6b6c57-8fe6-46eb-9d8d-50016b3354b4",
   "metadata": {},
   "source": [
    "iv) Hierarchical inheritance: In hierarchical inheritance, multiple subclasses inherit from a single superclass.\n",
    "Example:"
   ]
  },
  {
   "cell_type": "code",
   "execution_count": 14,
   "id": "4fb2924e-be34-4197-9693-cc9afbffba43",
   "metadata": {},
   "outputs": [],
   "source": [
    "class Vehicle:\n",
    "    def __init__(self, make, model):\n",
    "        self.make = make\n",
    "        self.model = model\n",
    "\n",
    "    def start(self):\n",
    "        print(\"The vehicle is starting...\")\n",
    "\n",
    "class Car(Vehicle):\n",
    "    pass"
   ]
  },
  {
   "cell_type": "code",
   "execution_count": null,
   "id": "272abb61-4233-4ce9-a071-d6d8cd8f4ac7",
   "metadata": {},
   "outputs": [],
   "source": []
  }
 ],
 "metadata": {
  "kernelspec": {
   "display_name": "Python 3 (ipykernel)",
   "language": "python",
   "name": "python3"
  },
  "language_info": {
   "codemirror_mode": {
    "name": "ipython",
    "version": 3
   },
   "file_extension": ".py",
   "mimetype": "text/x-python",
   "name": "python",
   "nbconvert_exporter": "python",
   "pygments_lexer": "ipython3",
   "version": "3.10.8"
  }
 },
 "nbformat": 4,
 "nbformat_minor": 5
}
