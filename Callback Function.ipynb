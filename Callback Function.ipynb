{
 "cells": [
  {
   "cell_type": "markdown",
   "id": "45944597-13db-48cc-96b5-7bf73615c020",
   "metadata": {},
   "source": [
    "# 1)"
   ]
  },
  {
   "cell_type": "code",
   "execution_count": 3,
   "id": "7cbd0d22-0b80-4e71-bbec-d1037becb53a",
   "metadata": {},
   "outputs": [
    {
     "name": "stderr",
     "output_type": "stream",
     "text": [
      "2023-06-29 16:44:19.785549: I tensorflow/tsl/cuda/cudart_stub.cc:28] Could not find cuda drivers on your machine, GPU will not be used.\n",
      "2023-06-29 16:44:19.854423: I tensorflow/tsl/cuda/cudart_stub.cc:28] Could not find cuda drivers on your machine, GPU will not be used.\n",
      "2023-06-29 16:44:19.856275: I tensorflow/core/platform/cpu_feature_guard.cc:182] This TensorFlow binary is optimized to use available CPU instructions in performance-critical operations.\n",
      "To enable the following instructions: AVX2 FMA, in other operations, rebuild TensorFlow with the appropriate compiler flags.\n",
      "2023-06-29 16:44:20.939980: W tensorflow/compiler/tf2tensorrt/utils/py_utils.cc:38] TF-TRT Warning: Could not find TensorRT\n"
     ]
    },
    {
     "name": "stdout",
     "output_type": "stream",
     "text": [
      "TensorFlow version: 2.12.0\n",
      "Keras version: 2.12.0\n"
     ]
    }
   ],
   "source": [
    "import tensorflow as tf\n",
    "import keras\n",
    "\n",
    "print(\"TensorFlow version:\", tf.__version__)\n",
    "print(\"Keras version:\", keras.__version__)"
   ]
  },
  {
   "cell_type": "markdown",
   "id": "9dde5021-d33d-4d3e-8987-b8a63a11210c",
   "metadata": {},
   "source": [
    "# 2)"
   ]
  },
  {
   "cell_type": "code",
   "execution_count": 4,
   "id": "a17b8019-487c-4e12-a0c8-5cfafc02f5d6",
   "metadata": {},
   "outputs": [
    {
     "name": "stdout",
     "output_type": "stream",
     "text": [
      "Number of rows: 1599\n",
      "Number of columns: 12\n"
     ]
    }
   ],
   "source": [
    "import pandas as pd\n",
    "df = pd.read_csv('wine.csv')\n",
    "print(\"Number of rows:\", df.shape[0])\n",
    "print(\"Number of columns:\", df.shape[1])"
   ]
  },
  {
   "cell_type": "markdown",
   "id": "cf2ad3e4-ff3e-4454-8acf-4aae757c8555",
   "metadata": {},
   "source": [
    "# 3)"
   ]
  },
  {
   "cell_type": "code",
   "execution_count": 5,
   "id": "62809d17-90ab-4bba-bd00-b18878523955",
   "metadata": {},
   "outputs": [
    {
     "name": "stdout",
     "output_type": "stream",
     "text": [
      "fixed acidity           0\n",
      "volatile acidity        0\n",
      "citric acid             0\n",
      "residual sugar          0\n",
      "chlorides               0\n",
      "free sulfur dioxide     0\n",
      "total sulfur dioxide    0\n",
      "density                 0\n",
      "pH                      0\n",
      "sulphates               0\n",
      "alcohol                 0\n",
      "quality                 0\n",
      "dtype: int64\n"
     ]
    }
   ],
   "source": [
    "print(df.isnull().sum())"
   ]
  },
  {
   "cell_type": "code",
   "execution_count": 6,
   "id": "4e71c1aa-504c-47fc-9c7b-9e0f488a90f7",
   "metadata": {},
   "outputs": [
    {
     "name": "stdout",
     "output_type": "stream",
     "text": [
      "Categorical variables: Index(['quality'], dtype='object')\n"
     ]
    }
   ],
   "source": [
    "categorical_vars = df.select_dtypes(include=['object']).columns\n",
    "print(\"Categorical variables:\", categorical_vars)"
   ]
  },
  {
   "cell_type": "code",
   "execution_count": 7,
   "id": "2b98e6e4-8d06-48af-a05c-6c4b7f154d98",
   "metadata": {},
   "outputs": [],
   "source": [
    "df_encoded = pd.get_dummies(df, columns=categorical_vars)"
   ]
  },
  {
   "cell_type": "markdown",
   "id": "5e47884a-15cf-4e33-a16f-ce5b01caefdd",
   "metadata": {},
   "source": [
    "# 4)"
   ]
  },
  {
   "cell_type": "code",
   "execution_count": 8,
   "id": "fb07e9da-3aff-4f3a-ab73-d8e3aa9e8f72",
   "metadata": {},
   "outputs": [],
   "source": [
    "target_variable = df.columns[-1]"
   ]
  },
  {
   "cell_type": "code",
   "execution_count": 9,
   "id": "77625cf3-ee83-4445-8779-03ec7a0d2b8e",
   "metadata": {},
   "outputs": [],
   "source": [
    "features = df.drop(target_variable, axis=1)\n",
    "target = df[target_variable]"
   ]
  },
  {
   "cell_type": "markdown",
   "id": "c60645ff-14cd-4984-9644-0a6bb373e68d",
   "metadata": {},
   "source": [
    "# 5)"
   ]
  },
  {
   "cell_type": "code",
   "execution_count": 10,
   "id": "4fbff67b-3b07-4766-b9e0-5befbaafd27b",
   "metadata": {},
   "outputs": [],
   "source": [
    "from sklearn.model_selection import train_test_split"
   ]
  },
  {
   "cell_type": "code",
   "execution_count": 11,
   "id": "1f050705-1312-47c5-a825-5a1fd8527fe4",
   "metadata": {},
   "outputs": [],
   "source": [
    "X_train, X_test, y_train, y_test = train_test_split(features, target, test_size=0.2, random_state=42)"
   ]
  },
  {
   "cell_type": "code",
   "execution_count": 12,
   "id": "19d8a536-140e-4822-a6f5-39bcf8f50f16",
   "metadata": {},
   "outputs": [],
   "source": [
    "X_train, X_val, y_train, y_val = train_test_split(X_train, y_train, test_size=0.2, random_state=42)"
   ]
  },
  {
   "cell_type": "markdown",
   "id": "1e287e6a-ea24-4075-83e3-0522d906b7bc",
   "metadata": {},
   "source": [
    "# 6)"
   ]
  },
  {
   "cell_type": "code",
   "execution_count": 13,
   "id": "729d6b90-f5f0-4803-aee8-756a487b521c",
   "metadata": {},
   "outputs": [],
   "source": [
    "from sklearn.preprocessing import StandardScaler"
   ]
  },
  {
   "cell_type": "code",
   "execution_count": 14,
   "id": "c915cf6a-d42d-447c-850d-9b758fd1f0dd",
   "metadata": {},
   "outputs": [],
   "source": [
    "scaler = StandardScaler()"
   ]
  },
  {
   "cell_type": "code",
   "execution_count": 15,
   "id": "9d2f33fb-67f3-419d-975d-a9866769d3ef",
   "metadata": {},
   "outputs": [],
   "source": [
    "X_train_scaled = scaler.fit_transform(X_train)"
   ]
  },
  {
   "cell_type": "code",
   "execution_count": 16,
   "id": "fbb759a0-20bb-4bf2-8c3e-87b2edd9c861",
   "metadata": {},
   "outputs": [],
   "source": [
    "X_val_scaled = scaler.transform(X_val)\n",
    "X_test_scaled = scaler.transform(X_test)"
   ]
  },
  {
   "cell_type": "markdown",
   "id": "6cbb33cd-749b-4e2c-bd60-5994e697f2d3",
   "metadata": {},
   "source": [
    "# 7)"
   ]
  },
  {
   "cell_type": "code",
   "execution_count": 17,
   "id": "813b9cb3-3302-43cd-8ce5-5872c426d88f",
   "metadata": {},
   "outputs": [
    {
     "name": "stdout",
     "output_type": "stream",
     "text": [
      "Model: \"sequential\"\n",
      "_________________________________________________________________\n",
      " Layer (type)                Output Shape              Param #   \n",
      "=================================================================\n",
      " dense (Dense)               (None, 64)                768       \n",
      "                                                                 \n",
      " dense_1 (Dense)             (None, 32)                2080      \n",
      "                                                                 \n",
      " dense_2 (Dense)             (None, 1)                 33        \n",
      "                                                                 \n",
      "=================================================================\n",
      "Total params: 2,881\n",
      "Trainable params: 2,881\n",
      "Non-trainable params: 0\n",
      "_________________________________________________________________\n"
     ]
    }
   ],
   "source": [
    "import keras\n",
    "from keras.models import Sequential\n",
    "from keras.layers import Dense\n",
    "\n",
    "# Define the number of neurons in each layer\n",
    "input_dim = X_train_scaled.shape[1]  # Number of features\n",
    "\n",
    "# Create the model\n",
    "model = Sequential()\n",
    "\n",
    "# Add the first hidden layer\n",
    "model.add(Dense(64, activation='relu', input_dim=input_dim))\n",
    "\n",
    "# Add the second hidden layer\n",
    "model.add(Dense(32, activation='relu'))\n",
    "\n",
    "# Add the output layer\n",
    "model.add(Dense(1, activation='sigmoid'))\n",
    "\n",
    "# Compile the model\n",
    "model.compile(loss='binary_crossentropy', optimizer='adam', metrics=['accuracy'])\n",
    "\n",
    "# Print the model summary\n",
    "model.summary()"
   ]
  },
  {
   "cell_type": "markdown",
   "id": "d5770ae6-7851-4c14-a36e-da91b80e90c0",
   "metadata": {},
   "source": [
    "# 8)"
   ]
  },
  {
   "cell_type": "code",
   "execution_count": 18,
   "id": "4a97cf72-70c4-454a-9be2-3b7eb955e75e",
   "metadata": {},
   "outputs": [
    {
     "name": "stdout",
     "output_type": "stream",
     "text": [
      "Model: \"sequential_1\"\n",
      "_________________________________________________________________\n",
      " Layer (type)                Output Shape              Param #   \n",
      "=================================================================\n",
      " dense_3 (Dense)             (None, 64)                768       \n",
      "                                                                 \n",
      " dense_4 (Dense)             (None, 32)                2080      \n",
      "                                                                 \n",
      " dense_5 (Dense)             (None, 16)                528       \n",
      "                                                                 \n",
      " dense_6 (Dense)             (None, 1)                 17        \n",
      "                                                                 \n",
      "=================================================================\n",
      "Total params: 3,393\n",
      "Trainable params: 3,393\n",
      "Non-trainable params: 0\n",
      "_________________________________________________________________\n"
     ]
    }
   ],
   "source": [
    "import keras\n",
    "from keras.models import Sequential\n",
    "from keras.layers import Dense\n",
    "\n",
    "# Create the Sequential model\n",
    "model = Sequential()\n",
    "\n",
    "# Add the layers to the model\n",
    "model.add(Dense(64, activation='relu', input_dim=input_dim))  # First hidden layer\n",
    "model.add(Dense(32, activation='relu'))  # Second hidden layer\n",
    "model.add(Dense(16, activation='relu'))  # Additional hidden layer\n",
    "model.add(Dense(1, activation='sigmoid'))  # Output layer\n",
    "\n",
    "# Compile the model\n",
    "model.compile(loss='binary_crossentropy', optimizer='adam', metrics=['accuracy'])\n",
    "\n",
    "# Print the model summary\n",
    "model.summary()"
   ]
  },
  {
   "cell_type": "markdown",
   "id": "4be9e1a8-c86a-4f01-ac8b-f507514ec959",
   "metadata": {},
   "source": [
    "# 9)"
   ]
  },
  {
   "cell_type": "code",
   "execution_count": 22,
   "id": "2b4c0c04-97e1-4e87-ab9e-08df0e312baa",
   "metadata": {},
   "outputs": [],
   "source": [
    "from sklearn.preprocessing import LabelEncoder\n",
    "\n",
    "# Initialize LabelEncoder\n",
    "label_encoder = LabelEncoder()\n",
    "\n",
    "# Fit and transform the target variable\n",
    "y_train_encoded = label_encoder.fit_transform(y_train)\n",
    "y_val_encoded = label_encoder.transform(y_val)\n",
    "y_test_encoded = label_encoder.transform(y_test)"
   ]
  },
  {
   "cell_type": "code",
   "execution_count": 24,
   "id": "b3349b28-272b-4a70-ac2b-82fa2bbd92c9",
   "metadata": {},
   "outputs": [
    {
     "name": "stdout",
     "output_type": "stream",
     "text": [
      "Epoch 1/10\n",
      "32/32 [==============================] - 1s 17ms/step - loss: 0.6299 - accuracy: 0.6500 - val_loss: 0.5972 - val_accuracy: 0.6836\n",
      "Epoch 2/10\n",
      "32/32 [==============================] - 0s 7ms/step - loss: 0.5496 - accuracy: 0.7146 - val_loss: 0.5683 - val_accuracy: 0.7305\n",
      "Epoch 3/10\n",
      "32/32 [==============================] - 0s 6ms/step - loss: 0.5241 - accuracy: 0.7312 - val_loss: 0.5435 - val_accuracy: 0.7539\n",
      "Epoch 4/10\n",
      "32/32 [==============================] - 0s 6ms/step - loss: 0.5091 - accuracy: 0.7498 - val_loss: 0.5514 - val_accuracy: 0.7695\n",
      "Epoch 5/10\n",
      "32/32 [==============================] - 0s 6ms/step - loss: 0.4978 - accuracy: 0.7605 - val_loss: 0.5458 - val_accuracy: 0.7656\n",
      "Epoch 6/10\n",
      "32/32 [==============================] - 0s 6ms/step - loss: 0.4896 - accuracy: 0.7615 - val_loss: 0.5352 - val_accuracy: 0.7812\n",
      "Epoch 7/10\n",
      "32/32 [==============================] - 0s 6ms/step - loss: 0.4804 - accuracy: 0.7644 - val_loss: 0.5345 - val_accuracy: 0.7734\n",
      "Epoch 8/10\n",
      "32/32 [==============================] - 0s 6ms/step - loss: 0.4740 - accuracy: 0.7742 - val_loss: 0.5288 - val_accuracy: 0.7773\n",
      "Epoch 9/10\n",
      "32/32 [==============================] - 0s 6ms/step - loss: 0.4652 - accuracy: 0.7820 - val_loss: 0.5311 - val_accuracy: 0.7812\n",
      "Epoch 10/10\n",
      "32/32 [==============================] - 0s 6ms/step - loss: 0.4576 - accuracy: 0.7869 - val_loss: 0.5316 - val_accuracy: 0.7812\n"
     ]
    },
    {
     "data": {
      "text/plain": [
       "<keras.callbacks.History at 0x7f4e3066d0c0>"
      ]
     },
     "execution_count": 24,
     "metadata": {},
     "output_type": "execute_result"
    }
   ],
   "source": [
    "import keras\n",
    "from keras.models import Sequential\n",
    "from keras.layers import Dense\n",
    "from keras.callbacks import TensorBoard\n",
    "\n",
    "# Create the Sequential model\n",
    "model = Sequential()\n",
    "\n",
    "# Add the layers to the model\n",
    "model.add(Dense(64, activation='relu', input_dim=input_dim))  # First hidden layer\n",
    "model.add(Dense(32, activation='relu'))  # Second hidden layer\n",
    "model.add(Dense(16, activation='relu'))  # Additional hidden layer\n",
    "model.add(Dense(1, activation='sigmoid'))  # Output layer\n",
    "\n",
    "# Compile the model\n",
    "model.compile(loss='binary_crossentropy', optimizer='adam', metrics=['accuracy'])\n",
    "\n",
    "# Create a TensorBoard callback\n",
    "tensorboard_callback = TensorBoard(log_dir='./logs', histogram_freq=1, write_graph=True, write_images=True)\n",
    "\n",
    "# Train the model with the TensorBoard callback\n",
    "model.fit(X_train_scaled, y_train_encoded, epochs=10, batch_size=32, validation_data=(X_val_scaled, y_val_encoded), callbacks=[tensorboard_callback])"
   ]
  },
  {
   "cell_type": "markdown",
   "id": "c4a8975d-34f8-4094-a3bc-76901af3ea9d",
   "metadata": {},
   "source": [
    "# 10)"
   ]
  },
  {
   "cell_type": "code",
   "execution_count": 25,
   "id": "fa80535f-a0df-419f-81c1-164e43404df5",
   "metadata": {},
   "outputs": [
    {
     "name": "stdout",
     "output_type": "stream",
     "text": [
      "Epoch 1/20\n",
      "32/32 [==============================] - 1s 8ms/step - loss: 0.6285 - accuracy: 0.6559 - val_loss: 0.6200 - val_accuracy: 0.7188\n",
      "Epoch 2/20\n",
      "32/32 [==============================] - 0s 3ms/step - loss: 0.5490 - accuracy: 0.7380 - val_loss: 0.5690 - val_accuracy: 0.7734\n",
      "Epoch 3/20\n",
      "32/32 [==============================] - 0s 3ms/step - loss: 0.5144 - accuracy: 0.7478 - val_loss: 0.5451 - val_accuracy: 0.7539\n",
      "Epoch 4/20\n",
      "32/32 [==============================] - 0s 3ms/step - loss: 0.4980 - accuracy: 0.7546 - val_loss: 0.5525 - val_accuracy: 0.7969\n",
      "Epoch 5/20\n",
      "32/32 [==============================] - 0s 3ms/step - loss: 0.4880 - accuracy: 0.7605 - val_loss: 0.5340 - val_accuracy: 0.7930\n",
      "Epoch 6/20\n",
      "32/32 [==============================] - 0s 3ms/step - loss: 0.4755 - accuracy: 0.7674 - val_loss: 0.5321 - val_accuracy: 0.7852\n",
      "Epoch 7/20\n",
      "32/32 [==============================] - 0s 3ms/step - loss: 0.4758 - accuracy: 0.7732 - val_loss: 0.5313 - val_accuracy: 0.7930\n",
      "Epoch 8/20\n",
      "32/32 [==============================] - 0s 3ms/step - loss: 0.4645 - accuracy: 0.7752 - val_loss: 0.5338 - val_accuracy: 0.7891\n",
      "Epoch 9/20\n",
      "32/32 [==============================] - 0s 3ms/step - loss: 0.4606 - accuracy: 0.7820 - val_loss: 0.5353 - val_accuracy: 0.7891\n",
      "Epoch 10/20\n",
      "32/32 [==============================] - 0s 3ms/step - loss: 0.4531 - accuracy: 0.7801 - val_loss: 0.5440 - val_accuracy: 0.7969\n"
     ]
    },
    {
     "data": {
      "text/plain": [
       "<keras.callbacks.History at 0x7f4e304afb20>"
      ]
     },
     "execution_count": 25,
     "metadata": {},
     "output_type": "execute_result"
    }
   ],
   "source": [
    "import keras\n",
    "from keras.models import Sequential\n",
    "from keras.layers import Dense\n",
    "from keras.callbacks import EarlyStopping\n",
    "\n",
    "# Create the Sequential model\n",
    "model = Sequential()\n",
    "\n",
    "# Add the layers to the model\n",
    "model.add(Dense(64, activation='relu', input_dim=input_dim))  # First hidden layer\n",
    "model.add(Dense(32, activation='relu'))  # Second hidden layer\n",
    "model.add(Dense(16, activation='relu'))  # Additional hidden layer\n",
    "model.add(Dense(1, activation='sigmoid'))  # Output layer\n",
    "\n",
    "# Compile the model\n",
    "model.compile(loss='binary_crossentropy', optimizer='adam', metrics=['accuracy'])\n",
    "\n",
    "# Create an EarlyStopping callback\n",
    "early_stopping = EarlyStopping(monitor='val_loss', patience=3, restore_best_weights=True)\n",
    "\n",
    "# Train the model with the EarlyStopping callback\n",
    "model.fit(X_train_scaled, y_train_encoded, epochs=20, batch_size=32, validation_data=(X_val_scaled,y_val_encoded), callbacks=[early_stopping])"
   ]
  },
  {
   "cell_type": "markdown",
   "id": "51fe25d0-e0b6-4c59-916a-f86e22ad9d57",
   "metadata": {},
   "source": [
    "# 11)"
   ]
  },
  {
   "cell_type": "code",
   "execution_count": 26,
   "id": "90f11f32-daa0-4b1f-8f89-5d9254494ef3",
   "metadata": {},
   "outputs": [
    {
     "name": "stdout",
     "output_type": "stream",
     "text": [
      "Epoch 1/20\n",
      "32/32 [==============================] - 1s 9ms/step - loss: 0.6572 - accuracy: 0.6090 - val_loss: 0.6144 - val_accuracy: 0.6836\n",
      "Epoch 2/20\n",
      "32/32 [==============================] - 0s 4ms/step - loss: 0.5604 - accuracy: 0.7380 - val_loss: 0.5604 - val_accuracy: 0.7422\n",
      "Epoch 3/20\n",
      "32/32 [==============================] - 0s 4ms/step - loss: 0.5163 - accuracy: 0.7468 - val_loss: 0.5470 - val_accuracy: 0.7617\n",
      "Epoch 4/20\n",
      "32/32 [==============================] - 0s 3ms/step - loss: 0.5008 - accuracy: 0.7615 - val_loss: 0.5367 - val_accuracy: 0.7695\n",
      "Epoch 5/20\n",
      "32/32 [==============================] - 0s 3ms/step - loss: 0.4886 - accuracy: 0.7654 - val_loss: 0.5315 - val_accuracy: 0.7891\n",
      "Epoch 6/20\n",
      "32/32 [==============================] - 0s 3ms/step - loss: 0.4801 - accuracy: 0.7664 - val_loss: 0.5316 - val_accuracy: 0.7930\n",
      "Epoch 7/20\n",
      "32/32 [==============================] - 0s 3ms/step - loss: 0.4738 - accuracy: 0.7703 - val_loss: 0.5347 - val_accuracy: 0.7852\n",
      "Epoch 8/20\n",
      "32/32 [==============================] - 0s 3ms/step - loss: 0.4684 - accuracy: 0.7840 - val_loss: 0.5318 - val_accuracy: 0.7891\n",
      "Epoch 9/20\n",
      "32/32 [==============================] - 0s 3ms/step - loss: 0.4611 - accuracy: 0.7830 - val_loss: 0.5289 - val_accuracy: 0.7930\n",
      "Epoch 10/20\n",
      "32/32 [==============================] - 0s 3ms/step - loss: 0.4556 - accuracy: 0.7810 - val_loss: 0.5366 - val_accuracy: 0.7930\n",
      "Epoch 11/20\n",
      "32/32 [==============================] - 0s 3ms/step - loss: 0.4527 - accuracy: 0.7859 - val_loss: 0.5275 - val_accuracy: 0.7852\n",
      "Epoch 12/20\n",
      "32/32 [==============================] - 0s 3ms/step - loss: 0.4492 - accuracy: 0.7869 - val_loss: 0.5332 - val_accuracy: 0.7852\n",
      "Epoch 13/20\n",
      "32/32 [==============================] - 0s 3ms/step - loss: 0.4439 - accuracy: 0.7908 - val_loss: 0.5321 - val_accuracy: 0.7773\n",
      "Epoch 14/20\n",
      "32/32 [==============================] - 0s 3ms/step - loss: 0.4382 - accuracy: 0.7957 - val_loss: 0.5511 - val_accuracy: 0.7891\n",
      "Epoch 15/20\n",
      "32/32 [==============================] - 0s 3ms/step - loss: 0.4347 - accuracy: 0.8016 - val_loss: 0.5379 - val_accuracy: 0.7852\n",
      "Epoch 16/20\n",
      "32/32 [==============================] - 0s 3ms/step - loss: 0.4318 - accuracy: 0.7967 - val_loss: 0.5430 - val_accuracy: 0.7891\n",
      "Epoch 17/20\n",
      "32/32 [==============================] - 0s 3ms/step - loss: 0.4288 - accuracy: 0.8035 - val_loss: 0.5401 - val_accuracy: 0.7812\n",
      "Epoch 18/20\n",
      "32/32 [==============================] - 0s 3ms/step - loss: 0.4239 - accuracy: 0.8035 - val_loss: 0.5458 - val_accuracy: 0.7812\n",
      "Epoch 19/20\n",
      "32/32 [==============================] - 0s 3ms/step - loss: 0.4192 - accuracy: 0.8045 - val_loss: 0.5479 - val_accuracy: 0.7695\n",
      "Epoch 20/20\n",
      "32/32 [==============================] - 0s 3ms/step - loss: 0.4160 - accuracy: 0.8025 - val_loss: 0.5486 - val_accuracy: 0.7734\n"
     ]
    },
    {
     "data": {
      "text/plain": [
       "<keras.callbacks.History at 0x7f4e302bad10>"
      ]
     },
     "execution_count": 26,
     "metadata": {},
     "output_type": "execute_result"
    }
   ],
   "source": [
    "import keras\n",
    "from keras.models import Sequential\n",
    "from keras.layers import Dense\n",
    "from keras.callbacks import ModelCheckpoint\n",
    "\n",
    "# Create the Sequential model\n",
    "model = Sequential()\n",
    "\n",
    "# Add the layers to the model\n",
    "model.add(Dense(64, activation='relu', input_dim=input_dim))  # First hidden layer\n",
    "model.add(Dense(32, activation='relu'))  # Second hidden layer\n",
    "model.add(Dense(16, activation='relu'))  # Additional hidden layer\n",
    "model.add(Dense(1, activation='sigmoid'))  # Output layer\n",
    "\n",
    "# Compile the model\n",
    "model.compile(loss='binary_crossentropy', optimizer='adam', metrics=['accuracy'])\n",
    "\n",
    "# Create a ModelCheckpoint callback\n",
    "checkpoint_callback = ModelCheckpoint(filepath='best_model.h5', monitor='val_accuracy', save_best_only=True)\n",
    "\n",
    "# Train the model with the ModelCheckpoint callback\n",
    "model.fit(X_train_scaled, y_train_encoded, epochs=20, batch_size=32, validation_data=(X_val_scaled, y_val_encoded), callbacks=[checkpoint_callback])\n"
   ]
  },
  {
   "cell_type": "markdown",
   "id": "978bf241-e669-4a73-97ee-597e75a6b103",
   "metadata": {},
   "source": [
    "# 12)"
   ]
  },
  {
   "cell_type": "code",
   "execution_count": 27,
   "id": "07015115-09b8-47f8-97f4-6bf907074500",
   "metadata": {},
   "outputs": [
    {
     "name": "stdout",
     "output_type": "stream",
     "text": [
      "Model: \"sequential_7\"\n",
      "_________________________________________________________________\n",
      " Layer (type)                Output Shape              Param #   \n",
      "=================================================================\n",
      " dense_27 (Dense)            (None, 64)                768       \n",
      "                                                                 \n",
      " dense_28 (Dense)            (None, 32)                2080      \n",
      "                                                                 \n",
      " dense_29 (Dense)            (None, 16)                528       \n",
      "                                                                 \n",
      " dense_30 (Dense)            (None, 1)                 17        \n",
      "                                                                 \n",
      "=================================================================\n",
      "Total params: 3,393\n",
      "Trainable params: 3,393\n",
      "Non-trainable params: 0\n",
      "_________________________________________________________________\n"
     ]
    }
   ],
   "source": [
    "model.summary()"
   ]
  },
  {
   "cell_type": "markdown",
   "id": "e917d6ee-d625-4f05-aac9-73359223fdd5",
   "metadata": {},
   "source": [
    "# 13)"
   ]
  },
  {
   "cell_type": "code",
   "execution_count": 28,
   "id": "6709becc-3de6-403c-b56d-85334954fd59",
   "metadata": {},
   "outputs": [
    {
     "name": "stdout",
     "output_type": "stream",
     "text": [
      "Model: \"sequential_8\"\n",
      "_________________________________________________________________\n",
      " Layer (type)                Output Shape              Param #   \n",
      "=================================================================\n",
      " dense_31 (Dense)            (None, 64)                768       \n",
      "                                                                 \n",
      " dense_32 (Dense)            (None, 32)                2080      \n",
      "                                                                 \n",
      " dense_33 (Dense)            (None, 16)                528       \n",
      "                                                                 \n",
      " dense_34 (Dense)            (None, 1)                 17        \n",
      "                                                                 \n",
      "=================================================================\n",
      "Total params: 3,393\n",
      "Trainable params: 3,393\n",
      "Non-trainable params: 0\n",
      "_________________________________________________________________\n"
     ]
    }
   ],
   "source": [
    "import keras\n",
    "from keras.models import Sequential\n",
    "from keras.layers import Dense\n",
    "\n",
    "# Create the Sequential model\n",
    "model = Sequential()\n",
    "\n",
    "# Add the layers to the model\n",
    "model.add(Dense(64, activation='relu', input_dim=input_dim))  # First hidden layer\n",
    "model.add(Dense(32, activation='relu'))  # Second hidden layer\n",
    "model.add(Dense(16, activation='relu'))  # Additional hidden layer\n",
    "model.add(Dense(1, activation='sigmoid'))  # Output layer\n",
    "\n",
    "# Compile the model\n",
    "model.compile(loss='binary_crossentropy', optimizer='adam', metrics=['accuracy'])\n",
    "\n",
    "# Print the model summary\n",
    "model.summary()"
   ]
  },
  {
   "cell_type": "markdown",
   "id": "17385651-1f25-4e9f-9207-cea842e8eeb2",
   "metadata": {},
   "source": [
    "# 14)"
   ]
  },
  {
   "cell_type": "code",
   "execution_count": 29,
   "id": "67dfe565-7f5a-44ff-9c21-4e3d7eb79de7",
   "metadata": {},
   "outputs": [],
   "source": [
    "import keras\n",
    "from keras.models import Sequential\n",
    "from keras.layers import Dense\n",
    "\n",
    "# Create the Sequential model\n",
    "model = Sequential()\n",
    "\n",
    "# Add the layers to the model\n",
    "model.add(Dense(64, activation='relu', input_dim=input_dim))  # First hidden layer\n",
    "model.add(Dense(32, activation='relu'))  # Second hidden layer\n",
    "model.add(Dense(16, activation='relu'))  # Additional hidden layer\n",
    "model.add(Dense(1, activation='sigmoid'))  # Output layer\n",
    "\n",
    "# Compile the model with specified loss function, optimizer, and metrics\n",
    "model.compile(loss='binary_crossentropy', optimizer='adam', metrics=['accuracy'])"
   ]
  },
  {
   "cell_type": "markdown",
   "id": "de4f2188-343f-4c12-a479-8878f9d23361",
   "metadata": {},
   "source": [
    "# 15)"
   ]
  },
  {
   "cell_type": "code",
   "execution_count": 31,
   "id": "7c94ab90-0bc3-45ad-b900-9da853c4ff7e",
   "metadata": {},
   "outputs": [
    {
     "name": "stdout",
     "output_type": "stream",
     "text": [
      "Epoch 1/20\n",
      "32/32 [==============================] - 1s 13ms/step - loss: 0.9143 - accuracy: 0.5924 - val_loss: 0.6305 - val_accuracy: 0.5977\n",
      "Epoch 2/20\n",
      "32/32 [==============================] - 0s 7ms/step - loss: 0.6374 - accuracy: 0.6393 - val_loss: 0.6381 - val_accuracy: 0.6055\n",
      "Epoch 3/20\n",
      "32/32 [==============================] - 0s 6ms/step - loss: 0.6284 - accuracy: 0.6471 - val_loss: 0.6898 - val_accuracy: 0.5469\n",
      "Epoch 4/20\n",
      "32/32 [==============================] - 0s 6ms/step - loss: 0.6258 - accuracy: 0.6325 - val_loss: 0.6100 - val_accuracy: 0.6094\n",
      "Epoch 5/20\n",
      "32/32 [==============================] - 0s 6ms/step - loss: 0.6380 - accuracy: 0.6227 - val_loss: 0.6433 - val_accuracy: 0.5625\n",
      "Epoch 6/20\n",
      "32/32 [==============================] - 0s 6ms/step - loss: 0.6138 - accuracy: 0.6716 - val_loss: 0.6190 - val_accuracy: 0.6406\n",
      "Epoch 7/20\n",
      "32/32 [==============================] - 0s 6ms/step - loss: 0.6242 - accuracy: 0.6334 - val_loss: 0.6143 - val_accuracy: 0.6094\n"
     ]
    },
    {
     "data": {
      "text/plain": [
       "<keras.callbacks.History at 0x7f4e1041ad40>"
      ]
     },
     "execution_count": 31,
     "metadata": {},
     "output_type": "execute_result"
    }
   ],
   "source": [
    "import keras\n",
    "from keras.models import Sequential\n",
    "from keras.layers import Dense\n",
    "from keras.callbacks import TensorBoard, EarlyStopping, ModelCheckpoint\n",
    "\n",
    "# Create the Sequential model\n",
    "model = Sequential()\n",
    "\n",
    "# Add the layers to the model\n",
    "model.add(Dense(64, activation='relu', input_dim=input_dim))  # First hidden layer\n",
    "model.add(Dense(32, activation='relu'))  # Second hidden layer\n",
    "model.add(Dense(16, activation='relu'))  # Additional hidden layer\n",
    "model.add(Dense(1, activation='sigmoid'))  # Output layer\n",
    "\n",
    "# Compile the model\n",
    "model.compile(loss='binary_crossentropy', optimizer='adam', metrics=['accuracy'])\n",
    "\n",
    "# Define callbacks\n",
    "tensorboard_callback = TensorBoard(log_dir='./logs', histogram_freq=1, write_graph=True, write_images=True)\n",
    "early_stopping = EarlyStopping(monitor='val_loss', patience=3, restore_best_weights=True)\n",
    "model_checkpoint = ModelCheckpoint(filepath='best_model1.h5', monitor='val_accuracy', save_best_only=True)\n",
    "\n",
    "# Fit the model with callbacks\n",
    "model.fit(X_train, y_train_encoded, epochs=20, batch_size=32, validation_data=(X_val, y_val_encoded), callbacks=[tensorboard_callback, early_stopping, model_checkpoint])\n"
   ]
  },
  {
   "cell_type": "markdown",
   "id": "3c84c97a-5b19-49ad-ae7c-29b718e2e3c0",
   "metadata": {},
   "source": [
    "# 16)"
   ]
  },
  {
   "cell_type": "code",
   "execution_count": 32,
   "id": "7fe084f3-a552-472c-b577-dc6f01d4b804",
   "metadata": {},
   "outputs": [
    {
     "name": "stdout",
     "output_type": "stream",
     "text": [
      "Layer 1 parameters:\n",
      "[[-0.06529215  0.14675505 -0.26684782 -0.05319177  0.02629951 -0.04046524\n",
      "  -0.21842675 -0.10896564  0.1314868  -0.22715817 -0.15379062 -0.24335341\n",
      "  -0.18235323  0.01316291  0.19251668  0.19084282  0.23212397  0.16424415\n",
      "  -0.23856698 -0.19817038 -0.23714401 -0.24710323  0.26300082 -0.07135953\n",
      "  -0.16588412  0.27879834 -0.01062109  0.22423577  0.0242016   0.12766069\n",
      "   0.00463343 -0.24114819 -0.10495089 -0.1418136   0.17080805  0.01049725\n",
      "  -0.27811885  0.24688691  0.16879775 -0.01162593 -0.19934297 -0.16670455\n",
      "   0.2700551   0.12282982  0.09176831  0.07223067 -0.14082079 -0.20804484\n",
      "  -0.28998595  0.13347542  0.21031256  0.04382663 -0.17392673  0.2776892\n",
      "  -0.2502486   0.04902461 -0.25448698 -0.15676919  0.10538755  0.2569455\n",
      "   0.11835559  0.20718928  0.08561242  0.22337858]\n",
      " [-0.18302402 -0.30434102 -0.03946082 -0.1249114   0.11126041  0.01491995\n",
      "   0.2565432   0.22861281 -0.14638066  0.12438259 -0.25537652 -0.10054476\n",
      "  -0.07687774 -0.21991357  0.04871271 -0.14358903 -0.30968165 -0.2860908\n",
      "   0.14956017 -0.01292009 -0.08210032  0.23889835  0.09522355  0.14487903\n",
      "  -0.04662801 -0.2782721   0.06095641 -0.15330614  0.24865308  0.06992476\n",
      "   0.06114123  0.01613476  0.04754078 -0.17963094 -0.1898779   0.06049167\n",
      "  -0.00325865 -0.16703334  0.27177438 -0.16153957 -0.14461215  0.04040843\n",
      "   0.28549075 -0.12935252  0.00041648  0.28117505 -0.08620933 -0.23249449\n",
      "  -0.2703264   0.00792632  0.130451   -0.09098321  0.16821776  0.18034445\n",
      "   0.0994245  -0.06386556  0.07802711 -0.29771936  0.10002587  0.25093132\n",
      "  -0.11480886  0.03276892  0.07621777 -0.28855562]\n",
      " [-0.08569992  0.18544364  0.264114   -0.14848012 -0.10537609 -0.14211203\n",
      "  -0.05413526 -0.20971823 -0.2296739   0.2570217   0.11144808 -0.14759946\n",
      "   0.23682669 -0.2119327  -0.27396998 -0.23859242  0.06318793  0.13376604\n",
      "  -0.166652   -0.18199061 -0.22533986 -0.15205933  0.00107276  0.17857152\n",
      "   0.13644712  0.13820349  0.15899326 -0.23201044  0.28142902 -0.03767633\n",
      "  -0.19286472  0.1841339   0.02697171 -0.0379524   0.2143211  -0.0283448\n",
      "   0.03688785 -0.17235275 -0.27400312 -0.25242648 -0.0284887  -0.20305462\n",
      "   0.08340614 -0.09666114 -0.18078329  0.00503778 -0.1500666   0.02345733\n",
      "  -0.072203    0.23323199  0.20933701 -0.19805045 -0.21716091  0.14847991\n",
      "   0.03007848 -0.14427656 -0.08229537 -0.0732879  -0.03944957 -0.17868583\n",
      "   0.18425427 -0.22916372  0.02932102  0.2729836 ]\n",
      " [-0.07214718 -0.25714993 -0.15453315 -0.13305709 -0.22061077  0.2441383\n",
      "  -0.03052641  0.09624401  0.15344124 -0.05677646 -0.21336226 -0.19426662\n",
      "  -0.11945456 -0.06888157 -0.12862517  0.2508955   0.02363475  0.10525738\n",
      "  -0.08776418 -0.17676735  0.17152292 -0.03409586 -0.05502403  0.2856537\n",
      "  -0.07806534 -0.13037778  0.23687226 -0.05811718 -0.14440696  0.23280029\n",
      "   0.07116508  0.06071648  0.03112853  0.0842365   0.02187577 -0.05769761\n",
      "   0.17003652 -0.00923569 -0.04359987 -0.21413416  0.08102835 -0.26060653\n",
      "  -0.1581935  -0.18702674  0.03191508 -0.13152103  0.19347516  0.19247688\n",
      "  -0.23795508  0.10477483  0.26812494  0.13092189 -0.11037011  0.09634198\n",
      "   0.19677977 -0.00175467 -0.09377649  0.07031675  0.02857671  0.06838264\n",
      "   0.00632514  0.0029915  -0.03712134  0.18494792]\n",
      " [-0.1154945   0.07280852  0.04227825 -0.2887021   0.25504526 -0.2533821\n",
      "  -0.08988211  0.20112158 -0.24873638 -0.135965    0.27583715 -0.04517576\n",
      "  -0.10562675  0.21267104 -0.18534772  0.1690325  -0.23548028  0.09325801\n",
      "   0.13881609  0.05762597  0.13152143 -0.22543742  0.16581535 -0.18918037\n",
      "  -0.12968133 -0.149103    0.2256147  -0.0743344   0.2753645  -0.10339261\n",
      "   0.09889213 -0.18878108 -0.2756414   0.2845995   0.23684481 -0.06750363\n",
      "  -0.17115316  0.1743278   0.22713597  0.26392856 -0.18570071  0.15549424\n",
      "   0.15736279 -0.01669317 -0.04061332  0.22896174  0.17487788  0.25619966\n",
      "  -0.08138534 -0.07130486  0.16384931 -0.05445044 -0.01432265  0.05538683\n",
      "  -0.11636121  0.14999613  0.15378056  0.18491535  0.25973347 -0.134117\n",
      "  -0.22673486 -0.21063283  0.07961196 -0.26807335]\n",
      " [ 0.2615771  -0.02843532  0.13692345 -0.04843577  0.0579097  -0.27283344\n",
      "   0.06885047 -0.04744671 -0.1725732  -0.2519644  -0.08528566  0.25433347\n",
      "  -0.24429218  0.11867878  0.11381957  0.0946086   0.08726732 -0.21708655\n",
      "   0.14332618 -0.00695693 -0.16787764 -0.07250433  0.14012337 -0.22666037\n",
      "   0.05768408  0.04494534  0.07356238 -0.24160726  0.02248912 -0.00675256\n",
      "   0.04495029 -0.20467111  0.23789118 -0.12896176 -0.06861474 -0.17810301\n",
      "  -0.04894793  0.2177099   0.06929598  0.16226807  0.03479971  0.15549222\n",
      "   0.03647795  0.04572326 -0.05763341  0.11937007 -0.04505107  0.2259247\n",
      "   0.24796453 -0.007723    0.27049768 -0.16554776 -0.09698708 -0.23858431\n",
      "   0.12213045 -0.09912272 -0.16516282  0.02638103 -0.09242514 -0.02165728\n",
      "  -0.21712165  0.09478719 -0.12850158 -0.23360121]\n",
      " [-0.26285553  0.02414968 -0.13578407  0.15308596 -0.16207284 -0.1955327\n",
      "   0.14975046 -0.24008901  0.13071793 -0.20331958 -0.2383513   0.01945334\n",
      "  -0.13652828 -0.26930428 -0.20984541 -0.26261568  0.19279365 -0.09809737\n",
      "   0.06864683  0.12900083 -0.15904143  0.21258157 -0.20594725 -0.0571848\n",
      "  -0.19530894 -0.24714923 -0.06378572 -0.08697076  0.25501552  0.27061838\n",
      "  -0.06510726  0.20446266  0.09959889 -0.06366598 -0.21004924  0.2521551\n",
      "  -0.03314482 -0.2356143  -0.1756329  -0.04027827 -0.01629184 -0.17500809\n",
      "   0.20007572 -0.13201453  0.06376597 -0.28235707 -0.23841226  0.20338437\n",
      "  -0.08142433 -0.14974271 -0.2269223   0.07778905  0.21402061  0.14691055\n",
      "  -0.21833004 -0.2409327   0.18391101  0.15975717  0.09685048 -0.0004326\n",
      "  -0.0267672   0.1742703   0.12066606 -0.02675829]\n",
      " [-0.2802456  -0.05656     0.0842941  -0.16474919 -0.1533521  -0.24018995\n",
      "  -0.10856342 -0.05460807 -0.00117015  0.19022453  0.2781221   0.13752212\n",
      "   0.04286692 -0.2702879   0.11184109 -0.05205845 -0.09837631 -0.28603297\n",
      "  -0.16595863 -0.12476112 -0.15279219 -0.21783167  0.10397393  0.18888865\n",
      "  -0.10272565  0.1461304  -0.16117851  0.13939853  0.15940109  0.15138054\n",
      "  -0.1360276   0.10879787 -0.02163119  0.20895691 -0.16514356  0.1321243\n",
      "  -0.10235238  0.2125089  -0.01990179  0.11209311  0.29518136 -0.02458739\n",
      "  -0.18092014  0.25595006 -0.14192836  0.05732128  0.16721213  0.06523339\n",
      "  -0.14747095  0.05966687  0.2194921  -0.00056106 -0.10290172  0.13915832\n",
      "   0.1188856   0.02680972 -0.00250075  0.09441438 -0.12310745 -0.17182738\n",
      "   0.16341718  0.19775562  0.2664405  -0.03785568]\n",
      " [ 0.16342127  0.1095475   0.21977834 -0.15410006  0.2037169   0.04664104\n",
      "  -0.01366829  0.12280947 -0.20441715  0.10628378  0.0750719   0.01423129\n",
      "   0.04683688 -0.15059191 -0.07911456  0.15217184  0.04406601 -0.16754027\n",
      "   0.06196411  0.13568069 -0.24194767  0.25926498 -0.20305929  0.22911334\n",
      "   0.1501443  -0.21512     0.215017    0.19509797 -0.21489178 -0.16670401\n",
      "   0.21658596  0.01862489  0.08518758  0.27838555  0.04472733 -0.21104781\n",
      "   0.01613349  0.10752214  0.05301441  0.18073961 -0.22384702  0.13007003\n",
      "  -0.24043489 -0.20574899 -0.12717149 -0.17450252  0.0003607   0.04058438\n",
      "  -0.15816379 -0.13005155 -0.27200046 -0.09023412  0.19608366 -0.10124297\n",
      "   0.22981474 -0.25799355  0.11757351  0.10183042 -0.12008244  0.24787618\n",
      "   0.24148676 -0.1948889   0.21167888  0.19705649]\n",
      " [ 0.17185152 -0.11677291  0.09267905 -0.2641379  -0.2788427   0.14244398\n",
      "   0.04351884 -0.0391115  -0.21692008 -0.06596197  0.20789003  0.1597857\n",
      "  -0.0661481   0.10275781 -0.11186074  0.0930735  -0.09698392 -0.01564381\n",
      "   0.2617483   0.2548214  -0.0231792  -0.07328639 -0.24322596 -0.25926322\n",
      "   0.13710824  0.03761187 -0.11621327  0.25990283  0.05415633  0.12043791\n",
      "  -0.02077075 -0.06680023  0.1395358  -0.26095632  0.09604868 -0.03079309\n",
      "  -0.03224078 -0.0589439  -0.24457353  0.05021678 -0.00748434 -0.171864\n",
      "  -0.22009125 -0.1574512  -0.10617904 -0.01435164  0.17638755 -0.07468391\n",
      "   0.10109065 -0.01557478 -0.03887466 -0.2503611   0.09295736 -0.10677908\n",
      "   0.23772284 -0.06698929  0.21821797  0.21351473 -0.2168772   0.08772472\n",
      "   0.10310798  0.07617547 -0.02522846 -0.17254034]\n",
      " [-0.0914965   0.22785066  0.2761121   0.034132   -0.23839     0.26392373\n",
      "  -0.28391165  0.22869349  0.19254668  0.18435511 -0.10100658  0.14656232\n",
      "  -0.2686638   0.05670768 -0.01907162 -0.18873768  0.07858701 -0.02479655\n",
      "  -0.04894257 -0.03944841  0.15435788 -0.2501191  -0.1711916   0.19419321\n",
      "   0.18166485  0.18209188  0.20744438  0.24218135  0.11655183  0.04723526\n",
      "   0.1230995  -0.09068307  0.21980605  0.24021363 -0.11427049  0.21517025\n",
      "  -0.00426865  0.01452729  0.25190276 -0.25798494  0.22470863 -0.17417358\n",
      "   0.02987924 -0.10709251 -0.22719222 -0.02343041 -0.27873808 -0.1118738\n",
      "   0.17066826 -0.13623825 -0.02086691 -0.13196374 -0.03482248  0.1514438\n",
      "   0.19946365 -0.18892977  0.12197723  0.23979959 -0.23987588 -0.01153356\n",
      "  -0.12226586 -0.1422564  -0.23121011  0.0501729 ]]\n",
      "\n",
      "Layer 2 parameters:\n",
      "[ 0.         -0.00783211  0.00198781 -0.01620866  0.          0.00642482\n",
      "  0.00232377  0.0044685   0.00171916  0.          0.         -0.00932066\n",
      "  0.          0.          0.00617947 -0.00645992 -0.00588347 -0.00744221\n",
      " -0.00031804 -0.00615743  0.         -0.0144724   0.          0.0159904\n",
      " -0.00982112 -0.00070313  0.00076649  0.00563827  0.01220837 -0.00630444\n",
      " -0.00231053 -0.02001528  0.0158133   0.02858896  0.         -0.00027119\n",
      "  0.          0.02488435 -0.00766794 -0.01056997  0.01996945  0.\n",
      "  0.00236763  0.          0.02832638  0.          0.          0.00013309\n",
      " -0.01207383  0.          0.00171003 -0.01364291  0.01210658  0.00035824\n",
      " -0.00803225  0.         -0.00074407 -0.00799746  0.00786706  0.00896165\n",
      " -0.01978118 -0.00132969  0.01097403 -0.01153273]\n",
      "\n",
      "Layer 3 parameters:\n",
      "[[ 0.08736503 -0.20984173  0.21117878 ...  0.08387357 -0.03537101\n",
      "   0.00832093]\n",
      " [ 0.04909549 -0.17988658 -0.00353561 ... -0.23271056  0.04049156\n",
      "  -0.11658186]\n",
      " [ 0.20143221 -0.0157758   0.11380673 ... -0.20719469  0.16886593\n",
      "  -0.0149163 ]\n",
      " ...\n",
      " [-0.11488986  0.23403563 -0.24970613 ... -0.16308188 -0.08626723\n",
      "   0.04000573]\n",
      " [-0.04692637 -0.02695366  0.17274818 ...  0.08265158 -0.15214086\n",
      "  -0.10606777]\n",
      " [ 0.11634862  0.05984831  0.22894418 ... -0.0047285  -0.22632477\n",
      "  -0.06813262]]\n",
      "\n",
      "Layer 4 parameters:\n",
      "[-0.01119157 -0.0026003   0.00204559 -0.00878996  0.         -0.00308\n",
      " -0.00887026  0.         -0.00702554  0.         -0.00565633 -0.00597499\n",
      "  0.00273189 -0.00309542 -0.00189425 -0.00807489 -0.00366041  0.\n",
      "  0.0036846   0.00319154 -0.00600274 -0.00666777  0.         -0.003974\n",
      "  0.          0.02462578 -0.00859065 -0.00492645  0.         -0.00600001\n",
      " -0.00499908 -0.00735119]\n",
      "\n",
      "Layer 5 parameters:\n",
      "[[-0.10182839  0.31151208 -0.30403394  0.26470023  0.02167616  0.27419487\n",
      "   0.10487688 -0.04910362  0.02290316 -0.12853038 -0.24269542  0.28008252\n",
      "   0.14578949 -0.04552196 -0.33659357 -0.13425608]\n",
      " [-0.01083456 -0.06816688  0.21617424  0.33754754  0.3318846  -0.2851604\n",
      "  -0.04811174 -0.05162466  0.08611674 -0.096783   -0.00659087  0.08550756\n",
      "  -0.05064356 -0.28354236 -0.35194448  0.2871968 ]\n",
      " [-0.0993288   0.23640051 -0.2464189   0.14734097  0.06269851  0.21926516\n",
      "  -0.09585181  0.10390952  0.19321358  0.25704905  0.35337716 -0.09105222\n",
      "   0.09546146  0.17740838  0.07127023  0.15293744]\n",
      " [ 0.3373897   0.33912733  0.01789386 -0.00941862 -0.17594196 -0.09822019\n",
      "  -0.10986394 -0.19058914  0.3102325  -0.3150776   0.27938294  0.34525898\n",
      "  -0.13338591  0.02515497  0.215071   -0.25669605]\n",
      " [ 0.14202115  0.3477094   0.28589764 -0.30008987 -0.11767964  0.33052972\n",
      "   0.11523461 -0.15954521 -0.2962979  -0.17746958  0.08465937  0.04895794\n",
      "   0.03874207  0.2749267   0.06370857  0.17047516]\n",
      " [-0.00518894 -0.01795387  0.25375828  0.10950388 -0.09770893 -0.22994426\n",
      "  -0.13929997 -0.26102605 -0.11782941  0.10609796  0.28849432  0.09146913\n",
      "   0.30634877 -0.2519097   0.10604289  0.04241946]\n",
      " [ 0.27319515 -0.19757245  0.31917387  0.06384376  0.03743192 -0.27690947\n",
      "  -0.11952913 -0.30938965 -0.2995177  -0.11994014  0.14285278 -0.23327716\n",
      "   0.1773033   0.06419502  0.18443772 -0.23349446]\n",
      " [-0.0094651  -0.1562929  -0.24790835 -0.34437236 -0.13924138 -0.18558007\n",
      "  -0.07296833  0.16247675 -0.03000501  0.09731638 -0.00517908 -0.30302748\n",
      "  -0.22820385  0.35335597 -0.14764993  0.18008497]\n",
      " [ 0.20399524  0.13198885  0.25748482  0.09886849  0.18975662  0.17057368\n",
      "   0.22584954 -0.04206619  0.10930583 -0.05499204 -0.34550878  0.05953589\n",
      "   0.20244731  0.04791724 -0.2562644   0.09115326]\n",
      " [-0.10296103  0.06771439  0.17963484 -0.18070444  0.164296   -0.02448285\n",
      "  -0.14758006 -0.251756    0.17434868 -0.26991826 -0.06765497  0.19728664\n",
      "  -0.14006434 -0.04105297 -0.05198199 -0.28073215]\n",
      " [-0.06895962  0.35082772 -0.30598995  0.02362365  0.06593913  0.20053396\n",
      "  -0.02540806 -0.3371086  -0.18474893  0.16283897 -0.32181436  0.11955728\n",
      "  -0.12294598  0.18148574  0.20544615 -0.13676526]\n",
      " [-0.1521679  -0.13972995 -0.3287375  -0.02549437 -0.16195707 -0.17595541\n",
      "   0.0830116   0.03877309 -0.04033817 -0.2273777  -0.02281394 -0.2691496\n",
      "   0.32156742  0.04824797 -0.33135903  0.22834769]\n",
      " [ 0.2534612  -0.13496727  0.29341352  0.1842295   0.26986086  0.26145768\n",
      "   0.3376446  -0.10257649  0.29754156  0.17111185  0.04527199  0.07336278\n",
      "   0.08505358  0.19815567  0.15595916  0.07403025]\n",
      " [-0.31993467  0.19845149 -0.07037523 -0.18075871 -0.12656109 -0.23218271\n",
      "  -0.17420287 -0.10453919 -0.3325437  -0.26740775  0.32858717 -0.16689534\n",
      "  -0.29802474 -0.07274833 -0.21798097 -0.20448698]\n",
      " [ 0.05034468  0.02796704 -0.20739363  0.06169798  0.2506562  -0.06857916\n",
      "  -0.15388244 -0.00071016 -0.09472808 -0.28113863 -0.09781946 -0.22624817\n",
      "  -0.20390162 -0.17489953  0.2395626  -0.23804033]\n",
      " [-0.20603748 -0.1638887  -0.27665907  0.1097267  -0.34954572 -0.17089878\n",
      "  -0.23289177 -0.17128226 -0.16400905 -0.34625798 -0.22384076  0.2819122\n",
      "   0.11864255  0.15363304 -0.3292205  -0.27336615]\n",
      " [ 0.11109123 -0.3113482  -0.12347471  0.18356638 -0.3007234  -0.28888354\n",
      "   0.28448758 -0.24019969 -0.05097087  0.03874486  0.3142646   0.15404984\n",
      "  -0.176384   -0.24920918 -0.2274501  -0.26946092]\n",
      " [-0.08881849 -0.24764511  0.207566    0.198315    0.23534992 -0.2905918\n",
      "   0.09069926  0.00268248  0.05889827  0.24939218  0.05036718 -0.00816324\n",
      "   0.31441525 -0.18304941  0.33000156  0.18869987]\n",
      " [-0.06929892  0.03066596  0.01915506  0.23945284  0.17744318 -0.31915468\n",
      "  -0.31725314 -0.22229563  0.06166346  0.19953372  0.02559943 -0.22451916\n",
      "   0.27549833  0.16656798 -0.21279784 -0.16503778]\n",
      " [ 0.02644425 -0.2990141  -0.20741744 -0.15230832  0.29510945  0.17723206\n",
      "  -0.06161574 -0.22497204  0.1984043   0.26175672 -0.32565886 -0.26967898\n",
      "  -0.1098654   0.14520495  0.12876561  0.01590893]\n",
      " [-0.06710207 -0.30401194 -0.30162978  0.16085519  0.09066453  0.05942217\n",
      "  -0.30106124 -0.0794704  -0.13701303 -0.22543609  0.20244637 -0.3060264\n",
      "   0.02909091  0.24230745 -0.24898309 -0.13437334]\n",
      " [ 0.14848483 -0.00174302  0.31654423 -0.10207852 -0.04597207 -0.18314864\n",
      "   0.04737559  0.24179652 -0.05913404  0.04259991  0.25487265  0.06050559\n",
      "   0.12128032 -0.19284676 -0.34179577  0.27019635]\n",
      " [-0.13161913  0.31103328  0.16422746 -0.00168055  0.04772592 -0.1085331\n",
      "   0.19830748 -0.08354685  0.2660701  -0.11706775  0.22308657  0.22553071\n",
      "  -0.29744732 -0.21849887  0.13183999 -0.00476378]\n",
      " [ 0.01749489 -0.20460904  0.32850084 -0.307077   -0.0503477   0.10828595\n",
      "  -0.28924328 -0.15390149 -0.07213356  0.00079749  0.10040257  0.23058945\n",
      "  -0.21858875  0.16235964 -0.106425   -0.30916736]\n",
      " [-0.20950449 -0.17346057 -0.06071675  0.13620427  0.23749527 -0.13401476\n",
      "  -0.31594658  0.08722803 -0.25518164  0.07751015 -0.33441088  0.02469122\n",
      "  -0.331196    0.10140994  0.23338196  0.22432455]\n",
      " [-0.01046295 -0.05081534  0.07645981 -0.13693084  0.31342965  0.12219983\n",
      "  -0.09626028  0.20175698 -0.1841895   0.2413015  -0.04857369 -0.17091653\n",
      "   0.0742979   0.29769984 -0.3380038   0.21725813]\n",
      " [ 0.08224282 -0.07183179 -0.26696086  0.21225241 -0.32971922  0.21459502\n",
      "  -0.2941715  -0.06244805 -0.29602545  0.30814412  0.2188454   0.27755693\n",
      "   0.3023859   0.16741794 -0.32056597  0.22451928]\n",
      " [ 0.07231681 -0.33786574  0.21999587  0.23553783 -0.03526353  0.14391164\n",
      "  -0.03790653  0.04124844  0.3412784   0.03169789  0.35566112 -0.20655008\n",
      "   0.21614309  0.04901742 -0.07322544  0.2920023 ]\n",
      " [ 0.05233103 -0.11683385 -0.23359486 -0.27274826 -0.29921776  0.29365632\n",
      "  -0.0300073   0.22954819 -0.24887975 -0.20450611 -0.06207347  0.18379673\n",
      "  -0.09632528  0.250078   -0.00720626 -0.03621182]\n",
      " [-0.16259639 -0.1178994  -0.05196173  0.04348997 -0.29705435  0.17888877\n",
      "   0.25491652 -0.04004356 -0.20062694  0.03403544 -0.32994807 -0.03249095\n",
      "   0.31713167 -0.2666837  -0.20250203  0.16095015]\n",
      " [ 0.25498855 -0.30051833 -0.0400973  -0.10892626 -0.0718665  -0.15326881\n",
      "   0.22029063  0.2760155   0.18832693  0.1807939  -0.08708067  0.06156727\n",
      "   0.29024735 -0.33064774  0.20781007 -0.310416  ]\n",
      " [-0.2458603   0.00348216  0.15390792 -0.34567568  0.06837875 -0.11178192\n",
      "   0.29316184  0.12781131 -0.14439934  0.20412898 -0.31313285  0.2983015\n",
      "   0.26844457 -0.00280893 -0.2290982   0.18461654]]\n",
      "\n",
      "Layer 6 parameters:\n",
      "[ 0.01483667  0.         -0.00646898  0.0010892   0.00623559 -0.0213768\n",
      "  0.          0.         -0.00118609  0.0049523  -0.00674134  0.020409\n",
      "  0.000572    0.00629582  0.          0.        ]\n",
      "\n",
      "Layer 7 parameters:\n",
      "[[-0.01241978]\n",
      " [ 0.17428946]\n",
      " [ 0.520809  ]\n",
      " [-0.2587179 ]\n",
      " [-0.4763889 ]\n",
      " [-0.5384866 ]\n",
      " [-0.5323541 ]\n",
      " [ 0.5082252 ]\n",
      " [ 0.17973876]\n",
      " [-0.5172335 ]\n",
      " [ 0.5006262 ]\n",
      " [-0.2911979 ]\n",
      " [-0.21804361]\n",
      " [-0.513617  ]\n",
      " [ 0.252828  ]\n",
      " [ 0.44261158]]\n",
      "\n",
      "Layer 8 parameters:\n",
      "[-0.00641602]\n",
      "\n"
     ]
    }
   ],
   "source": [
    "# Get the model's parameters\n",
    "parameters = model.get_weights()\n",
    "\n",
    "# Print the model's parameters\n",
    "for layer_num, layer_params in enumerate(parameters):\n",
    "    print(f\"Layer {layer_num+1} parameters:\")\n",
    "    print(layer_params)\n",
    "    print()"
   ]
  },
  {
   "cell_type": "markdown",
   "id": "b0ef9b56-1a23-4fba-869f-f88ae65d5f75",
   "metadata": {},
   "source": [
    "# 17)"
   ]
  },
  {
   "cell_type": "code",
   "execution_count": 34,
   "id": "c02682dc-5ffe-4bd3-be14-d540e7ea9a4a",
   "metadata": {},
   "outputs": [
    {
     "name": "stdout",
     "output_type": "stream",
     "text": [
      "Epoch 1/20\n",
      "32/32 [==============================] - 0s 5ms/step - loss: 0.6334 - accuracy: 0.6237 - val_loss: 0.5980 - val_accuracy: 0.6367\n",
      "Epoch 2/20\n",
      "32/32 [==============================] - 0s 3ms/step - loss: 0.6186 - accuracy: 0.6549 - val_loss: 0.6046 - val_accuracy: 0.6016\n",
      "Epoch 3/20\n",
      "32/32 [==============================] - 0s 3ms/step - loss: 0.6251 - accuracy: 0.6422 - val_loss: 0.6270 - val_accuracy: 0.6406\n",
      "Epoch 4/20\n",
      "32/32 [==============================] - 0s 3ms/step - loss: 0.6178 - accuracy: 0.6608 - val_loss: 0.6053 - val_accuracy: 0.6406\n",
      "Epoch 5/20\n",
      "32/32 [==============================] - 0s 3ms/step - loss: 0.5960 - accuracy: 0.6608 - val_loss: 0.6052 - val_accuracy: 0.6094\n",
      "Epoch 6/20\n",
      "32/32 [==============================] - 0s 3ms/step - loss: 0.6056 - accuracy: 0.6764 - val_loss: 0.6141 - val_accuracy: 0.6133\n",
      "Epoch 7/20\n",
      "32/32 [==============================] - 0s 3ms/step - loss: 0.6035 - accuracy: 0.6725 - val_loss: 0.5978 - val_accuracy: 0.6641\n",
      "Epoch 8/20\n",
      "32/32 [==============================] - 0s 3ms/step - loss: 0.6098 - accuracy: 0.6598 - val_loss: 0.6030 - val_accuracy: 0.6094\n",
      "Epoch 9/20\n",
      "32/32 [==============================] - 0s 3ms/step - loss: 0.5950 - accuracy: 0.6735 - val_loss: 0.6030 - val_accuracy: 0.6055\n",
      "Epoch 10/20\n",
      "32/32 [==============================] - 0s 3ms/step - loss: 0.5862 - accuracy: 0.6891 - val_loss: 0.5803 - val_accuracy: 0.6953\n",
      "Epoch 11/20\n",
      "32/32 [==============================] - 0s 3ms/step - loss: 0.5852 - accuracy: 0.6852 - val_loss: 0.5927 - val_accuracy: 0.7188\n",
      "Epoch 12/20\n",
      "32/32 [==============================] - 0s 3ms/step - loss: 0.5718 - accuracy: 0.6901 - val_loss: 0.5867 - val_accuracy: 0.6797\n",
      "Epoch 13/20\n",
      "32/32 [==============================] - 0s 3ms/step - loss: 0.5980 - accuracy: 0.6725 - val_loss: 0.5704 - val_accuracy: 0.7070\n",
      "Epoch 14/20\n",
      "32/32 [==============================] - 0s 3ms/step - loss: 0.5694 - accuracy: 0.7038 - val_loss: 0.5835 - val_accuracy: 0.6680\n",
      "Epoch 15/20\n",
      "32/32 [==============================] - 0s 3ms/step - loss: 0.5573 - accuracy: 0.6979 - val_loss: 0.5803 - val_accuracy: 0.6797\n",
      "Epoch 16/20\n",
      "32/32 [==============================] - 0s 3ms/step - loss: 0.5665 - accuracy: 0.6901 - val_loss: 0.5710 - val_accuracy: 0.6836\n",
      "Epoch 17/20\n",
      "32/32 [==============================] - 0s 3ms/step - loss: 0.5691 - accuracy: 0.6882 - val_loss: 0.6770 - val_accuracy: 0.5859\n",
      "Epoch 18/20\n",
      "32/32 [==============================] - 0s 3ms/step - loss: 0.5839 - accuracy: 0.6891 - val_loss: 0.5634 - val_accuracy: 0.6797\n",
      "Epoch 19/20\n",
      "32/32 [==============================] - 0s 3ms/step - loss: 0.5533 - accuracy: 0.7292 - val_loss: 0.5577 - val_accuracy: 0.7148\n",
      "Epoch 20/20\n",
      "32/32 [==============================] - 0s 3ms/step - loss: 0.5422 - accuracy: 0.7155 - val_loss: 0.5809 - val_accuracy: 0.6797\n"
     ]
    }
   ],
   "source": [
    "import pandas as pd\n",
    "# Fit the model and get the training history\n",
    "history = model.fit(X_train, y_train_encoded, epochs=20, batch_size=32, validation_data=(X_val, y_val_encoded))\n",
    "\n",
    "# Store the training history as a Pandas DataFrame\n",
    "history_df = pd.DataFrame(history.history)"
   ]
  },
  {
   "cell_type": "code",
   "execution_count": 36,
   "id": "68935cda-a33c-4085-aa3a-d4fff3647fa5",
   "metadata": {},
   "outputs": [
    {
     "data": {
      "text/html": [
       "<div>\n",
       "<style scoped>\n",
       "    .dataframe tbody tr th:only-of-type {\n",
       "        vertical-align: middle;\n",
       "    }\n",
       "\n",
       "    .dataframe tbody tr th {\n",
       "        vertical-align: top;\n",
       "    }\n",
       "\n",
       "    .dataframe thead th {\n",
       "        text-align: right;\n",
       "    }\n",
       "</style>\n",
       "<table border=\"1\" class=\"dataframe\">\n",
       "  <thead>\n",
       "    <tr style=\"text-align: right;\">\n",
       "      <th></th>\n",
       "      <th>loss</th>\n",
       "      <th>accuracy</th>\n",
       "      <th>val_loss</th>\n",
       "      <th>val_accuracy</th>\n",
       "    </tr>\n",
       "  </thead>\n",
       "  <tbody>\n",
       "    <tr>\n",
       "      <th>0</th>\n",
       "      <td>0.633426</td>\n",
       "      <td>0.623656</td>\n",
       "      <td>0.597966</td>\n",
       "      <td>0.636719</td>\n",
       "    </tr>\n",
       "    <tr>\n",
       "      <th>1</th>\n",
       "      <td>0.618553</td>\n",
       "      <td>0.654936</td>\n",
       "      <td>0.604616</td>\n",
       "      <td>0.601562</td>\n",
       "    </tr>\n",
       "    <tr>\n",
       "      <th>2</th>\n",
       "      <td>0.625137</td>\n",
       "      <td>0.642229</td>\n",
       "      <td>0.627003</td>\n",
       "      <td>0.640625</td>\n",
       "    </tr>\n",
       "    <tr>\n",
       "      <th>3</th>\n",
       "      <td>0.617798</td>\n",
       "      <td>0.660802</td>\n",
       "      <td>0.605336</td>\n",
       "      <td>0.640625</td>\n",
       "    </tr>\n",
       "    <tr>\n",
       "      <th>4</th>\n",
       "      <td>0.596008</td>\n",
       "      <td>0.660802</td>\n",
       "      <td>0.605196</td>\n",
       "      <td>0.609375</td>\n",
       "    </tr>\n",
       "  </tbody>\n",
       "</table>\n",
       "</div>"
      ],
      "text/plain": [
       "       loss  accuracy  val_loss  val_accuracy\n",
       "0  0.633426  0.623656  0.597966      0.636719\n",
       "1  0.618553  0.654936  0.604616      0.601562\n",
       "2  0.625137  0.642229  0.627003      0.640625\n",
       "3  0.617798  0.660802  0.605336      0.640625\n",
       "4  0.596008  0.660802  0.605196      0.609375"
      ]
     },
     "execution_count": 36,
     "metadata": {},
     "output_type": "execute_result"
    }
   ],
   "source": [
    "history_df.head()"
   ]
  },
  {
   "cell_type": "markdown",
   "id": "5929fe51-d78d-4e8e-a542-66635a52ca6e",
   "metadata": {},
   "source": [
    "# 18)"
   ]
  },
  {
   "cell_type": "code",
   "execution_count": 38,
   "id": "078b50bc-4b0e-4d5c-adbb-aaaad15dc31c",
   "metadata": {},
   "outputs": [
    {
     "data": {
      "image/png": "[encoded data removed]",
      "text/plain": [
       "<Figure size 1200x600 with 1 Axes>"
      ]
     },
     "metadata": {},
     "output_type": "display_data"
    }
   ],
   "source": [
    "import matplotlib.pyplot as plt\n",
    "# Plot the training history\n",
    "plt.figure(figsize=(12, 6))\n",
    "plt.plot(history_df['loss'], label='Training Loss')\n",
    "plt.plot(history_df['val_loss'], label='Validation Loss')\n",
    "plt.plot(history_df['accuracy'], label='Training Accuracy')\n",
    "plt.plot(history_df['val_accuracy'], label='Validation Accuracy')\n",
    "plt.xlabel('Epoch')\n",
    "plt.ylabel('Metric')\n",
    "plt.title('Model Training History')\n",
    "plt.legend()\n",
    "plt.show()"
   ]
  },
  {
   "cell_type": "markdown",
   "id": "7ebf2b20-765e-41cd-82c4-59bfed500dd8",
   "metadata": {},
   "source": [
    "# 19)"
   ]
  },
  {
   "cell_type": "code",
   "execution_count": 40,
   "id": "b3cfdcc4-215d-4b00-83a0-709019a6aeff",
   "metadata": {},
   "outputs": [
    {
     "name": "stdout",
     "output_type": "stream",
     "text": [
      "10/10 [==============================] - 0s 1ms/step - loss: 0.5490 - accuracy: 0.7031\n",
      "Test Loss: 0.5489603281021118\n",
      "Test Accuracy: 0.703125\n"
     ]
    }
   ],
   "source": [
    "# Evaluate the model on the test data\n",
    "loss, accuracy = model.evaluate(X_test, y_test_encoded)\n",
    "\n",
    "# Print the evaluation results\n",
    "print(\"Test Loss:\", loss)\n",
    "print(\"Test Accuracy:\", accuracy)"
   ]
  },
  {
   "cell_type": "code",
   "execution_count": null,
   "id": "01b8d125-5a30-424d-85d3-d14da82a5b40",
   "metadata": {},
   "outputs": [],
   "source": []
  }
 ],
 "metadata": {
  "kernelspec": {
   "display_name": "Python 3 (ipykernel)",
   "language": "python",
   "name": "python3"
  },
  "language_info": {
   "codemirror_mode": {
    "name": "ipython",
    "version": 3
   },
   "file_extension": ".py",
   "mimetype": "text/x-python",
   "name": "python",
   "nbconvert_exporter": "python",
   "pygments_lexer": "ipython3",
   "version": "3.10.8"
  }
 },
 "nbformat": 4,
 "nbformat_minor": 5
}
