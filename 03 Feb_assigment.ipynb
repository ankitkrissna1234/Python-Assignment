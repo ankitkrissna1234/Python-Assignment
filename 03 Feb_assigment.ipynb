{
 "cells": [
  {
   "cell_type": "markdown",
   "id": "9c5d6d38-3fff-46c3-9ade-01fe98017af2",
   "metadata": {},
   "source": [
    "1)"
   ]
  },
  {
   "cell_type": "markdown",
   "id": "3d71c200-0ed8-4abf-a09b-86b24cfb06d4",
   "metadata": {},
   "source": [
    "-> 'def' keyword is used to creat a function."
   ]
  },
  {
   "cell_type": "code",
   "execution_count": 7,
   "id": "4a7c3fcf-0b1d-44d9-b49f-948b2395bd8a",
   "metadata": {},
   "outputs": [],
   "source": [
    "def get_odd_numbers():\n",
    "    odd_numbers = []\n",
    "    for num in range(1, 26):\n",
    "        if num % 2 != 0:\n",
    "            odd_numbers.append(num)\n",
    "    return odd_numbers"
   ]
  },
  {
   "cell_type": "code",
   "execution_count": 8,
   "id": "30620334-ffe4-462e-a60e-86b3a70f403f",
   "metadata": {},
   "outputs": [
    {
     "data": {
      "text/plain": [
       "[1, 3, 5, 7, 9, 11, 13, 15, 17, 19, 21, 23, 25]"
      ]
     },
     "execution_count": 8,
     "metadata": {},
     "output_type": "execute_result"
    }
   ],
   "source": [
    "get_odd_numbers()"
   ]
  },
  {
   "cell_type": "markdown",
   "id": "d7990cc0-271f-4102-8d4b-a25f08be7cd2",
   "metadata": {},
   "source": [
    "2)"
   ]
  },
  {
   "cell_type": "markdown",
   "id": "963b11bb-8409-4e25-b62b-aea45721739a",
   "metadata": {},
   "source": [
    "'*args': This allows a function to accept any number of positional arguments, which are passed to the function as a tuple. The * unpacks the arguments, allowing them to be accessed as individual values within the function.\n",
    "\n",
    "'**kwargs': This allows a function to accept any number of keyword arguments, which are passed to the function as a dictionary. The ** unpacks the keyword arguments, allowing them to be accessed as individual key-value pairs within the function."
   ]
  },
  {
   "cell_type": "markdown",
   "id": "f08bbb4f-adcd-4589-b6db-31bd01e4d75c",
   "metadata": {},
   "source": [
    "'*args'=>"
   ]
  },
  {
   "cell_type": "code",
   "execution_count": 4,
   "id": "cb41dedc-693b-4cd6-b354-52272d6ddd5a",
   "metadata": {},
   "outputs": [],
   "source": [
    "def sum_numbers(*args):\n",
    "    total =0\n",
    "    for number in args:\n",
    "        total += number\n",
    "    return total"
   ]
  },
  {
   "cell_type": "markdown",
   "id": "840b0fca-d42c-4e5d-819f-9c5837fe4f05",
   "metadata": {},
   "source": [
    "'**kwargs'=>"
   ]
  },
  {
   "cell_type": "code",
   "execution_count": 5,
   "id": "efb91838-b18d-4ce0-ba22-d65fccab4e8b",
   "metadata": {},
   "outputs": [],
   "source": [
    "def print_person_details(**kwargs):\n",
    "    for key,value in kwargs.items():\n",
    "        print(key + ':' ,value)"
   ]
  },
  {
   "cell_type": "code",
   "execution_count": 6,
   "id": "f4365e73-efbe-4fbd-91bc-62bdf8cdf8e4",
   "metadata": {},
   "outputs": [
    {
     "name": "stdout",
     "output_type": "stream",
     "text": [
      "Sum of numbers: 15\n",
      "name: John\n",
      "age: 30\n",
      "city: New York\n"
     ]
    }
   ],
   "source": [
    "sum_of_numbers = sum_numbers(1, 2, 3, 4, 5)\n",
    "print('Sum of numbers:', sum_of_numbers)\n",
    "\n",
    "print_person_details(name='John', age=30, city='New York')"
   ]
  },
  {
   "cell_type": "markdown",
   "id": "031dc61a-1e21-4d8c-9a08-1a2284b53507",
   "metadata": {},
   "source": [
    "3)"
   ]
  },
  {
   "cell_type": "markdown",
   "id": "0d36a77b-87ca-4590-9196-3c4c9a971c65",
   "metadata": {},
   "source": [
    "In Python, an iterator is an object that can be iterated (looped) upon, meaning that you can traverse through all the values of the iterator. Iterators are used to represent a stream of data, such as a sequence of elements in a list or a string, or even an infinite set of data.\n",
    "\n",
    "In Python, an object is considered an iterator if it implements the '__iter__()' and '__next__()' methods. The '__iter__()' method returns the iterator object itself, and the '__next__()' method returns the next value from the stream of data. If there are no more values in the stream, the __next__() method should raise the StopIteration exception."
   ]
  },
  {
   "cell_type": "markdown",
   "id": "ac111920-e8e7-4a15-86ea-061e8c00a4b6",
   "metadata": {},
   "source": [
    "->To initialize an iterator object in Python, you need to implement the '__iter__()' method in your iterator class, which should return the iterator object itself.\n",
    "\n",
    "To iterate over the elements of an iterator, you need to use the next() method, which calls the '__next__()' method of the iterator to get the next element from the stream of data."
   ]
  },
  {
   "cell_type": "markdown",
   "id": "8692de33-6ee9-4ea3-b171-cf0988eb0529",
   "metadata": {},
   "source": [
    "class MyIterator:\n",
    "    def __init__(self, data):\n",
    "        self.data = data\n",
    "        self.index = 0\n",
    "\n",
    "    def __iter__(self):\n",
    "        return self\n",
    "\n",
    "    def __next__(self):\n",
    "        if self.index >= len(self.data):\n",
    "            raise StopIteration\n",
    "        value = self.data[self.index]\n",
    "        self.index += 1\n",
    "        return value\n",
    "\n",
    "my_list = [2, 4, 6, 8, 10, 12, 14, 16, 18, 20]\n",
    "my_iterator = MyIterator(my_list)\n",
    "\n",
    "# Using next() method\n",
    "for i in range(5):\n",
    "    print(next(my_iterator))\n",
    "\n"
   ]
  },
  {
   "cell_type": "markdown",
   "id": "3494a2a8-5e72-4baf-a15d-0e8da7610958",
   "metadata": {},
   "source": [
    "4)"
   ]
  },
  {
   "cell_type": "markdown",
   "id": "b838cabc-f716-4285-9f14-4fc9df110125",
   "metadata": {},
   "source": [
    "In Python, a generator function is a special kind of function that can be used to create iterators on the fly. When you call a generator function, it returns a generator object, which is an iterator that generates a sequence of values on demand.\n",
    "\n",
    "A generator function is defined using the def keyword, just like a regular function, but instead of returning a value using the return keyword, it uses the yield keyword to generate a value and suspend the function's execution. When the generator's '__next__()' method is called again, execution resumes from where it left off, and the function generates the next value in the sequence.\n",
    "\n",
    "The 'yield' keyword allows a generator function to generate a sequence of values without needing to store the entire sequence in memory at once. This is useful when you're dealing with large datasets, infinite sequences, or when you want to generate a sequence of values on the fly."
   ]
  },
  {
   "cell_type": "markdown",
   "id": "9f6ca668-5366-4cc2-9983-15df824389ee",
   "metadata": {},
   "source": [
    "Example :"
   ]
  },
  {
   "cell_type": "code",
   "execution_count": 1,
   "id": "d62472a4-fefb-4f15-984e-0e74bf10c72f",
   "metadata": {},
   "outputs": [],
   "source": [
    "def fibonacci():\n",
    "    a, b = 0, 1\n",
    "    while True:\n",
    "        yield a\n",
    "        a, b = b, a + b"
   ]
  },
  {
   "cell_type": "code",
   "execution_count": 2,
   "id": "43bc0e4b-3fc9-47c7-9b39-1230f24562e8",
   "metadata": {},
   "outputs": [
    {
     "name": "stdout",
     "output_type": "stream",
     "text": [
      "0\n",
      "1\n",
      "1\n",
      "2\n",
      "3\n",
      "5\n",
      "8\n",
      "13\n",
      "21\n",
      "34\n"
     ]
    }
   ],
   "source": [
    "fib = fibonacci()\n",
    "for i in range(10):\n",
    "    print(next(fib))"
   ]
  },
  {
   "cell_type": "markdown",
   "id": "f63b724f-bdf3-4dad-9d2c-d5b9d71e9b40",
   "metadata": {},
   "source": [
    "5)\n"
   ]
  },
  {
   "cell_type": "code",
   "execution_count": 3,
   "id": "b6737bb9-899e-4504-a78d-74fcd8ae1e86",
   "metadata": {},
   "outputs": [],
   "source": [
    "def prime_numbers():\n",
    "    \"\"\"Generate prime numbers less than 1000\"\"\"\n",
    "    for num in range(2, 1000):\n",
    "        if all(num % i != 0 for i in range(2, int(num**0.5)+1)):\n",
    "            yield num"
   ]
  },
  {
   "cell_type": "markdown",
   "id": "f4e3f96f-9d6f-4485-a75d-b1ea97f47982",
   "metadata": {},
   "source": [
    "To print the first 20 prime numbers, you can use the next() method in a loop like this:"
   ]
  },
  {
   "cell_type": "code",
   "execution_count": 4,
   "id": "d3161ce9-4750-46c4-b31f-5ed6524a9f63",
   "metadata": {},
   "outputs": [
    {
     "name": "stdout",
     "output_type": "stream",
     "text": [
      "2\n",
      "3\n",
      "5\n",
      "7\n",
      "11\n",
      "13\n",
      "17\n",
      "19\n",
      "23\n",
      "29\n",
      "31\n",
      "37\n",
      "41\n",
      "43\n",
      "47\n",
      "53\n",
      "59\n",
      "61\n",
      "67\n",
      "71\n"
     ]
    }
   ],
   "source": [
    "primes = prime_numbers()\n",
    "for i in range(20):\n",
    "    print(next(primes))"
   ]
  },
  {
   "cell_type": "markdown",
   "id": "27d213d6-4a16-4285-9ee7-9cc979ef35b8",
   "metadata": {},
   "source": [
    "6)"
   ]
  },
  {
   "cell_type": "code",
   "execution_count": 6,
   "id": "37890138-dbb5-460a-a25f-15817105bdc0",
   "metadata": {},
   "outputs": [
    {
     "name": "stdout",
     "output_type": "stream",
     "text": [
      "0\n",
      "1\n",
      "1\n",
      "2\n",
      "3\n",
      "5\n",
      "8\n",
      "13\n",
      "21\n",
      "34\n"
     ]
    }
   ],
   "source": [
    "a, b = 0, 1\n",
    "count = 0\n",
    "\n",
    "while count < 10:\n",
    "    print(a)\n",
    "    a, b = b, a + b\n",
    "    count += 1"
   ]
  },
  {
   "cell_type": "markdown",
   "id": "a9e10d31-1f43-4d55-b17d-f99b86772d1e",
   "metadata": {},
   "source": [
    "7)"
   ]
  },
  {
   "cell_type": "code",
   "execution_count": 7,
   "id": "63e9fe4b-9f02-4098-a6cc-d8846f9ae6f0",
   "metadata": {},
   "outputs": [
    {
     "name": "stdout",
     "output_type": "stream",
     "text": [
      "['p', 'w', 's', 'k', 'i', 'l', 'l', 's']\n"
     ]
    }
   ],
   "source": [
    "s = 'pwskills'\n",
    "result = [char for char in s if char in 'pwskills']\n",
    "print(result)"
   ]
  },
  {
   "cell_type": "markdown",
   "id": "7ddd9dff-ba6c-4f99-ad17-0bc4c4d6a6c9",
   "metadata": {},
   "source": [
    "8)"
   ]
  },
  {
   "cell_type": "code",
   "execution_count": 9,
   "id": "7be81aa3-c247-41b5-a95a-b92726c255e5",
   "metadata": {},
   "outputs": [
    {
     "name": "stdin",
     "output_type": "stream",
     "text": [
      "Enter a number:  555\n"
     ]
    },
    {
     "name": "stdout",
     "output_type": "stream",
     "text": [
      "555 is a palindrome number.\n"
     ]
    }
   ],
   "source": [
    "num = int(input(\"Enter a number: \"))\n",
    "a = num\n",
    "rev =0\n",
    "\n",
    "while a != 0:\n",
    "    r = a%10\n",
    "    rev = rev *10 +r\n",
    "    a //=10\n",
    "    \n",
    "if num == rev:\n",
    "    print(num, \"is a palindrome number.\")\n",
    "else:\n",
    "    print(num,\" is not a palindrome number.\")"
   ]
  },
  {
   "cell_type": "markdown",
   "id": "0b456c9e-c382-4fcc-8c7d-51d8b0f336de",
   "metadata": {},
   "source": [
    "9)"
   ]
  },
  {
   "cell_type": "code",
   "execution_count": 11,
   "id": "911c58ee-dcf0-4802-b9df-81da60267f3b",
   "metadata": {},
   "outputs": [
    {
     "name": "stdout",
     "output_type": "stream",
     "text": [
      "[1, 3, 5, 7, 9, 11, 13, 15, 17, 19, 21, 23, 25, 27, 29, 31, 33, 35, 37, 39, 41, 43, 45, 47, 49, 51, 53, 55, 57, 59, 61, 63, 65, 67, 69, 71, 73, 75, 77, 79, 81, 83, 85, 87, 89, 91, 93, 95, 97, 99]\n"
     ]
    }
   ],
   "source": [
    "odd_nums = [num for num in range(1, 100) if num % 2 != 0]\n",
    "print(odd_nums)"
   ]
  },
  {
   "cell_type": "code",
   "execution_count": null,
   "id": "35103eb0-191a-40b2-ad65-a48c6fe53342",
   "metadata": {},
   "outputs": [],
   "source": []
  }
 ],
 "metadata": {
  "kernelspec": {
   "display_name": "Python 3 (ipykernel)",
   "language": "python",
   "name": "python3"
  },
  "language_info": {
   "codemirror_mode": {
    "name": "ipython",
    "version": 3
   },
   "file_extension": ".py",
   "mimetype": "text/x-python",
   "name": "python",
   "nbconvert_exporter": "python",
   "pygments_lexer": "ipython3",
   "version": "3.10.8"
  }
 },
 "nbformat": 4,
 "nbformat_minor": 5
}
