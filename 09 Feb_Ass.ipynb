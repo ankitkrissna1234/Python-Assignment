{
 "cells": [
  {
   "cell_type": "markdown",
   "id": "4e649df8-eb99-4e4c-8f6a-50cb5e658bb3",
   "metadata": {},
   "source": [
    "1)"
   ]
  },
  {
   "cell_type": "code",
   "execution_count": 1,
   "id": "6b6c667a-8fbb-441b-9acf-b23eaf81e04a",
   "metadata": {},
   "outputs": [],
   "source": [
    "class Vehicle:\n",
    "    def __init__(self, name_of_vehicle, max_speed, average_of_vehicle):\n",
    "        self.name_of_vehicle = name_of_vehicle\n",
    "        self.max_speed = max_speed\n",
    "        self.average_of_vehicle = average_of_vehicle"
   ]
  },
  {
   "cell_type": "markdown",
   "id": "88fe5799-9dde-41e5-ba9a-f76b3c26922f",
   "metadata": {},
   "source": [
    "2)"
   ]
  },
  {
   "cell_type": "code",
   "execution_count": 2,
   "id": "350938cd-67f3-41bb-9f26-e435a151f617",
   "metadata": {},
   "outputs": [],
   "source": [
    "class Car(Vehicle):\n",
    "    def seating_capacity(self, capacity):\n",
    "        return f\"{self.name_of_vehicle} has a seating capacity of {capacity} passengers.\"\n",
    "    "
   ]
  },
  {
   "cell_type": "code",
   "execution_count": 3,
   "id": "19b4a511-be9f-4000-93a1-ef5e1a169f86",
   "metadata": {},
   "outputs": [
    {
     "name": "stdout",
     "output_type": "stream",
     "text": [
      "Tesla Model S has a seating capacity of 5 passengers.\n"
     ]
    }
   ],
   "source": [
    "car = Car(\"Tesla Model S\", 250, 200)\n",
    "print(car.seating_capacity(5))  "
   ]
  },
  {
   "cell_type": "markdown",
   "id": "e4a3bf62-6daa-47e6-bcb6-7974a7346311",
   "metadata": {},
   "source": [
    "3)"
   ]
  },
  {
   "cell_type": "markdown",
   "id": "c3a43ef2-9ccd-4334-90bc-9e6b3591ab63",
   "metadata": {},
   "source": [
    "Multiple inheritance is a feature in object-oriented programming where a class can inherit from multiple parent classes. This allows a child class to inherit attributes and methods from multiple classes, thereby providing greater flexibility and reuse of code."
   ]
  },
  {
   "cell_type": "markdown",
   "id": "4b0ef595-4420-4bf6-86c4-991d55fd0f46",
   "metadata": {},
   "source": [
    "Here's an example of multiple inheritance in Python:"
   ]
  },
  {
   "cell_type": "code",
   "execution_count": 4,
   "id": "08c0ab6b-0dba-401a-bc24-947a91d03a1d",
   "metadata": {},
   "outputs": [],
   "source": [
    "class Animal:\n",
    "    def __init__(self, name):\n",
    "        self.name = name\n",
    "    \n",
    "    def speak(self):\n",
    "        pass"
   ]
  },
  {
   "cell_type": "code",
   "execution_count": 5,
   "id": "0f0728c7-6228-4498-8090-144ac5c4134d",
   "metadata": {},
   "outputs": [],
   "source": [
    "class Dog(Animal):\n",
    "    def speak(self):\n",
    "        return \"Woof!\""
   ]
  },
  {
   "cell_type": "code",
   "execution_count": 6,
   "id": "e978c8d6-b460-462b-8897-3889cfa2692d",
   "metadata": {},
   "outputs": [],
   "source": [
    "class Cat(Animal):\n",
    "    def speak(self):\n",
    "        return \"Meow!\""
   ]
  },
  {
   "cell_type": "code",
   "execution_count": 7,
   "id": "1a6ab97c-9267-4883-8515-b5444d866236",
   "metadata": {},
   "outputs": [],
   "source": [
    "\n",
    "class DogCat(Dog, Cat):\n",
    "    pass"
   ]
  },
  {
   "cell_type": "code",
   "execution_count": 8,
   "id": "80e01888-7274-4131-98d0-ae6b23f2a5df",
   "metadata": {},
   "outputs": [
    {
     "name": "stdout",
     "output_type": "stream",
     "text": [
      "Woof!\n"
     ]
    }
   ],
   "source": [
    "dc = DogCat(\"Fido\")\n",
    "print(dc.speak())"
   ]
  },
  {
   "cell_type": "markdown",
   "id": "8227f214-218c-40d8-8dae-0e82b3ef445c",
   "metadata": {},
   "source": [
    "4)"
   ]
  },
  {
   "cell_type": "markdown",
   "id": "04600b36-4ca3-44b1-953d-03a92f9192dc",
   "metadata": {},
   "source": [
    "In Python, getters and setters are methods used to access and modify the private attributes of a class respectively. They are used to implement encapsulation in object-oriented programming."
   ]
  },
  {
   "cell_type": "markdown",
   "id": "cb9d13aa-b0ee-4e91-9709-d5665f4782f3",
   "metadata": {},
   "source": [
    "Here's an example of how to create a class with getter and setter methods in Python:"
   ]
  },
  {
   "cell_type": "code",
   "execution_count": 9,
   "id": "e4ee94cb-ec82-481f-9580-67d71beba74d",
   "metadata": {},
   "outputs": [],
   "source": [
    "class Person:\n",
    "    def __init__(self, name, age):\n",
    "        self._name = name\n",
    "        self._age = age\n",
    "        \n",
    "    # Getter method for name attribute\n",
    "    def get_name(self):\n",
    "        return self._name\n",
    "    \n",
    "    # Setter method for name attribute\n",
    "    def set_name(self, name):\n",
    "        self._name = name\n",
    "        \n",
    "    # Getter method for age attribute\n",
    "    def get_age(self):\n",
    "        return self._age\n",
    "    \n",
    "    # Setter method for age attribute\n",
    "    def set_age(self, age):\n",
    "        self._age = age\n"
   ]
  },
  {
   "cell_type": "code",
   "execution_count": 10,
   "id": "a7948735-eb06-47f7-af0c-ab560cd57132",
   "metadata": {},
   "outputs": [
    {
     "name": "stdout",
     "output_type": "stream",
     "text": [
      "John\n",
      "30\n"
     ]
    }
   ],
   "source": [
    "person = Person(\"John\", 25)\n",
    "print(person.get_name())  \n",
    "person.set_age(30)\n",
    "print(person.get_age())  "
   ]
  },
  {
   "cell_type": "markdown",
   "id": "5de698c8-47ff-464b-98d6-a12803ef4d67",
   "metadata": {},
   "source": [
    "5)"
   ]
  },
  {
   "cell_type": "markdown",
   "id": "e9298db0-a334-45ef-be42-5fb18b5ac89c",
   "metadata": {},
   "source": [
    "Method overriding is a feature in object-oriented programming where a child class can define a method with the same name as a method in its parent class, thereby replacing the parent class method. This allows the child class to customize or extend the behavior of the inherited method.\n",
    "\n",
    "Here's an example of method overriding in Python:"
   ]
  },
  {
   "cell_type": "code",
   "execution_count": 11,
   "id": "989a00ea-2a20-44df-80f0-3b5b74c82f6f",
   "metadata": {},
   "outputs": [
    {
     "name": "stdout",
     "output_type": "stream",
     "text": [
      "The animal makes a sound.\n",
      "The dog barks.\n",
      "The cat meows.\n"
     ]
    }
   ],
   "source": [
    "class Animal:\n",
    "    def make_sound(self):\n",
    "        print(\"The animal makes a sound.\")\n",
    "\n",
    "class Dog(Animal):\n",
    "    def make_sound(self):\n",
    "        print(\"The dog barks.\")\n",
    "\n",
    "class Cat(Animal):\n",
    "    def make_sound(self):\n",
    "        print(\"The cat meows.\")\n",
    "\n",
    "a = Animal()\n",
    "d = Dog()\n",
    "c = Cat()\n",
    "\n",
    "a.make_sound()  \n",
    "d.make_sound()  \n",
    "c.make_sound()  \n"
   ]
  },
  {
   "cell_type": "code",
   "execution_count": null,
   "id": "9a319fcb-3ba5-45fd-a6af-eaa2a76a55b3",
   "metadata": {},
   "outputs": [],
   "source": []
  }
 ],
 "metadata": {
  "kernelspec": {
   "display_name": "Python 3 (ipykernel)",
   "language": "python",
   "name": "python3"
  },
  "language_info": {
   "codemirror_mode": {
    "name": "ipython",
    "version": 3
   },
   "file_extension": ".py",
   "mimetype": "text/x-python",
   "name": "python",
   "nbconvert_exporter": "python",
   "pygments_lexer": "ipython3",
   "version": "3.10.8"
  }
 },
 "nbformat": 4,
 "nbformat_minor": 5
}
