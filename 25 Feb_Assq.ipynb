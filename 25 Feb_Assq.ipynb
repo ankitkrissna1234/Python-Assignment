{
 "cells": [
  {
   "cell_type": "markdown",
   "id": "e3809b6e-3336-4f33-8467-5871671a0410",
   "metadata": {},
   "source": [
    "1)"
   ]
  },
  {
   "cell_type": "markdown",
   "id": "440022a0-bf3f-48ce-9e77-c2a09c9306e4",
   "metadata": {},
   "source": [
    "i) 'read_csv()': This function is used to read data from a CSV file and create a DataFrame."
   ]
  },
  {
   "cell_type": "code",
   "execution_count": 2,
   "id": "f0e44b52-5796-4395-b0cb-a27b498c343b",
   "metadata": {},
   "outputs": [
    {
     "name": "stdout",
     "output_type": "stream",
     "text": [
      "    name         email_id  phone_number\n",
      "0   sudh   sudh@gmail.com       8436767\n",
      "1  krish  krish@gmail.con     367378379\n"
     ]
    }
   ],
   "source": [
    "import pandas as pd\n",
    "\n",
    "# Read CSV file and create a DataFrame\n",
    "df = pd.read_csv('data.csv')\n",
    "print(df)"
   ]
  },
  {
   "cell_type": "markdown",
   "id": "ea93b20a-7f62-4a14-a2d1-163448642281",
   "metadata": {},
   "source": [
    "ii) 'head()': It returns the first n rows of a DataFrame. By default, it returns the first five rows."
   ]
  },
  {
   "cell_type": "code",
   "execution_count": 3,
   "id": "8fe730db-6c3c-4b4c-bff7-4cc8d7f51c2c",
   "metadata": {},
   "outputs": [
    {
     "name": "stdout",
     "output_type": "stream",
     "text": [
      "   Name  Age      City\n",
      "0  John   25  New York\n",
      "1  Emma   28    London\n",
      "2  Ryan   31     Paris\n"
     ]
    }
   ],
   "source": [
    "import pandas as pd\n",
    "\n",
    "# Create a DataFrame\n",
    "data = {'Name': ['John', 'Emma', 'Ryan', 'Sophia', 'Oliver'],\n",
    "        'Age': [25, 28, 31, 24, 29],\n",
    "        'City': ['New York', 'London', 'Paris', 'Tokyo', 'Sydney']}\n",
    "df = pd.DataFrame(data)\n",
    "\n",
    "# Display the first three rows\n",
    "print(df.head(3))"
   ]
  },
  {
   "cell_type": "markdown",
   "id": "a29d4d53-8c5d-438d-83bf-824261561cce",
   "metadata": {},
   "source": [
    "iii) 'info()': This function provides a concise summary of a DataFrame, including information about the columns, data types, and memory usage."
   ]
  },
  {
   "cell_type": "code",
   "execution_count": 4,
   "id": "2c4154c1-c188-437b-a61d-fb64b67c870f",
   "metadata": {},
   "outputs": [
    {
     "name": "stdout",
     "output_type": "stream",
     "text": [
      "<class 'pandas.core.frame.DataFrame'>\n",
      "RangeIndex: 5 entries, 0 to 4\n",
      "Data columns (total 3 columns):\n",
      " #   Column  Non-Null Count  Dtype \n",
      "---  ------  --------------  ----- \n",
      " 0   Name    5 non-null      object\n",
      " 1   Age     5 non-null      int64 \n",
      " 2   City    5 non-null      object\n",
      "dtypes: int64(1), object(2)\n",
      "memory usage: 248.0+ bytes\n"
     ]
    }
   ],
   "source": [
    "import pandas as pd\n",
    "\n",
    "# Create a DataFrame\n",
    "data = {'Name': ['John', 'Emma', 'Ryan', 'Sophia', 'Oliver'],\n",
    "        'Age': [25, 28, 31, 24, 29],\n",
    "        'City': ['New York', 'London', 'Paris', 'Tokyo', 'Sydney']}\n",
    "df = pd.DataFrame(data)\n",
    "\n",
    "# Display the summary information\n",
    "df.info()"
   ]
  },
  {
   "cell_type": "markdown",
   "id": "f7876301-92b2-4a0f-a206-22e7e551b1d7",
   "metadata": {},
   "source": [
    "iv) 'describe()': It generates descriptive statistics of a DataFrame, including count, mean, standard deviation, minimum, maximum, and quartile values."
   ]
  },
  {
   "cell_type": "code",
   "execution_count": 5,
   "id": "86c08291-84ae-47ea-bafa-d6d44998ca16",
   "metadata": {},
   "outputs": [
    {
     "name": "stdout",
     "output_type": "stream",
     "text": [
      "             Age\n",
      "count   5.000000\n",
      "mean   27.400000\n",
      "std     2.880972\n",
      "min    24.000000\n",
      "25%    25.000000\n",
      "50%    28.000000\n",
      "75%    29.000000\n",
      "max    31.000000\n"
     ]
    }
   ],
   "source": [
    "import pandas as pd\n",
    "\n",
    "# Create a DataFrame\n",
    "data = {'Name': ['John', 'Emma', 'Ryan', 'Sophia', 'Oliver'],\n",
    "        'Age': [25, 28, 31, 24, 29],\n",
    "        'City': ['New York', 'London', 'Paris', 'Tokyo', 'Sydney']}\n",
    "df = pd.DataFrame(data)\n",
    "\n",
    "# Display descriptive statistics\n",
    "print(df.describe())\n"
   ]
  },
  {
   "cell_type": "markdown",
   "id": "2e3ce6da-a676-4f2e-9e27-09b251d81ab7",
   "metadata": {},
   "source": [
    "v) 'groupby()': This function is used for grouping data based on one or more columns and applying functions to the grouped data."
   ]
  },
  {
   "cell_type": "code",
   "execution_count": 6,
   "id": "53ef4672-83c8-46ce-a259-ae0abaa1903f",
   "metadata": {},
   "outputs": [
    {
     "name": "stdout",
     "output_type": "stream",
     "text": [
      "City\n",
      "London      60000.0\n",
      "New York    50000.0\n",
      "Paris       55000.0\n",
      "Sydney      65000.0\n",
      "Tokyo       70000.0\n",
      "Name: Salary, dtype: float64\n"
     ]
    }
   ],
   "source": [
    "import pandas as pd\n",
    "\n",
    "# Create a DataFrame\n",
    "data = {'Name': ['John', 'Emma', 'Ryan', 'Sophia', 'Oliver'],\n",
    "        'Age': [25, 28, 31, 24, 29],\n",
    "        'City': ['New York', 'London', 'Paris', 'Tokyo', 'Sydney'],\n",
    "        'Salary': [50000, 60000, 55000, 70000, 65000]}\n",
    "df = pd.DataFrame(data)\n",
    "\n",
    "# Group by 'City' and calculate the average salary\n",
    "grouped_df = df.groupby('City')['Salary'].mean()\n",
    "print(grouped_df)"
   ]
  },
  {
   "cell_type": "markdown",
   "id": "71ecb9c2-62d4-49a6-a3c2-91a078f9dde7",
   "metadata": {},
   "source": [
    "2)"
   ]
  },
  {
   "cell_type": "markdown",
   "id": "7ed27e69-9843-4dc8-80e2-8ab882cb8e19",
   "metadata": {},
   "source": [
    "To re-index the DataFrame with a new index that starts from 1 and increments by 2 for each row, you can use the 'reset_index()' function from pandas along with some additional steps. Here's a Python function that achieves this:"
   ]
  },
  {
   "cell_type": "code",
   "execution_count": 7,
   "id": "00ed6cfc-e699-4442-877b-3f5bfc3badac",
   "metadata": {},
   "outputs": [],
   "source": [
    "import pandas as pd\n",
    "\n",
    "def reindex_dataframe(df):\n",
    "    # Reset the index of the DataFrame\n",
    "    df.reset_index(drop=True, inplace=True)\n",
    "    \n",
    "    # Create a new index starting from 1 and incrementing by 2\n",
    "    new_index = pd.RangeIndex(start=1, stop=len(df) * 2, step=2)\n",
    "    \n",
    "    # Assign the new index to the DataFrame\n",
    "    df.index = new_index\n",
    "    \n",
    "    return df"
   ]
  },
  {
   "cell_type": "markdown",
   "id": "b0392469-5c92-4bcb-b4b3-7d9770d36871",
   "metadata": {},
   "source": [
    "In the above function, the 'reset_index()' function is used to reset the index of the DataFrame. The 'drop=True' parameter ensures that the previous index is not added as a new column in the DataFrame. Then, a new index is created using 'pd.RangeIndex()' with a start value of 1, stop value of 'len(df) * 2' (twice the length of the DataFrame), and a step value of 2 to increment by 2 for each row. Finally, the new index is assigned to the DataFrame using 'df.index = new_index'. The function returns the re-indexed DataFrame.\n",
    "\n",
    "You can use this function as follows:"
   ]
  },
  {
   "cell_type": "code",
   "execution_count": 8,
   "id": "f3bd90e2-d7d8-449f-bcd7-187db5072bb5",
   "metadata": {},
   "outputs": [
    {
     "name": "stdout",
     "output_type": "stream",
     "text": [
      "   A   B   C\n",
      "1  1   6  11\n",
      "3  2   7  12\n",
      "5  3   8  13\n",
      "7  4   9  14\n",
      "9  5  10  15\n"
     ]
    }
   ],
   "source": [
    "# Example usage\n",
    "import pandas as pd\n",
    "\n",
    "# Create a sample DataFrame\n",
    "data = {'A': [1, 2, 3, 4, 5],\n",
    "        'B': [6, 7, 8, 9, 10],\n",
    "        'C': [11, 12, 13, 14, 15]}\n",
    "df = pd.DataFrame(data)\n",
    "\n",
    "# Re-index the DataFrame\n",
    "reindexed_df = reindex_dataframe(df)\n",
    "\n",
    "print(reindexed_df)"
   ]
  },
  {
   "cell_type": "markdown",
   "id": "a5508aa3-7449-4831-8989-9784d1931442",
   "metadata": {},
   "source": [
    "3)"
   ]
  },
  {
   "cell_type": "code",
   "execution_count": 9,
   "id": "f2707b14-56bc-4af9-ad1b-6359a0eb3d9e",
   "metadata": {},
   "outputs": [],
   "source": [
    "import pandas as pd\n",
    "\n",
    "def calculate_sum(df):\n",
    "    # Extract the 'Values' column as a Series\n",
    "    values_column = df['Values']\n",
    "    \n",
    "    # Calculate the sum of the first three values\n",
    "    sum_first_three = values_column.head(3).sum()\n",
    "    \n",
    "    # Print the sum to the console\n",
    "    print(\"Sum of the first three values:\", sum_first_three)"
   ]
  },
  {
   "cell_type": "markdown",
   "id": "448ce230-058f-462c-b25c-030e598da3e4",
   "metadata": {},
   "source": [
    "In the above function, the 'Values' column is extracted from the DataFrame as a Series using 'df['Values']'. Then, the 'head(3)' method is used to get the first three values from the Series, and the 'sum()' function calculates their sum. Finally, the result is printed to the console using 'print()'.                                                                                                                                                                                                                                  "
   ]
  },
  {
   "cell_type": "code",
   "execution_count": 11,
   "id": "ca109ab8-ae72-47fe-9345-842e1e738d0d",
   "metadata": {},
   "outputs": [
    {
     "name": "stdout",
     "output_type": "stream",
     "text": [
      "Sum of the first three values: 60\n"
     ]
    }
   ],
   "source": [
    "# Example usage\n",
    "import pandas as pd\n",
    "\n",
    "# Create a sample DataFrame\n",
    "data = {'Values': [10, 20, 30, 40, 50]}\n",
    "df = pd.DataFrame(data)\n",
    "\n",
    "# Calculate the sum of the first three values\n",
    "calculate_sum(df)"
   ]
  },
  {
   "cell_type": "markdown",
   "id": "b7898c95-6d0a-43df-94ae-3aaed5b00ce3",
   "metadata": {},
   "source": [
    "4)"
   ]
  },
  {
   "cell_type": "code",
   "execution_count": 12,
   "id": "52b108cd-f092-47f9-b939-dc8d422977b7",
   "metadata": {},
   "outputs": [],
   "source": [
    "import pandas as pd\n",
    "\n",
    "def add_word_count(df):\n",
    "    # Split the 'Text' column by whitespace to get individual words\n",
    "    words = df['Text'].str.split()\n",
    "    \n",
    "    # Count the number of words in each row\n",
    "    word_count = words.apply(len)\n",
    "    \n",
    "    # Add the 'Word_Count' column to the DataFrame\n",
    "    df['Word_Count'] = word_count"
   ]
  },
  {
   "cell_type": "code",
   "execution_count": 13,
   "id": "f6a8db3c-ac9d-42f7-aa37-9c7c82c3e8a4",
   "metadata": {},
   "outputs": [
    {
     "name": "stdout",
     "output_type": "stream",
     "text": [
      "                  Text  Word_Count\n",
      "0  Hello, how are you?           4\n",
      "1     I am doing well.           4\n",
      "2     Python is great!           3\n"
     ]
    }
   ],
   "source": [
    "# Example usage\n",
    "import pandas as pd\n",
    "\n",
    "# Create a sample DataFrame\n",
    "data = {'Text': ['Hello, how are you?', 'I am doing well.', 'Python is great!']}\n",
    "df = pd.DataFrame(data)\n",
    "\n",
    "# Add the 'Word_Count' column\n",
    "add_word_count(df)\n",
    "\n",
    "print(df)"
   ]
  },
  {
   "cell_type": "markdown",
   "id": "72df5148-568d-4e68-96af-0b446ee24ecd",
   "metadata": {},
   "source": [
    "5)"
   ]
  },
  {
   "cell_type": "markdown",
   "id": "758e7ba8-dfe6-4b0f-983f-be5743841bef",
   "metadata": {},
   "source": [
    "The 'DataFrame.size' and 'DataFrame.shape' attributes in pandas provide different information about the DataFrame.\n",
    "\n",
    "'DataFrame.size':\n",
    "\n",
    "'DataFrame.size' returns the total number of elements in the DataFrame, which is the product of the number of rows and the number of columns.\n",
    "It represents the total count of all values, including missing or NaN values, in the DataFrame.\n",
    "The 'size' attribute returns a single integer value.\n",
    "It can be accessed using 'df.size' (where 'df' is the DataFrame).                                                                                                                                                                                                              \n",
    "'DataFrame.shape':\n",
    "\n",
    "'DataFrame.shape' returns a tuple that represents the dimensions of the DataFrame.\n",
    "It provides the number of rows and columns in the DataFrame.\n",
    "The 'shape' attribute returns a tuple in the format (num_rows, num_columns).\n",
    "It can be accessed using 'df.shape' (where 'df' is the DataFrame).\n",
    "Here's an example to illustrate the difference:"
   ]
  },
  {
   "cell_type": "code",
   "execution_count": 14,
   "id": "706d9696-7c5a-4d14-900a-378fd0c01913",
   "metadata": {},
   "outputs": [
    {
     "name": "stdout",
     "output_type": "stream",
     "text": [
      "Size: 6\n",
      "Shape: (3, 2)\n"
     ]
    }
   ],
   "source": [
    "import pandas as pd\n",
    "\n",
    "# Create a sample DataFrame\n",
    "data = {'A': [1, 2, 3],\n",
    "        'B': [4, 5, 6]}\n",
    "df = pd.DataFrame(data)\n",
    "\n",
    "# Print the size of the DataFrame\n",
    "print(\"Size:\", df.size)\n",
    "\n",
    "# Print the shape of the DataFrame\n",
    "print(\"Shape:\", df.shape)"
   ]
  },
  {
   "cell_type": "markdown",
   "id": "48a3bf0f-7f89-4cb5-9bf6-622067e00ec7",
   "metadata": {},
   "source": [
    "In the above example, the DataFrame 'df' has 3 rows and 2 columns. Therefore, 'df.size' returns 6, which is the total number of elements in the DataFrame. On the other hand, 'df.shape' returns the tuple (3, 2), indicating that the DataFrame has 3 rows and 2 columns."
   ]
  },
  {
   "cell_type": "markdown",
   "id": "7acff26a-1bd2-42f1-957d-97befa7809b1",
   "metadata": {},
   "source": [
    "6)"
   ]
  },
  {
   "cell_type": "markdown",
   "id": "dfc3b2c0-b8d0-45f1-b5be-bd080db683ab",
   "metadata": {},
   "source": [
    "n pandas, we use the function 'read_excel()' to read an Excel file. This function allows us to read data from one or multiple sheets of an Excel file into a pandas DataFrame."
   ]
  },
  {
   "cell_type": "markdown",
   "id": "86fdf03a-6438-4b57-94b9-3eead8de9660",
   "metadata": {},
   "source": [
    "7)"
   ]
  },
  {
   "cell_type": "code",
   "execution_count": 15,
   "id": "34389b8b-fd86-443c-b494-1e38a8921586",
   "metadata": {},
   "outputs": [],
   "source": [
    "import pandas as pd\n",
    "\n",
    "def extract_username(df):\n",
    "    # Extract the username from each email address using str.split() and str.get() methods\n",
    "    df['Username'] = df['Email'].str.split('@').str.get(0)"
   ]
  },
  {
   "cell_type": "code",
   "execution_count": 16,
   "id": "e11c0b22-e575-4e2c-8341-104700d77678",
   "metadata": {},
   "outputs": [
    {
     "name": "stdout",
     "output_type": "stream",
     "text": [
      "                        Email        Username\n",
      "0        john.doe@example.com        john.doe\n",
      "1      jane.smith@example.com      jane.smith\n",
      "2  robert.johnson@example.com  robert.johnson\n"
     ]
    }
   ],
   "source": [
    "# Example usage\n",
    "import pandas as pd\n",
    "\n",
    "# Create a sample DataFrame\n",
    "data = {'Email': ['john.doe@example.com', 'jane.smith@example.com', 'robert.johnson@example.com']}\n",
    "df = pd.DataFrame(data)\n",
    "\n",
    "# Extract the username and add it to the 'Username' column\n",
    "extract_username(df)\n",
    "\n",
    "print(df)"
   ]
  },
  {
   "cell_type": "markdown",
   "id": "ae3da8d1-f67b-4278-b742-94d1fe014e89",
   "metadata": {},
   "source": [
    "8)"
   ]
  },
  {
   "cell_type": "code",
   "execution_count": 17,
   "id": "a204e31a-4e73-4e3b-a52c-ff41494d22a9",
   "metadata": {},
   "outputs": [],
   "source": [
    "import pandas as pd\n",
    "\n",
    "def select_rows(df):\n",
    "    # Filter the DataFrame based on the conditions\n",
    "    selected_rows = df[(df['A'] > 5) & (df['B'] < 10)].copy()\n",
    "    \n",
    "    # Return the selected rows as a new DataFrame\n",
    "    return selected_rows"
   ]
  },
  {
   "cell_type": "code",
   "execution_count": 18,
   "id": "4252ec06-acc1-4e40-8e2b-8c8713da5337",
   "metadata": {},
   "outputs": [
    {
     "name": "stdout",
     "output_type": "stream",
     "text": [
      "   A  B  C\n",
      "2  8  2  7\n",
      "3  6  9  4\n",
      "5  9  1  2\n"
     ]
    }
   ],
   "source": [
    "# Example usage\n",
    "import pandas as pd\n",
    "\n",
    "# Create a sample DataFrame\n",
    "data = {'A': [0, 3, 8, 6, 2, 9],\n",
    "        'B': [5, 1, 2, 9, 3, 1],\n",
    "        'C': [1, 2, 7, 4, 5, 2]}\n",
    "df = pd.DataFrame(data)\n",
    "\n",
    "# Select the rows where A > 5 and B < 10\n",
    "selected_df = select_rows(df)\n",
    "\n",
    "print(selected_df)"
   ]
  },
  {
   "cell_type": "markdown",
   "id": "661b6b7d-17d8-4bab-b808-030e6b44b2be",
   "metadata": {},
   "source": [
    "9)"
   ]
  },
  {
   "cell_type": "code",
   "execution_count": 19,
   "id": "46dec1e8-7956-4036-b62a-31301bc6c256",
   "metadata": {},
   "outputs": [],
   "source": [
    "import pandas as pd\n",
    "\n",
    "def calculate_stats(df):\n",
    "    # Calculate mean, median, and standard deviation\n",
    "    mean_value = df['Values'].mean()\n",
    "    median_value = df['Values'].median()\n",
    "    std_value = df['Values'].std()\n",
    "    \n",
    "    # Print the calculated statistics\n",
    "    print(\"Mean:\", mean_value)\n",
    "    print(\"Median:\", median_value)\n",
    "    print(\"Standard Deviation:\", std_value)"
   ]
  },
  {
   "cell_type": "code",
   "execution_count": 20,
   "id": "338ff5c1-c14c-49c7-8337-4833c66d4e78",
   "metadata": {},
   "outputs": [
    {
     "name": "stdout",
     "output_type": "stream",
     "text": [
      "Mean: 6.0\n",
      "Median: 6.0\n",
      "Standard Deviation: 3.1622776601683795\n"
     ]
    }
   ],
   "source": [
    "# Example usage\n",
    "import pandas as pd\n",
    "\n",
    "# Create a sample DataFrame\n",
    "data = {'Values': [2, 4, 6, 8, 10]}\n",
    "df = pd.DataFrame(data)\n",
    "\n",
    "# Calculate the statistics\n",
    "calculate_stats(df)"
   ]
  },
  {
   "cell_type": "markdown",
   "id": "655586ee-4d27-474c-bf4b-1c40d0930b69",
   "metadata": {},
   "source": [
    "10)"
   ]
  },
  {
   "cell_type": "code",
   "execution_count": 22,
   "id": "a8760cc9-586c-424b-b165-b11034e464b5",
   "metadata": {},
   "outputs": [],
   "source": [
    "import pandas as pd\n",
    "\n",
    "def calculate_moving_average(df):\n",
    "    # Calculate the moving average using rolling window of size 7\n",
    "    df['MovingAverage'] = df['Sales'].rolling(window=7, min_periods=1).mean()"
   ]
  },
  {
   "cell_type": "code",
   "execution_count": 23,
   "id": "69690a28-9f3b-49de-aedf-931506933dbf",
   "metadata": {},
   "outputs": [
    {
     "name": "stdout",
     "output_type": "stream",
     "text": [
      "        Date  Sales  MovingAverage\n",
      "0 2023-05-01     10      10.000000\n",
      "1 2023-05-02     15      12.500000\n",
      "2 2023-05-03     12      12.333333\n",
      "3 2023-05-04     20      14.250000\n",
      "4 2023-05-05     18      15.000000\n",
      "5 2023-05-06     16      15.166667\n",
      "6 2023-05-07     14      15.000000\n",
      "7 2023-05-08     19      16.285714\n",
      "8 2023-05-09     13      16.000000\n",
      "9 2023-05-10     17      16.714286\n"
     ]
    }
   ],
   "source": [
    "# Example usage\n",
    "import pandas as pd\n",
    "\n",
    "# Create a sample DataFrame\n",
    "data = {'Date': pd.date_range(start='2023-05-01', periods=10),\n",
    "        'Sales': [10, 15, 12, 20, 18, 16, 14, 19, 13, 17]}\n",
    "df = pd.DataFrame(data)\n",
    "\n",
    "# Calculate the moving average\n",
    "calculate_moving_average(df)\n",
    "\n",
    "print(df)"
   ]
  },
  {
   "cell_type": "markdown",
   "id": "86631027-086a-4876-bf6e-4c4b3c82c9f1",
   "metadata": {},
   "source": [
    "12)"
   ]
  },
  {
   "cell_type": "code",
   "execution_count": 48,
   "id": "dd550898-27e2-4bd3-9d28-7ddf740da616",
   "metadata": {},
   "outputs": [],
   "source": [
    "import pandas as pd\n",
    "\n",
    "def select_rows_between_dates(df):\n",
    "    # Convert 'Date' column to datetime\n",
    "    df['Date'] = pd.to_datetime(df['Date'])\n",
    "    \n",
    "    # Filter the DataFrame based on the date range\n",
    "    selected_rows = df[(df['Date'] >= '2023-01-01') & (df['Date'] <= '2023-01-31')].copy()\n",
    "    \n",
    "    # Return the selected rows\n",
    "    return selected_rows"
   ]
  },
  {
   "cell_type": "code",
   "execution_count": 49,
   "id": "a19e896a-3ec6-45f0-b0b9-ba03a72c2bfc",
   "metadata": {},
   "outputs": [
    {
     "name": "stdout",
     "output_type": "stream",
     "text": [
      "        Date\n",
      "1 2023-01-01\n",
      "2 2023-01-15\n",
      "3 2023-01-31\n"
     ]
    }
   ],
   "source": [
    "# Example usage\n",
    "import pandas as pd\n",
    "\n",
    "# Create a sample DataFrame\n",
    "data = {'Date': ['2022-12-31', '2023-01-01', '2023-01-15', '2023-01-31', '2023-02-10']}\n",
    "df = pd.DataFrame(data)\n",
    "\n",
    "# Select rows between '2023-01-01' and '2023-01-31'\n",
    "selected_df = select_rows_between_dates(df)\n",
    "\n",
    "print(selected_df)\n"
   ]
  },
  {
   "cell_type": "markdown",
   "id": "282449fb-2927-4aef-be8e-79f02128922c",
   "metadata": {},
   "source": [
    "13)"
   ]
  },
  {
   "cell_type": "markdown",
   "id": "3754d079-5480-40e0-b03c-89e4d94aea2f",
   "metadata": {},
   "source": [
    "To use the basic functions of pandas, the first and foremost necessary library that needs to be imported is the 'pandas' library itself."
   ]
  },
  {
   "cell_type": "markdown",
   "id": "9f87af67-4a2e-4735-9808-430a3eb90f05",
   "metadata": {},
   "source": [
    "You can import the pandas library using the following statement:"
   ]
  },
  {
   "cell_type": "code",
   "execution_count": 50,
   "id": "0954a1c9-c6d1-4626-81f0-bd5dad2acd2c",
   "metadata": {},
   "outputs": [],
   "source": [
    "import pandas as pd"
   ]
  },
  {
   "cell_type": "markdown",
   "id": "110b1908-0994-446a-97d2-1b104a11078a",
   "metadata": {},
   "source": [
    "By convention, the 'pd' alias is commonly used when importing the pandas library. It allows you to reference pandas functions and objects using the 'pd' prefix, making the code more concise and readable.\n",
    "\n",
    "Once you have imported the pandas library, you can access its functions, classes, and other functionality to perform various data manipulation and analysis tasks using pandas DataFrames and Series."
   ]
  },
  {
   "cell_type": "code",
   "execution_count": null,
   "id": "f282194d-cd0b-4ead-870e-e3bb4508b1ea",
   "metadata": {},
   "outputs": [],
   "source": []
  }
 ],
 "metadata": {
  "kernelspec": {
   "display_name": "Python 3 (ipykernel)",
   "language": "python",
   "name": "python3"
  },
  "language_info": {
   "codemirror_mode": {
    "name": "ipython",
    "version": 3
   },
   "file_extension": ".py",
   "mimetype": "text/x-python",
   "name": "python",
   "nbconvert_exporter": "python",
   "pygments_lexer": "ipython3",
   "version": "3.10.8"
  }
 },
 "nbformat": 4,
 "nbformat_minor": 5
}
