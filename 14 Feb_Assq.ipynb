{
 "cells": [
  {
   "cell_type": "markdown",
   "id": "cf2ab97a-8507-468e-aba6-9792d67efe3f",
   "metadata": {},
   "source": [
    "1)"
   ]
  },
  {
   "cell_type": "markdown",
   "id": "dfc31b3b-0d4d-4c2b-995a-28eaa6ddebd2",
   "metadata": {},
   "source": [
    "Multithreading is a programming concept that allows multiple threads of execution to run concurrently within a single process. In Python, multithreading is used to achieve parallelism and improve the performance of applications that involve multiple tasks."
   ]
  },
  {
   "cell_type": "markdown",
   "id": "60b7b833-31ca-42ab-b13b-6a8214bd00e6",
   "metadata": {},
   "source": [
    "Multithreading can be used for a wide range of applications, such as:                             \n",
    "                                                                                                \n",
    "Building responsive user interfaces that can handle user input and background tasks                simultaneously.                                                                                   \n",
    "Parallel processing of large datasets to speed up data processing and analysis.                   \n",
    "Network programming where multiple network connections need to be managed concurrently.           \n",
    "Performing multiple I/O operations, such as reading and writing to files, at the same time.       "
   ]
  },
  {
   "cell_type": "markdown",
   "id": "56ee8c65-1a84-4de9-93ef-9cc0e5cb4a09",
   "metadata": {},
   "source": [
    "The 'threading' module is used to handle threads in Python. This module provides a high-level interface for creating and managing threads in Python programs. The 'threading' module allows us to create multiple threads of execution within a single process and provides mechanisms for synchronizing and coordinating their execution.\n",
    "\n",
    "Here is an example of creating and running a thread using the 'threading' module in Python:"
   ]
  },
  {
   "cell_type": "code",
   "execution_count": 1,
   "id": "c4214a6f-6f8a-4ec0-9673-1418f9fdc136",
   "metadata": {},
   "outputs": [
    {
     "name": "stdout",
     "output_type": "stream",
     "text": [
      "1\n",
      "2\n",
      "3\n",
      "4\n",
      "5\n",
      "6\n",
      "7\n",
      "8\n",
      "9\n",
      "10\n",
      "Done\n"
     ]
    }
   ],
   "source": [
    "import threading\n",
    "\n",
    "def print_numbers():\n",
    "    for i in range(1, 11):\n",
    "        print(i)\n",
    "\n",
    "# Create a new thread and start it\n",
    "thread = threading.Thread(target=print_numbers)\n",
    "thread.start()\n",
    "\n",
    "# Wait for the thread to complete\n",
    "thread.join()\n",
    "\n",
    "print(\"Done\")"
   ]
  },
  {
   "cell_type": "markdown",
   "id": "3902587d-666c-466b-b4b3-3a0e474798b1",
   "metadata": {},
   "source": [
    "In this example, we define a function 'print_numbers()' that prints numbers from 1 to 10. We then create a new thread using the Thread class from the threading module and pass in the 'print_numbers()' function as the target. We start the thread using the 'start()' method, which causes the thread to begin executing the target function. Finally, we wait for the thread to complete using the 'join()' method, and print \"Done\" to the console."
   ]
  },
  {
   "cell_type": "markdown",
   "id": "b3c5dbca-60b2-48ca-8501-49512deb60e8",
   "metadata": {},
   "source": [
    "2)"
   ]
  },
  {
   "cell_type": "markdown",
   "id": "067ff73e-3069-4dd2-b021-6290b9318c46",
   "metadata": {},
   "source": [
    "The threading module in Python is used to create and manage threads of execution within a Python program. It provides a high-level interface for working with threads, allowing developers to create and manage threads easily.\n",
    "\n",
    "Here are the uses of the following functions provided by the threading module:"
   ]
  },
  {
   "cell_type": "markdown",
   "id": "229a670f-a885-4c52-b33e-076c30ddaadd",
   "metadata": {},
   "source": [
    "i)'activeCount()': This function returns the number of Thread objects that are active and currently running in the program."
   ]
  },
  {
   "cell_type": "code",
   "execution_count": 4,
   "id": "798a492e-1efb-4dac-852d-36ca92202c43",
   "metadata": {},
   "outputs": [
    {
     "name": "stdout",
     "output_type": "stream",
     "text": [
      "Hello\n",
      "Hello\n",
      "Active threads: 8\n"
     ]
    }
   ],
   "source": [
    "import threading\n",
    "\n",
    "def my_func():\n",
    "    print(\"Hello\")\n",
    "\n",
    "t1 = threading.Thread(target=my_func)\n",
    "t2 = threading.Thread(target=my_func)\n",
    "\n",
    "t1.start()\n",
    "t2.start()\n",
    "\n",
    "print(\"Active threads:\", threading.active_count())"
   ]
  },
  {
   "cell_type": "markdown",
   "id": "6b4241da-3c56-427b-8a3b-7ef3c2b17903",
   "metadata": {},
   "source": [
    "ii)'currentThread()': This function returns a reference to the current Thread object that is executing the code."
   ]
  },
  {
   "cell_type": "code",
   "execution_count": 1,
   "id": "68254a18-5acf-45bc-bb09-05b5fdbf1e4c",
   "metadata": {},
   "outputs": [
    {
     "name": "stdout",
     "output_type": "stream",
     "text": [
      "Current thread: Thread 1\n",
      "Current thread: Thread 2\n"
     ]
    },
    {
     "name": "stderr",
     "output_type": "stream",
     "text": [
      "/tmp/ipykernel_70/3778605983.py:4: DeprecationWarning: getName() is deprecated, get the name attribute instead\n",
      "  print(\"Current thread:\", threading.current_thread().getName())\n"
     ]
    }
   ],
   "source": [
    "import threading\n",
    "\n",
    "def my_func():\n",
    "    print(\"Current thread:\", threading.current_thread().getName())\n",
    "\n",
    "t1 = threading.Thread(target=my_func, name=\"Thread 1\")\n",
    "t2 = threading.Thread(target=my_func, name=\"Thread 2\")\n",
    "\n",
    "t1.start()\n",
    "t2.start()"
   ]
  },
  {
   "cell_type": "markdown",
   "id": "ef123ee5-c360-47a0-8357-227ae12fc770",
   "metadata": {},
   "source": [
    "iii)'enumerate()': This function returns a list of all Thread objects that are active in the program."
   ]
  },
  {
   "cell_type": "code",
   "execution_count": 5,
   "id": "9455f5a2-2912-4ae8-9c3d-bee469e8cdb9",
   "metadata": {},
   "outputs": [
    {
     "name": "stdout",
     "output_type": "stream",
     "text": [
      "Hello\n",
      "Hello\n",
      "MainThread\n",
      "IOPub\n",
      "Heartbeat\n",
      "Thread-3 (_watch_pipe_fd)\n",
      "Thread-4 (_watch_pipe_fd)\n",
      "Control\n",
      "IPythonHistorySavingThread\n",
      "Thread-2\n"
     ]
    },
    {
     "name": "stderr",
     "output_type": "stream",
     "text": [
      "/tmp/ipykernel_70/3051569889.py:13: DeprecationWarning: getName() is deprecated, get the name attribute instead\n",
      "  print(thread.getName())\n"
     ]
    }
   ],
   "source": [
    "import threading\n",
    "\n",
    "def my_func():\n",
    "    print(\"Hello\")\n",
    "\n",
    "t1 = threading.Thread(target=my_func)\n",
    "t2 = threading.Thread(target=my_func)\n",
    "\n",
    "t1.start()\n",
    "t2.start()\n",
    "\n",
    "for thread in threading.enumerate():\n",
    "    print(thread.getName())"
   ]
  },
  {
   "cell_type": "markdown",
   "id": "b48d8eb8-fa24-4085-b9d1-b89763ddeba9",
   "metadata": {},
   "source": [
    "These functions can be useful for debugging and monitoring the execution of threads within a Python program."
   ]
  },
  {
   "cell_type": "markdown",
   "id": "ca36e547-3994-48bb-bbe4-51c6f7286cdd",
   "metadata": {},
   "source": [
    "3)                                                                                            "
   ]
  },
  {
   "cell_type": "markdown",
   "id": "70ce19e6-1143-4234-a00d-6d723a8fd35d",
   "metadata": {},
   "source": [
    "i)'run()': This method is called by the 'start()' method of a 'Thread' object, and it contains the code that will be executed when the 'thread' starts. You should subclass 'Thread' and override the 'run()' method with the code you want to run in the thread."
   ]
  },
  {
   "cell_type": "markdown",
   "id": "db79cb60-6e62-4a3e-be83-de856ca32bcb",
   "metadata": {},
   "source": [
    "ii)'start()': This method is used to start a new thread. When you call 'start()', Python creates a new thread of execution and calls the 'run()' method on the 'Thread' object. You should only call 'start()' once per thread; if you call it more than once, you'll get a 'RuntimeError'."
   ]
  },
  {
   "cell_type": "markdown",
   "id": "077899a7-6a3f-4d91-9452-c66f8a28fc15",
   "metadata": {},
   "source": [
    "iii)'join()': This method is used to wait for a thread to complete its work before continuing with the main program. When you call 'join()' on a 'Thread' object, the main thread will block until the 'Thread' object completes its work and exits"
   ]
  },
  {
   "cell_type": "markdown",
   "id": "a939b7b7-0c62-43b8-a139-422891a0bcb2",
   "metadata": {},
   "source": [
    "iv)'isAlive()': This method returns True if the thread is currently executing its 'run()' method, and 'False' otherwise. You can use this method to check whether a thread has finished its work before calling 'join()'."
   ]
  },
  {
   "cell_type": "markdown",
   "id": "d3fde602-4838-41f1-9bda-b72afac85700",
   "metadata": {},
   "source": [
    "4)"
   ]
  },
  {
   "cell_type": "code",
   "execution_count": 6,
   "id": "fdeee051-78de-4fd3-b760-33b794f5a7b6",
   "metadata": {},
   "outputs": [
    {
     "name": "stdout",
     "output_type": "stream",
     "text": [
      "Squares: [1, 4, 9, 16, 25]\n",
      "Cubes: [1, 8, 27, 64, 125]\n",
      "Done.\n"
     ]
    }
   ],
   "source": [
    "import threading\n",
    "\n",
    "def print_squares():\n",
    "    squares = [x ** 2 for x in range(1, 6)]\n",
    "    print(\"Squares:\", squares)\n",
    "\n",
    "def print_cubes():\n",
    "    cubes = [x ** 3 for x in range(1, 6)]\n",
    "    print(\"Cubes:\", cubes)\n",
    "\n",
    "t1 = threading.Thread(target=print_squares)\n",
    "t2 = threading.Thread(target=print_cubes)\n",
    "\n",
    "t1.start()\n",
    "t2.start()\n",
    "\n",
    "t1.join()\n",
    "t2.join()\n",
    "\n",
    "print(\"Done.\")"
   ]
  },
  {
   "cell_type": "markdown",
   "id": "95283980-badd-4ebc-9c57-6440559b5b76",
   "metadata": {},
   "source": [
    "5)"
   ]
  },
  {
   "cell_type": "markdown",
   "id": "20f7a460-382c-4392-9e64-d51abcfa0043",
   "metadata": {},
   "source": [
    "Advantages of multithreading:\n",
    "\n",
    "Improved performance: Multithreading can improve performance by allowing multiple parts of a program to run concurrently on multiple processors or cores. This can lead to faster execution times and better resource utilization.\n",
    "\n",
    "Increased responsiveness: By dividing a program into multiple threads, each of which can perform a separate task, a multithreaded program can be more responsive to user input and other events.\n",
    "\n",
    "Simplified program design: Multithreading can simplify program design by allowing complex tasks to be broken down into smaller, more manageable pieces that can be executed concurrently.\n",
    "\n",
    "Resource sharing: Multithreading can allow multiple threads to share the same resources, such as memory or I/O devices, which can reduce the amount of resources required overall."
   ]
  },
  {
   "cell_type": "markdown",
   "id": "2740c532-7938-4c2a-8df7-50dff9b0ba26",
   "metadata": {},
   "source": [
    "Disadvantages of multithreading:\n",
    "\n",
    "Increased complexity: Multithreaded programs can be more complex than single-threaded programs, and can be more difficult to design, debug, and maintain.\n",
    "\n",
    "Synchronization and coordination issues: When multiple threads access shared resources or communicate with each other, synchronization and coordination issues can arise, leading to race conditions, deadlocks, and other problems.\n",
    "\n",
    "Overhead: Creating and managing threads can incur overhead, such as memory and processing overhead, which can reduce the overall performance of the program.\n",
    "\n",
    "Difficulty in debugging: Multithreaded programs can be more difficult to debug due to the non-deterministic behavior of threads and the difficulty in reproducing timing-related bugs."
   ]
  },
  {
   "cell_type": "markdown",
   "id": "ec4b2920-315c-46ee-80a9-816a7c611ae7",
   "metadata": {},
   "source": [
    "6)"
   ]
  },
  {
   "cell_type": "markdown",
   "id": "9be39563-50dd-4e32-854a-42bc08bebde6",
   "metadata": {},
   "source": [
    "Deadlocks and race conditions are two common problems that can occur in multithreaded programs.\n",
    "\n",
    "A deadlock occurs when two or more threads are blocked, waiting for each other to release resources that they need in order to proceed. For example, if Thread A holds Resource 1 and is waiting for Resource 2, while Thread B holds Resource 2 and is waiting for Resource 1, a deadlock will occur and both threads will be blocked indefinitely. Deadlocks can be difficult to detect and resolve, as they often involve complex interactions between multiple threads and resources.\n",
    "\n",
    "A race condition occurs when two or more threads access a shared resource in an unpredictable order, which can lead to unexpected results. For example, if two threads try to increment the same variable at the same time, the final value of the variable may depend on the order in which the threads execute, which can be unpredictable. Race conditions can be difficult to detect and reproduce, as they depend on the timing and scheduling of the threads.\n",
    "\n",
    "Both deadlocks and race conditions can be serious problems in multithreaded programs, as they can lead to incorrect behavior, crashes, or other problems. To avoid these problems, it is important to design multithreaded programs carefully, using techniques such as synchronization, locking, and thread-safe data structures to ensure that threads do not interfere with each other or cause deadlock. Additionally, testing and debugging are important for detecting and resolving these issues before they can cause problems in production."
   ]
  },
  {
   "cell_type": "code",
   "execution_count": null,
   "id": "749fd133-7f30-4e31-bfc5-92ba588abb8d",
   "metadata": {},
   "outputs": [],
   "source": []
  }
 ],
 "metadata": {
  "kernelspec": {
   "display_name": "Python 3 (ipykernel)",
   "language": "python",
   "name": "python3"
  },
  "language_info": {
   "codemirror_mode": {
    "name": "ipython",
    "version": 3
   },
   "file_extension": ".py",
   "mimetype": "text/x-python",
   "name": "python",
   "nbconvert_exporter": "python",
   "pygments_lexer": "ipython3",
   "version": "3.10.8"
  }
 },
 "nbformat": 4,
 "nbformat_minor": 5
}
