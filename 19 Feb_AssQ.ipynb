{
 "cells": [
  {
   "cell_type": "markdown",
   "id": "d68aaaab-528b-443b-be27-f339b28a9d29",
   "metadata": {},
   "source": [
    "1)"
   ]
  },
  {
   "cell_type": "markdown",
   "id": "c6e99502-2911-4762-b01f-5fcdf99f4a2d",
   "metadata": {},
   "source": [
    "Flask is a micro web framework written in Python that is designed to be simple and easy to use. It is built on top of the Werkzeug toolkit and the Jinja2 template engine, and is designed to be extensible and flexible.\n",
    "\n",
    "The advantages of using Flask include:\n",
    "\n",
    "i)   Easy to learn and use: Flask is a simple and easy-to-use framework that is designed for beginners and experts alike.\n",
    "\n",
    "ii)  Lightweight: Flask is a lightweight framework that is designed to be fast and efficient, making it ideal for building small to medium-sized web applications.\n",
    "\n",
    "iii) Flexible: Flask is designed to be flexible and extensible, allowing developers to easily add new functionality and features to their applications.\n",
    "\n",
    "iv)  Modular: Flask is designed to be modular, meaning that developers can choose the features they want to use and leave out the ones they don't need.\n",
    "\n",
    "v)   Large community: Flask has a large and active community of developers who contribute to the development of the framework and provide support and resources to other developers.\n",
    "\n",
    "vi)  Compatibility with other Python libraries: Flask is compatible with a wide range of other Python libraries and tools, making it easy to integrate with other tools and technologies.\n",
    "\n",
    "Overall, Flask is a lightweight, flexible, and easy-to-use web framework that is ideal for building small to medium-sized web applications."
   ]
  },
  {
   "cell_type": "markdown",
   "id": "096b2b3c-16f9-4ba5-9b77-b685d4c37248",
   "metadata": {},
   "source": [
    "2)"
   ]
  },
  {
   "cell_type": "code",
   "execution_count": 1,
   "id": "82a2e0dc-52af-4e11-aebc-1b360ef1e296",
   "metadata": {},
   "outputs": [
    {
     "name": "stdout",
     "output_type": "stream",
     "text": [
      "/bin/bash: -c: line 1: syntax error near unexpected token `('\n",
      "/bin/bash: -c: line 1: `[https___purple-psychiatrist-dckek.pwskills.app_5000 - Google Chrome 4_2_2023 6_46_31 PM.png](attachment:1d106a2c-effe-4822-8cca-439ef7993444.png)'\n"
     ]
    }
   ],
   "source": [
    "![https___purple-psychiatrist-dckek.pwskills.app_5000 - Google Chrome 4_2_2023 6_46_31 PM.png](attachment:1d106a2c-effe-4822-8cca-439ef7993444.png)"
   ]
  },
  {
   "cell_type": "markdown",
   "id": "284ab467-76cc-475d-95c5-a41fb5ecd271",
   "metadata": {},
   "source": [
    "3)"
   ]
  },
  {
   "cell_type": "markdown",
   "id": "f2e5c9bb-f2fa-409b-ab16-dab29c40dee7",
   "metadata": {},
   "source": [
    "App routing in Flask is a way to map URLs to Python functions, allowing us to define what should happen when a user visits a specific URL. In Flask, we use the @app.route() decorator to define the URL routes.\n",
    "\n",
    "We use app routes in Flask to define the structure of our web application and to handle incoming requests. By defining routes, we can create a RESTful API or a dynamic website that responds to user requests with the appropriate content.\n",
    "\n",
    "For example, suppose we want to create a simple web application that displays a different message depending on the time of day. We can define two app routes, one for the morning and one for the afternoon, like this:"
   ]
  },
  {
   "cell_type": "code",
   "execution_count": 9,
   "id": "4d4695fd-93ba-45c5-8680-f2e4e22382d0",
   "metadata": {},
   "outputs": [
    {
     "name": "stdout",
     "output_type": "stream",
     "text": [
      " * Serving Flask app '__main__'\n",
      " * Debug mode: off\n"
     ]
    },
    {
     "name": "stderr",
     "output_type": "stream",
     "text": [
      "WARNING: This is a development server. Do not use it in a production deployment. Use a production WSGI server instead.\n",
      " * Running on http://127.0.0.1:5000\n",
      "Press CTRL+C to quit\n"
     ]
    }
   ],
   "source": [
    "from flask import Flask\n",
    "\n",
    "app = Flask(__name__)\n",
    "\n",
    "@app.route('/morning')\n",
    "def morning():\n",
    "    return 'Good morning!'\n",
    "\n",
    "@app.route('/afternoon')\n",
    "def afternoon():\n",
    "    return 'Good afternoon!'\n",
    "\n",
    "if __name__ == '__main__':\n",
    "    app.run()\n"
   ]
  },
  {
   "cell_type": "markdown",
   "id": "5c24ee21-8214-4988-b180-75bf10423769",
   "metadata": {},
   "source": [
    "In this example, if the user visits the URL 'http://localhost:5000/morning', the function 'morning()' will be called, and if they visit 'http://localhost:5000/afternoon', the function 'afternoon()' will be called. This allows us to create dynamic content that responds to user requests.\n",
    "\n",
    "Overall, app routing is a powerful feature of Flask that allows us to define the structure and behavior of our web applications, making them more interactive and user-friendly."
   ]
  },
  {
   "cell_type": "markdown",
   "id": "9b4678c5-4e1d-48ed-89b1-1708abb88eaa",
   "metadata": {},
   "source": [
    "4)"
   ]
  },
  {
   "cell_type": "code",
   "execution_count": 10,
   "id": "66ded473-0a3e-4965-a141-eabb0af8006f",
   "metadata": {},
   "outputs": [
    {
     "name": "stdout",
     "output_type": "stream",
     "text": [
      " * Serving Flask app '__main__'\n",
      " * Debug mode: off\n"
     ]
    },
    {
     "name": "stderr",
     "output_type": "stream",
     "text": [
      "WARNING: This is a development server. Do not use it in a production deployment. Use a production WSGI server instead.\n",
      " * Running on http://127.0.0.1:5000\n",
      "Press CTRL+C to quit\n"
     ]
    }
   ],
   "source": [
    "from flask import Flask\n",
    "\n",
    "app = Flask(__name__)\n",
    "\n",
    "@app.route('/welcome')\n",
    "def welcome():\n",
    "    return 'Welcome to ABC Corporation'\n",
    "\n",
    "@app.route('/')\n",
    "def company_details():\n",
    "    return 'Company Name: ABC Corporation<br>Location: India<br>Contact Detail: 999-999-9999'\n",
    "\n",
    "if __name__ == '__main__':\n",
    "    app.run()\n"
   ]
  },
  {
   "cell_type": "markdown",
   "id": "79c985cc-bc49-4fc9-bbb8-0b60cb71b92f",
   "metadata": {},
   "source": [
    "In this code, we define two app routes: '/welcome' and '/'. When the user visits the '/welcome' URL, the 'welcome()' function is called, which simply returns the welcome message \"Welcome to ABC Corporation\". When the user visits the '/' URL, the 'company_details()' function is called, which returns the company details as an HTML string.\n",
    "\n",
    "When you run this code and visit 'http://localhost:5000/welcome', you should see the welcome message \"Welcome to ABC Corporation\" displayed in your browser. And when you visit 'http://localhost:5000/', you should see the company details displayed as \"Company Name: ABC Corporation<br>Location: India<br>Contact Detail: 999-999-9999\"."
   ]
  },
  {
   "cell_type": "markdown",
   "id": "dfcfd597-67f4-4fa3-a55a-8067eab22302",
   "metadata": {},
   "source": [
    "5)"
   ]
  },
  {
   "cell_type": "markdown",
   "id": "66af71c9-9088-471e-8c18-7cd33e5ee18a",
   "metadata": {},
   "source": [
    "In Flask, the 'url_for()' function is used for URL building. It generates a URL to a specific function, based on the endpoint name defined in the '@app.route()' decorator.\n",
    "\n",
    "Here is an example code to demonstrate the working of the 'url_for()' function in Flask:"
   ]
  },
  {
   "cell_type": "code",
   "execution_count": 11,
   "id": "e2c809fe-1669-4183-9ba6-5c7c48a653e0",
   "metadata": {},
   "outputs": [
    {
     "name": "stdout",
     "output_type": "stream",
     "text": [
      "/hello\n",
      "/user/Alice\n"
     ]
    }
   ],
   "source": [
    "from flask import Flask, url_for\n",
    "\n",
    "app = Flask(__name__)\n",
    "\n",
    "@app.route('/hello')\n",
    "def hello():\n",
    "    return 'Hello!'\n",
    "\n",
    "@app.route('/user/<name>')\n",
    "def user(name):\n",
    "    return f'Hello, {name}!'\n",
    "\n",
    "if __name__ == '__main__':\n",
    "    with app.test_request_context():\n",
    "        print(url_for('hello'))\n",
    "        print(url_for('user', name='Alice'))"
   ]
  },
  {
   "cell_type": "markdown",
   "id": "09d93dcf-49bc-4859-8fa4-6650a91b209c",
   "metadata": {},
   "source": [
    "n this code, we define two app routes: '/hello' and '/user/<name>'. The 'hello()' function simply returns the string \"Hello!\", and the 'user()' function takes a parameter 'name' and returns a personalized greeting.\n",
    "\n",
    "We then use the 'url_for()' function to generate URLs to these functions. The first call to 'url_for()' generates a URL to the 'hello()' function, and the second call generates a URL to the 'user()' function with the name parameter set to \"Alice\"."
   ]
  },
  {
   "cell_type": "markdown",
   "id": "dd3ed81d-793b-4e71-b1f9-5b90f7af90ab",
   "metadata": {},
   "source": [
    "This shows that the 'url_for()' function correctly generates the URLs to the specified functions, based on their endpoint names. This can be useful for generating URLs dynamically in Flask applications, especially when you have many routes and want to avoid hard-coding URLs in your templates or code"
   ]
  }
 ],
 "metadata": {
  "kernelspec": {
   "display_name": "Python 3 (ipykernel)",
   "language": "python",
   "name": "python3"
  },
  "language_info": {
   "codemirror_mode": {
    "name": "ipython",
    "version": 3
   },
   "file_extension": ".py",
   "mimetype": "text/x-python",
   "name": "python",
   "nbconvert_exporter": "python",
   "pygments_lexer": "ipython3",
   "version": "3.10.8"
  }
 },
 "nbformat": 4,
 "nbformat_minor": 5
}
