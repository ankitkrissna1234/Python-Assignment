{
 "cells": [
  {
   "cell_type": "markdown",
   "id": "9ab334f6-bfb9-4692-974a-380ca5301a59",
   "metadata": {},
   "source": [
    "1. Guido van Rossum was developed Python Programming Language on February 20, 1991.\n"
   ]
  },
  {
   "cell_type": "markdown",
   "id": "81a4d8d5-ec4d-4c6f-9e31-1248689c3637",
   "metadata": {},
   "source": [
    "2. Python supports various type of Programming that is Object-oriented programming,structured programming,functional programming and aspect-oriented programming"
   ]
  },
  {
   "cell_type": "markdown",
   "id": "275b8828-227f-49cc-9d7a-ffd3145b9abd",
   "metadata": {},
   "source": [
    "3. Yes, Python is case sensitive when  dealing with identifiers. It treats uppercase and lowercase characters differently."
   ]
  },
  {
   "cell_type": "markdown",
   "id": "3cbacf5d-39f0-4803-a303-c3601397a730",
   "metadata": {},
   "source": [
    "4. '.py' is the correct extension of the Python file"
   ]
  },
  {
   "cell_type": "markdown",
   "id": "afe7e8a4-1fd5-4841-804b-d3df1213a0ba",
   "metadata": {},
   "source": [
    "5. Python is an interpreted language, which means the source code of a Python program is converted into bytecode that is then executed by the Python virtual machine"
   ]
  },
  {
   "cell_type": "markdown",
   "id": "d2870822-1203-48a6-ad4d-fd84f3d072de",
   "metadata": {},
   "source": [
    "6. The name of few blocks of coede used to define in Python language are a module, a function body, and a class definition."
   ]
  },
  {
   "cell_type": "markdown",
   "id": "474040fe-3706-4ede-92e3-1b3e3307544c",
   "metadata": {},
   "source": [
    "7. \"#\" is used to give single-line comments in Python."
   ]
  },
  {
   "cell_type": "markdown",
   "id": "0e3deca5-df98-433e-89a0-fe2fdb414a89",
   "metadata": {},
   "source": [
    "8. 'sys. version' function can help us tofind the version of python that we are currently working on."
   ]
  },
  {
   "cell_type": "markdown",
   "id": "0b6049bc-8e76-4bd8-900e-e8ab59c5916d",
   "metadata": {},
   "source": [
    "9. Python supports the creation of anonymous function ar runtime, using a construct called 'Lambda'."
   ]
  },
  {
   "cell_type": "markdown",
   "id": "7f4dcd6f-e94e-4346-a439-e5cbd7d83d07",
   "metadata": {},
   "source": [
    "10. pip stand for python is preferred installer program"
   ]
  },
  {
   "cell_type": "markdown",
   "id": "858045b9-61e8-4230-8c9a-2bf9f162743e",
   "metadata": {},
   "source": [
    "11. There are 68 built-in functions in python . Like print(),type(),max(),input() etc"
   ]
  },
  {
   "cell_type": "markdown",
   "id": "44184661-1fc6-46df-8576-c780538f7f35",
   "metadata": {},
   "source": [
    "12. The maximum possible length of an identifier in Python is 79 characters"
   ]
  },
  {
   "cell_type": "markdown",
   "id": "37915358-802e-48fc-b343-cce164dac994",
   "metadata": {},
   "source": [
    "13. The benefits of using Python are\n",
    "Data science.\n",
    "Scientific and mathematical computing.\n",
    "Web development.\n",
    "Finance and trading.\n",
    "System automation and administration.\n",
    "Computer graphics.\n",
    "Basic game development.\n",
    "Security and penetration testing."
   ]
  },
  {
   "cell_type": "markdown",
   "id": "4e733851-cd59-437d-ae1d-e66a5c0f0c7b",
   "metadata": {},
   "source": [
    "14. Memory management in Python involves a private heap containing all Python objects and data structures. The management of this private heap is ensured internally by the Python memory manager."
   ]
  },
  {
   "cell_type": "markdown",
   "id": "0d2fc84c-323c-452e-8085-f389ceff8305",
   "metadata": {},
   "source": [
    "15. Right-clicking This PC and going to Properties.\n",
    "Clicking on the Advanced system settings in the menu on the left.\n",
    "Clicking on the Environment Variables button o​n the bottom right.\n",
    "In the System variables section, selecting the Path variable and clicking on Edit."
   ]
  },
  {
   "cell_type": "markdown",
   "id": "523f5d39-68ab-4952-8cc1-b5e0876728cb",
   "metadata": {},
   "source": [
    "16. Yes, indentation required in python because it indicate a block of code."
   ]
  },
  {
   "cell_type": "code",
   "execution_count": null,
   "id": "7d297082-7b5c-4edc-9a7a-fbb39fd7bd82",
   "metadata": {},
   "outputs": [],
   "source": []
  }
 ],
 "metadata": {
  "kernelspec": {
   "display_name": "Python 3 (ipykernel)",
   "language": "python",
   "name": "python3"
  },
  "language_info": {
   "codemirror_mode": {
    "name": "ipython",
    "version": 3
   },
   "file_extension": ".py",
   "mimetype": "text/x-python",
   "name": "python",
   "nbconvert_exporter": "python",
   "pygments_lexer": "ipython3",
   "version": "3.10.8"
  }
 },
 "nbformat": 4,
 "nbformat_minor": 5
}
