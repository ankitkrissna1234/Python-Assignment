{
 "cells": [
  {
   "cell_type": "markdown",
   "id": "34802f0d-c962-41ae-994b-52fe85e2167a",
   "metadata": {},
   "source": [
    "1)"
   ]
  },
  {
   "cell_type": "code",
   "execution_count": 3,
   "id": "ff6149de-8ec1-400a-abce-8187366f34e6",
   "metadata": {},
   "outputs": [],
   "source": [
    "def product_of_numbers(lst):\n",
    "    flat_list = []\n",
    "    for item in lst:\n",
    "        if isinstance(item, (int, float)):\n",
    "            flat_list.append(item)\n",
    "        elif isinstance(item, list):\n",
    "            flat_list.extend([i for i in item if isinstance(i, (int, float))])\n",
    "        elif isinstance(item, tuple):\n",
    "            flat_list.extend([i for i in item if isinstance(i, (int, float))])\n",
    "        elif isinstance(item, set):\n",
    "            flat_list.extend([i for i in item if isinstance(i, (int, float))])\n",
    "        elif isinstance(item, dict):\n",
    "            flat_list.extend([i for i in item.values() if isinstance(i, (int, float))])\n",
    "            flat_list.extend([i for j in item.items() for i in j if isinstance(i, (int, float))])\n",
    "    product = 1\n",
    "    for num in flat_list:\n",
    "        product *= num\n",
    "    return product"
   ]
  },
  {
   "cell_type": "code",
   "execution_count": 4,
   "id": "17f9627d-fc56-40e1-8265-d2fa7a4c8407",
   "metadata": {},
   "outputs": [
    {
     "name": "stdout",
     "output_type": "stream",
     "text": [
      "0\n"
     ]
    }
   ],
   "source": [
    "list1 = [1,2,3,4, [44,55,66, True], False, (34,56,78,89,34), {1,2,3,3,2,1}, {1:34, \"key2\": [55, 67, 78, 89], 4: (45,22, 61, 34)}, [56, 'data science'], 'Machine Learning']\n",
    "print(product_of_numbers(list1))  "
   ]
  },
  {
   "cell_type": "markdown",
   "id": "a3e93a73-8ec9-4076-aa3c-23a5db06afff",
   "metadata": {},
   "source": [
    "2)"
   ]
  },
  {
   "cell_type": "code",
   "execution_count": 5,
   "id": "08db2663-f783-4737-b090-84e2a35c0033",
   "metadata": {},
   "outputs": [
    {
     "name": "stdout",
     "output_type": "stream",
     "text": [
      "r$dzmg$gl$yvxlnv$z$wzgz$hxrvmgrhg.\n"
     ]
    }
   ],
   "source": [
    "def encrypt(sentence):\n",
    "    encrypted_sentence = \"\"\n",
    "    for char in sentence.lower():\n",
    "        if char.isalpha():\n",
    "            encrypted_char = chr(219 - ord(char))\n",
    "            encrypted_sentence += encrypted_char\n",
    "        elif char == \" \":\n",
    "            encrypted_sentence += \"$\"\n",
    "        else:\n",
    "            encrypted_sentence += char\n",
    "    return encrypted_sentence.lower()\n",
    "\n",
    "input_sentence = \"I want to become a Data Scientist.\"\n",
    "encrypted_sentence = encrypt(input_sentence)\n",
    "print(encrypted_sentence)  # Output: r dzmhg gl yvtrnv z wztv hvxivvgsl."
   ]
  },
  {
   "cell_type": "code",
   "execution_count": null,
   "id": "cc2369f1-b082-43ea-8aa1-86f3573e2b6e",
   "metadata": {},
   "outputs": [],
   "source": []
  }
 ],
 "metadata": {
  "kernelspec": {
   "display_name": "Python 3 (ipykernel)",
   "language": "python",
   "name": "python3"
  },
  "language_info": {
   "codemirror_mode": {
    "name": "ipython",
    "version": 3
   },
   "file_extension": ".py",
   "mimetype": "text/x-python",
   "name": "python",
   "nbconvert_exporter": "python",
   "pygments_lexer": "ipython3",
   "version": "3.10.8"
  }
 },
 "nbformat": 4,
 "nbformat_minor": 5
}
