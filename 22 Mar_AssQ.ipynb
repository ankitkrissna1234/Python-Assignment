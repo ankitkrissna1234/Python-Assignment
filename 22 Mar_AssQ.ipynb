{
 "cells": [
  {
   "cell_type": "markdown",
   "id": "38437134-4383-49ad-b7f0-851b9d98f902",
   "metadata": {},
   "source": [
    "# 1)"
   ]
  },
  {
   "cell_type": "code",
   "execution_count": 1,
   "id": "edcfaa28-e501-43ba-837e-c2ab040e922f",
   "metadata": {},
   "outputs": [
    {
     "name": "stdout",
     "output_type": "stream",
     "text": [
      "Pearson correlation coefficient: 0.9000000000000001\n",
      "p-value: 0.03738607346849858\n"
     ]
    }
   ],
   "source": [
    "import scipy.stats as stats\n",
    "\n",
    "# Example data for time spent studying and exam scores\n",
    "time_spent = [10, 8, 6, 7, 9]\n",
    "exam_scores = [90, 85, 75, 80, 95]\n",
    "\n",
    "# Calculate the Pearson correlation coefficient\n",
    "corr_coef, p_value = stats.pearsonr(time_spent, exam_scores)\n",
    "\n",
    "# Print the result\n",
    "print(\"Pearson correlation coefficient:\", corr_coef)\n",
    "print(\"p-value:\", p_value)"
   ]
  },
  {
   "cell_type": "markdown",
   "id": "36727147-95c0-43ad-b9a6-775048445876",
   "metadata": {},
   "source": [
    "# 2)"
   ]
  },
  {
   "cell_type": "code",
   "execution_count": 2,
   "id": "2b8b796f-43ae-43a7-8f36-8c720e421be3",
   "metadata": {},
   "outputs": [
    {
     "name": "stdout",
     "output_type": "stream",
     "text": [
      "Spearman's rank correlation coefficient: 0.9999999999999999\n",
      "p-value: 1.4042654220543672e-24\n"
     ]
    }
   ],
   "source": [
    "import scipy.stats as stats\n",
    "\n",
    "# Example data for sleep and job satisfaction\n",
    "sleep = [8, 6, 7, 9, 5]\n",
    "job_satisfaction = [7, 5, 6, 8, 4]\n",
    "\n",
    "# Calculate the Spearman's rank correlation coefficient\n",
    "corr_coef, p_value = stats.spearmanr(sleep, job_satisfaction)\n",
    "\n",
    "# Print the result\n",
    "print(\"Spearman's rank correlation coefficient:\", corr_coef)\n",
    "print(\"p-value:\", p_value)"
   ]
  },
  {
   "cell_type": "markdown",
   "id": "347feaad-51c7-4917-ae13-4f5622d1baac",
   "metadata": {},
   "source": [
    "# 3)"
   ]
  },
  {
   "cell_type": "code",
   "execution_count": 7,
   "id": "140a5b43-1f25-4f76-9f05-cc067b75d28b",
   "metadata": {},
   "outputs": [
    {
     "name": "stdout",
     "output_type": "stream",
     "text": [
      "Pearson correlation coefficient: -0.5313007443604525\n",
      "Pearson p-value: 6.034673082090471e-05\n",
      "Spearman's rank correlation coefficient: -0.495119788399292\n",
      "Spearman's p-value: 0.00022099776224068334\n"
     ]
    }
   ],
   "source": [
    "import numpy as np\n",
    "import scipy.stats as stats\n",
    "\n",
    "# Example data for hours of exercise and BMI\n",
    "hours_of_exercise = [4, 6, 5, 3, 2, 7, 4, 3, 5, 6, 2, 4, 5, 3, 2, 6, 4, 7, 5, 3, 2, 4, 5, 6, 7, 3, 2, 4, 6, 5, 3, 2, 4, 6, 5, 3, 2, 7, 4, 3, 5, 6, 2, 4, 5, 3, 2, 6, 4, 7, 5]\n",
    "bmi = [25.3, 27.8, 24.9, 26.1, 29.5, 22.7, 28.6, 27.2, 24.1, 26.7, 30.4, 25.7, 24.5, 26.8, 29.9, 27.5, 25.6, 22.4, 25.1, 28.9, 29.8, 27.3, 26.2, 24.8, 22.2, 26.9, 29.7, 27.7, 25.4, 24.7, 27.9, 29.6, 26.5, 23.5, 28.1, 29.2, 23.9, 25.9, 24.6, 26.3, 29.3, 30.1, 26.6, 24.3, 27.1, 25.8, 29.4, 26.4, 23.7, 25.2, 28.8]\n",
    "\n",
    "# Calculate the Pearson correlation coefficient\n",
    "pearson_coef, pearson_p_value = stats.pearsonr(hours_of_exercise, bmi)\n",
    "\n",
    "# Calculate the Spearman's rank correlation coefficient\n",
    "spearman_coef, spearman_p_value = stats.spearmanr(hours_of_exercise, bmi)\n",
    "\n",
    "# Print the results\n",
    "print(\"Pearson correlation coefficient:\", pearson_coef)\n",
    "print(\"Pearson p-value:\", pearson_p_value)\n",
    "print(\"Spearman's rank correlation coefficient:\", spearman_coef)\n",
    "print(\"Spearman's p-value:\", spearman_p_value)"
   ]
  },
  {
   "cell_type": "markdown",
   "id": "1c2a3f9b-e278-4ad1-91e4-911bc0c6e5b9",
   "metadata": {},
   "source": [
    "# 4)"
   ]
  },
  {
   "cell_type": "code",
   "execution_count": 8,
   "id": "423cc717-5cbb-4279-a097-cc59fa4578b7",
   "metadata": {},
   "outputs": [
    {
     "name": "stdout",
     "output_type": "stream",
     "text": [
      "Pearson correlation coefficient: 0.45347739628582606\n",
      "p-value: 0.0009419674454544414\n"
     ]
    }
   ],
   "source": [
    "import numpy as np\n",
    "import scipy.stats as stats\n",
    "\n",
    "# Example data for hours of TV watching and physical activity level\n",
    "tv_hours = [3, 2, 4, 5, 3, 2, 4, 6, 5, 3, 2, 4, 6, 5, 3, 2, 7, 4, 3, 5, 6, 2, 4, 5, 3, 2, 6, 4, 7, 5, 3, 2, 4, 6, 5, 3, 2, 7, 4, 3, 5, 6, 2, 4, 5, 3, 2, 6, 4, 7]\n",
    "physical_activity = [4, 6, 5, 3, 2, 7, 4, 3, 5, 6, 2, 4, 5, 3, 2, 6, 4, 7, 5, 3, 2, 4, 6, 5, 3, 2, 6, 4, 7, 5, 3, 2, 4, 6, 5, 3, 2, 7, 4, 3, 5, 6, 2, 4, 5, 3, 2, 6, 4, 7]\n",
    "\n",
    "# Calculate the Pearson correlation coefficient\n",
    "corr_coef, p_value = stats.pearsonr(tv_hours, physical_activity)\n",
    "\n",
    "# Print the result\n",
    "print(\"Pearson correlation coefficient:\", corr_coef)\n",
    "print(\"p-value:\", p_value)"
   ]
  },
  {
   "cell_type": "markdown",
   "id": "2af501fd-f5d4-4a3e-9ee0-a4d45937d08c",
   "metadata": {},
   "source": [
    "# 5)"
   ]
  },
  {
   "cell_type": "markdown",
   "id": "5d37a58f-5c8b-4ae9-8c57-cf1e25037c8c",
   "metadata": {},
   "source": [
    "To analyze the relationship between age and preference for a particular brand of soft drink based on the given survey results, we need to assign numerical values to the brands and calculate the correlation coefficient. Let's assign the following values to the brands:                                                                                         \n",
    "\n",
    "Coke: 1                                                                                                                 \n",
    "Pepsi: 2                                                                                                               \n",
    "Mountain Dew: 3                                                                                                         \n",
    "\n",
    "After assigning the numerical values, the dataset becomes:                                                             \n",
    "\n",
    "Age(Years)\tBrand                                                                                                       \n",
    "25\t1 (Coke)                                                                                                           \n",
    "42\t2 (Pepsi)                                                                                                           \n",
    "37\t3 (Mountain Dew)                                                                                                   \n",
    "19\t1                                                                                                                  \n",
    "31\t2                                                                                                                  \n",
    "28\t1                                                                                                 "
   ]
  },
  {
   "cell_type": "code",
   "execution_count": 10,
   "id": "f530dd78-0be8-4b7c-a3ea-bb3c129b0da4",
   "metadata": {},
   "outputs": [
    {
     "name": "stdout",
     "output_type": "stream",
     "text": [
      "Pearson correlation coefficient: 0.7587035441865057\n",
      "p-value: 0.08031134942324109\n"
     ]
    }
   ],
   "source": [
    "import numpy as np\n",
    "import scipy.stats as stats\n",
    "\n",
    "# Data for age and brand preference\n",
    "age = [25, 42, 37, 19, 31, 28]\n",
    "brand = [1, 2,  3, 1, 2, 1]\n",
    "\n",
    "# Calculate the Pearson correlation coefficient\n",
    "corr_coef, p_value = stats.pearsonr(age, brand)\n",
    "\n",
    "# Print the result\n",
    "print(\"Pearson correlation coefficient:\", corr_coef)\n",
    "print(\"p-value:\", p_value)"
   ]
  },
  {
   "cell_type": "markdown",
   "id": "f7a87463-60f1-425b-b685-766275b59b45",
   "metadata": {},
   "source": [
    "# 6)"
   ]
  },
  {
   "cell_type": "code",
   "execution_count": 11,
   "id": "f776aa94-f76f-4eeb-9317-0160010fe3e8",
   "metadata": {},
   "outputs": [
    {
     "name": "stdout",
     "output_type": "stream",
     "text": [
      "Pearson correlation coefficient: 1.0\n",
      "p-value: 0.0\n"
     ]
    }
   ],
   "source": [
    "import numpy as np\n",
    "import scipy.stats as stats\n",
    "\n",
    "# Example data for sales calls per day and sales per week\n",
    "sales_calls_per_day = [10, 8, 6, 7, 9, 12, 11, 10, 9, 7, 8, 6, 5, 7, 10, 12, 8, 9, 10, 7, 6, 9, 11, 12, 9, 8, 10, 7, 6, 5]\n",
    "sales_per_week = [50, 40, 30, 35, 45, 60, 55, 50, 45, 35, 40, 30, 25, 35, 50, 60, 40, 45, 50, 35, 30, 45, 55, 60, 45, 40, 50, 35, 30, 25]\n",
    "\n",
    "# Calculate the Pearson correlation coefficient\n",
    "corr_coef, p_value = stats.pearsonr(sales_calls_per_day, sales_per_week)\n",
    "\n",
    "# Print the result\n",
    "print(\"Pearson correlation coefficient:\", corr_coef)\n",
    "print(\"p-value:\", p_value)"
   ]
  },
  {
   "cell_type": "code",
   "execution_count": null,
   "id": "80d849ca-e51a-4177-9acf-ab6e0ef5fb91",
   "metadata": {},
   "outputs": [],
   "source": []
  }
 ],
 "metadata": {
  "kernelspec": {
   "display_name": "Python 3 (ipykernel)",
   "language": "python",
   "name": "python3"
  },
  "language_info": {
   "codemirror_mode": {
    "name": "ipython",
    "version": 3
   },
   "file_extension": ".py",
   "mimetype": "text/x-python",
   "name": "python",
   "nbconvert_exporter": "python",
   "pygments_lexer": "ipython3",
   "version": "3.10.8"
  }
 },
 "nbformat": 4,
 "nbformat_minor": 5
}
