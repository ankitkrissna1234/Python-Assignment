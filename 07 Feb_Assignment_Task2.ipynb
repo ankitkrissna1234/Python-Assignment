{
 "cells": [
  {
   "cell_type": "markdown",
   "id": "a32db605-4d3f-456a-ba23-575b26e82c3d",
   "metadata": {},
   "source": [
    "1)"
   ]
  },
  {
   "cell_type": "code",
   "execution_count": 10,
   "id": "3492574d-c84b-4a62-9699-69a43c3c9cc3",
   "metadata": {},
   "outputs": [],
   "source": [
    "import re\n",
    "\n",
    "def check_password(password):\n",
    "    # Check length of password\n",
    "    if len(password) != 10:\n",
    "        return \"Invalid Password\"\n",
    "\n",
    "    # Check number of uppercase and lowercase letters\n",
    "    if sum(1 for char in password if char.isupper()) < 2 or \\\n",
    "       sum(1 for char in password if char.islower()) < 2:\n",
    "        return \"Invalid Password\"\n",
    "\n",
    "    # Check for at least a number and three special characters\n",
    "    if not re.search(r\"\\d\", password) or \\\n",
    "       sum(1 for char in password if not char.isalnum()) < 3:\n",
    "        return \"Invalid Password\"\n",
    "\n",
    "    # If all requirements are met, return \"Valid Password\"\n",
    "    return \"Valid Password\""
   ]
  },
  {
   "cell_type": "code",
   "execution_count": 11,
   "id": "7566212c-b67e-4253-833f-30af3afa0b69",
   "metadata": {},
   "outputs": [
    {
     "name": "stdout",
     "output_type": "stream",
     "text": [
      "Valid Password\n"
     ]
    }
   ],
   "source": [
    "password = \"AbCdf12$#@\"\n",
    "result = check_password(password)\n",
    "print(result)  "
   ]
  },
  {
   "cell_type": "markdown",
   "id": "81a5015d-dbb1-4821-b856-bb6a811b02fe",
   "metadata": {},
   "source": [
    "2)"
   ]
  },
  {
   "cell_type": "markdown",
   "id": "421f2c29-7349-4af4-bd62-ff5211372583",
   "metadata": {},
   "source": [
    "i) Check if the string starts with a particular letter:\n",
    "\n",
    "Using List Comprehension:"
   ]
  },
  {
   "cell_type": "code",
   "execution_count": 13,
   "id": "d6cdb507-27db-40f6-8481-950837388087",
   "metadata": {},
   "outputs": [
    {
     "name": "stdout",
     "output_type": "stream",
     "text": [
      "[True, False, False, False]\n"
     ]
    }
   ],
   "source": [
    "strings = ['apple', 'banana', 'cherry', 'date']\n",
    "letter = 'a'\n",
    "result = [True if s.startswith(letter) else False for s in strings]\n",
    "print(result)  \n"
   ]
  },
  {
   "cell_type": "markdown",
   "id": "242fd772-18b5-4416-9e54-c1fcc68402fb",
   "metadata": {},
   "source": [
    "ii)Check if the string is numeric:\n",
    "\n",
    "Using Lambda and isnumeric():"
   ]
  },
  {
   "cell_type": "code",
   "execution_count": 15,
   "id": "6c905b92-dfcc-417c-a24d-5c071cba174c",
   "metadata": {},
   "outputs": [
    {
     "name": "stdout",
     "output_type": "stream",
     "text": [
      "['123']\n"
     ]
    }
   ],
   "source": [
    "strings = ['123', '3.14', 'hello', '']\n",
    "result = list(filter(lambda s: s.isnumeric(), strings))\n",
    "print(result)  "
   ]
  },
  {
   "cell_type": "markdown",
   "id": "e04ad18f-bfcd-4b33-b9d5-fbb996c2e49d",
   "metadata": {},
   "source": [
    "iii)Sort a list of tuples having fruit names and their quantity:\n",
    "\n",
    "Using Lambda and sorted():"
   ]
  },
  {
   "cell_type": "code",
   "execution_count": 17,
   "id": "7e306508-43bd-4e16-989d-e1a32f97f095",
   "metadata": {},
   "outputs": [
    {
     "name": "stdout",
     "output_type": "stream",
     "text": [
      "[('orange', 80), ('mango', 99), ('grapes', 1000)]\n"
     ]
    }
   ],
   "source": [
    "fruits = [(\"mango\",99),(\"orange\",80), (\"grapes\", 1000)]\n",
    "result = sorted(fruits, key=lambda x: x[1])\n",
    "print(result)  "
   ]
  },
  {
   "cell_type": "markdown",
   "id": "82e29b4c-a492-452a-915a-2fd1935e6ed3",
   "metadata": {},
   "source": [
    "iv)Find the squares of numbers from 1 to 10:\n",
    "\n",
    "Using List Comprehension:"
   ]
  },
  {
   "cell_type": "code",
   "execution_count": 20,
   "id": "b68eea45-fcba-4e16-a89d-254ecc62d75d",
   "metadata": {},
   "outputs": [
    {
     "name": "stdout",
     "output_type": "stream",
     "text": [
      "[1, 4, 9, 16, 25, 36, 49, 64, 81]\n"
     ]
    }
   ],
   "source": [
    "numbers = range(1, 10)\n",
    "result = [n**2 for n in numbers]\n",
    "print(result)  "
   ]
  },
  {
   "cell_type": "markdown",
   "id": "4bfeaede-0cf2-4bc5-8413-977c340cd1d9",
   "metadata": {},
   "source": [
    "v)Find the cube root of numbers from 1 to 10:\n",
    "\n",
    "Using Lambda and map():"
   ]
  },
  {
   "cell_type": "code",
   "execution_count": 23,
   "id": "7a7310ca-dd86-41db-8c4e-3b0a82340e52",
   "metadata": {},
   "outputs": [
    {
     "name": "stdout",
     "output_type": "stream",
     "text": [
      "[1.0, 1.2599210498948732, 1.4422495703074083, 1.5874010519681994, 1.7099759466766968, 1.8171205928321397, 1.912931182772389, 2.0, 2.080083823051904]\n"
     ]
    }
   ],
   "source": [
    "numbers = range(1, 10)\n",
    "result = list(map(lambda x: x**(1/3), numbers))\n",
    "print(result)  \n"
   ]
  },
  {
   "cell_type": "markdown",
   "id": "8da7c103-4b1d-4482-9381-cea9e6f7dfe8",
   "metadata": {},
   "source": [
    "vi)Check if a given number is even:\n",
    "\n",
    "Using Lambda and filter():"
   ]
  },
  {
   "cell_type": "code",
   "execution_count": 24,
   "id": "17cf9d07-c22a-4553-8653-760198593b81",
   "metadata": {},
   "outputs": [
    {
     "name": "stdout",
     "output_type": "stream",
     "text": [
      "[2, 4, 6, 8, 10]\n"
     ]
    }
   ],
   "source": [
    "numbers = [1, 2, 3, 4, 5, 6, 7, 8, 9, 10]\n",
    "result = list(filter(lambda x: x%2==0, numbers))\n",
    "print(result)  "
   ]
  },
  {
   "cell_type": "markdown",
   "id": "7c959fed-10fe-4e2d-9bf2-1a3f6414c883",
   "metadata": {},
   "source": [
    "vii) Filter odd numbers from the given list:\n",
    "\n",
    "Using List Comprehension:"
   ]
  },
  {
   "cell_type": "code",
   "execution_count": 25,
   "id": "d1b547cf-8a62-4d7f-943f-addc5d3884a3",
   "metadata": {},
   "outputs": [
    {
     "name": "stdout",
     "output_type": "stream",
     "text": [
      "[1, 3, 5, 7, 9]\n"
     ]
    }
   ],
   "source": [
    "numbers = [1, 2, 3, 4, 5, 6, 7, 8, 9, 10]\n",
    "result = [n for n in numbers if n%2==1]\n",
    "print(result)  "
   ]
  },
  {
   "cell_type": "markdown",
   "id": "a3fdb9ae-c3d9-495b-97ac-56d3a0ed1fe6",
   "metadata": {},
   "source": [
    "vii) Sort a list of integers into positive and negative integers lists:\n",
    "\n",
    "Using Lambda and filter():"
   ]
  },
  {
   "cell_type": "code",
   "execution_count": 26,
   "id": "8417e428-97b8-444c-92e6-cac99216c50a",
   "metadata": {},
   "outputs": [
    {
     "name": "stdout",
     "output_type": "stream",
     "text": [
      "[1, 2, 3, 4, 5, 6]\n",
      "[-1, -2, -3, -4, -5]\n"
     ]
    }
   ],
   "source": [
    "numbers = [1, 2, 3, 4, 5, 6, -1, -2, -3, -4, -5, 0]\n",
    "positive = list(filter(lambda x: x>0, numbers))\n",
    "negative = list(filter(lambda x: x<0, numbers))\n",
    "print(positive)  \n",
    "print(negative)  "
   ]
  },
  {
   "cell_type": "code",
   "execution_count": null,
   "id": "8212797c-54ea-4468-abf1-fee6b29ec87d",
   "metadata": {},
   "outputs": [],
   "source": []
  }
 ],
 "metadata": {
  "kernelspec": {
   "display_name": "Python 3 (ipykernel)",
   "language": "python",
   "name": "python3"
  },
  "language_info": {
   "codemirror_mode": {
    "name": "ipython",
    "version": 3
   },
   "file_extension": ".py",
   "mimetype": "text/x-python",
   "name": "python",
   "nbconvert_exporter": "python",
   "pygments_lexer": "ipython3",
   "version": "3.10.8"
  }
 },
 "nbformat": 4,
 "nbformat_minor": 5
}
