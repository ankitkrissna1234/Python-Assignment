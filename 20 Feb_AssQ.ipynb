{
 "cells": [
  {
   "cell_type": "markdown",
   "id": "2fc4a7a8-2165-4515-8e66-69fc325be980",
   "metadata": {},
   "source": [
    "1)"
   ]
  },
  {
   "cell_type": "markdown",
   "id": "9b191288-f7ce-4f3c-8d50-22f665151b26",
   "metadata": {},
   "source": [
    "GET:\n",
    "\n",
    "i) The GET method is used to request data from a server.                                         \n",
    "ii) It is a safe and idempotent method, which means that it does not modify the state of the      server and can be repeated multiple times without changing the result.                           \n",
    "iii) When a user submits a GET request, the data is appended to the URL as query parameters.     \n",
    "iv) GET requests can be cached by the browser and are visible in the browser's history, making them less secure for sensitive data.\n",
    "\n",
    "\n",
    "POST:\n",
    "\n",
    "i)  The POST method is used to submit data to a server to be processed.                           \n",
    "ii) It is not safe or idempotent, which means that it can modify the state of the server and   should not be repeated multiple times.                                                           \n",
    "iii) When a user submits a POST request, the data is sent in the body of the request, rather than as query parameters in the URL.                                                                   \n",
    "iv) POST requests are not cached by the browser and are not visible in the browser's history,   making them more secure for sensitive data.\n",
    "\n",
    "\n",
    "In summary, the GET method is used to retrieve data from a server, while the POST method is used to submit data to a server for processing. The choice of method depends on the type of data being sent and the desired level of security."
   ]
  },
  {
   "cell_type": "markdown",
   "id": "6bb733e3-7a6c-4514-a366-fab773175c87",
   "metadata": {},
   "source": [
    "2)"
   ]
  },
  {
   "cell_type": "markdown",
   "id": "4f1ce9bb-f8c5-45e0-86a2-ebd5a723aca7",
   "metadata": {},
   "source": [
    "In Flask, the request object is used to access incoming request data from a client, such as form data or query parameters. The request object is a global object that is available in all Flask routes and templates.\n",
    "\n",
    "The request object allows developers to:                                                         \n",
    "\n",
    "a) Access the data submitted in a form                                                           \n",
    "b) Access the query parameters passed in the URL                                                 \n",
    "c)Access HTTP headers sent with the request                                                       \n",
    "d)Determine the HTTP method used for the request (e.g. GET or POST)                               \n",
    "e)Work with cookies                                                                               \n",
    "\n",
    "For example, if a form is submitted via a POST request, the data submitted in the form can be accessed using the request.form attribute. Similarly, if query parameters are passed in the URL, they can be accessed using the request.args attribute.\n",
    "\n",
    "In summary, the request object is used in Flask to access incoming request data and perform various operations based on that data."
   ]
  },
  {
   "cell_type": "markdown",
   "id": "efd51537-1a5f-4af0-9d73-0841720764d8",
   "metadata": {},
   "source": [
    "3)"
   ]
  },
  {
   "cell_type": "markdown",
   "id": "f2ab4dd4-7f0a-487a-985f-bec6db7780f6",
   "metadata": {},
   "source": [
    "In Flask, the 'redirect()' function is used to redirect the user to a different URL. It is typically used when a user submits a form or performs some action that requires a redirect to a different page.\n",
    "\n",
    "The 'redirect()' function takes a URL as its argument and returns a redirect response to the client, telling the client to navigate to the specified URL. For example, if a user submits a form and the data is successfully processed, the 'redirect()' function can be used to redirect the user to a success page.\n",
    "\n",
    "Here's an example:"
   ]
  },
  {
   "cell_type": "code",
   "execution_count": 1,
   "id": "99507469-39b6-4802-80f2-5589b2739c60",
   "metadata": {},
   "outputs": [
    {
     "name": "stdout",
     "output_type": "stream",
     "text": [
      " * Serving Flask app '__main__'\n",
      " * Debug mode: off\n"
     ]
    },
    {
     "name": "stderr",
     "output_type": "stream",
     "text": [
      "WARNING: This is a development server. Do not use it in a production deployment. Use a production WSGI server instead.\n",
      " * Running on http://127.0.0.1:5000\n",
      "Press CTRL+C to quit\n"
     ]
    }
   ],
   "source": [
    "from flask import Flask, redirect, url_for\n",
    "\n",
    "app = Flask(__name__)\n",
    "\n",
    "@app.route('/')\n",
    "def index():\n",
    "    # redirect to the about page\n",
    "    return redirect(url_for('about'))\n",
    "\n",
    "@app.route('/about')\n",
    "def about():\n",
    "    return 'This is the about page'\n",
    "\n",
    "if __name__ == '__main__':\n",
    "    app.run()"
   ]
  },
  {
   "cell_type": "markdown",
   "id": "009b3963-1fcb-4071-9938-43676556ce08",
   "metadata": {},
   "source": [
    "In the above example, the 'index()' function redirects the user to the '/about' URL using the 'redirect()' function and the 'url_for()' function, which generates a URL for a given endpoint.\n",
    "\n",
    "In summary, the 'redirect()' function in Flask is used to redirect the user to a different URL, typically in response to a user action or form submission."
   ]
  },
  {
   "cell_type": "markdown",
   "id": "4575158f-e15e-4c43-8815-9c16aee25b97",
   "metadata": {},
   "source": [
    "4)"
   ]
  },
  {
   "cell_type": "markdown",
   "id": "cb1f6f5b-1973-498b-821b-26f55beb0af3",
   "metadata": {},
   "source": [
    "In Flask, templates are used to generate HTML dynamically. A template is a file containing HTML markup with placeholders for dynamic content that can be filled in at runtime.\n",
    "\n",
    "In Flask, the 'render_template()' function is used to render templates. The 'render_template()' function takes the name of the template file as its first argument and any additional arguments as keyword arguments. The additional keyword arguments represent the dynamic content that will be used to fill in the placeholders in the template.\n",
    "\n",
    "Here's an example of using 'render_template()' in Flask:"
   ]
  },
  {
   "cell_type": "code",
   "execution_count": 2,
   "id": "ea36c53a-a26b-41fa-91e7-e3582574b972",
   "metadata": {},
   "outputs": [
    {
     "name": "stdout",
     "output_type": "stream",
     "text": [
      " * Serving Flask app '__main__'\n",
      " * Debug mode: off\n"
     ]
    },
    {
     "name": "stderr",
     "output_type": "stream",
     "text": [
      "WARNING: This is a development server. Do not use it in a production deployment. Use a production WSGI server instead.\n",
      " * Running on http://127.0.0.1:5000\n",
      "Press CTRL+C to quit\n"
     ]
    }
   ],
   "source": [
    "from flask import Flask, render_template\n",
    "\n",
    "app = Flask(__name__)\n",
    "\n",
    "@app.route('/')\n",
    "def index():\n",
    "    # render the index.html template with dynamic content\n",
    "    return render_template('index.html', name='John')\n",
    "\n",
    "if __name__ == '__main__':\n",
    "    app.run()"
   ]
  },
  {
   "cell_type": "markdown",
   "id": "6490552a-1709-479f-9323-99556677ee49",
   "metadata": {},
   "source": [
    "In the above example, the 'index()' function renders the index.html template using the 'render_template()' function. The name variable is passed as a keyword argument to 'render_template()', which can be used in the template to display dynamic content.\n",
    "\n",
    "In summary, templates in Flask are used to generate dynamic HTML content. The 'render_template()' function is used to render templates and fill in the dynamic content."
   ]
  },
  {
   "cell_type": "markdown",
   "id": "0fc81c8e-9cf1-464c-aa3f-fb0a5f22d583",
   "metadata": {},
   "source": [
    "5)"
   ]
  },
  {
   "cell_type": "code",
   "execution_count": 3,
   "id": "cdb58956-234f-46fa-8611-ff0d06c36cb8",
   "metadata": {},
   "outputs": [
    {
     "name": "stdout",
     "output_type": "stream",
     "text": [
      " * Serving Flask app '__main__'\n",
      " * Debug mode: on\n"
     ]
    },
    {
     "name": "stderr",
     "output_type": "stream",
     "text": [
      "WARNING: This is a development server. Do not use it in a production deployment. Use a production WSGI server instead.\n",
      " * Running on http://127.0.0.1:5000\n",
      "Press CTRL+C to quit\n",
      " * Restarting with stat\n",
      "Traceback (most recent call last):\n",
      "  File \"/opt/conda/lib/python3.10/site-packages/ipykernel_launcher.py\", line 17, in <module>\n",
      "    app.launch_new_instance()\n",
      "  File \"/opt/conda/lib/python3.10/site-packages/traitlets/config/application.py\", line 991, in launch_instance\n",
      "    app.initialize(argv)\n",
      "  File \"/opt/conda/lib/python3.10/site-packages/traitlets/config/application.py\", line 113, in inner\n",
      "    return method(app, *args, **kwargs)\n",
      "  File \"/opt/conda/lib/python3.10/site-packages/ipykernel/kernelapp.py\", line 665, in initialize\n",
      "    self.init_sockets()\n",
      "  File \"/opt/conda/lib/python3.10/site-packages/ipykernel/kernelapp.py\", line 309, in init_sockets\n",
      "    self.shell_port = self._bind_socket(self.shell_socket, self.shell_port)\n",
      "  File \"/opt/conda/lib/python3.10/site-packages/ipykernel/kernelapp.py\", line 246, in _bind_socket\n",
      "    return self._try_bind_socket(s, port)\n",
      "  File \"/opt/conda/lib/python3.10/site-packages/ipykernel/kernelapp.py\", line 222, in _try_bind_socket\n",
      "    s.bind(\"tcp://%s:%i\" % (self.ip, port))\n",
      "  File \"/opt/conda/lib/python3.10/site-packages/zmq/sugar/socket.py\", line 232, in bind\n",
      "    super().bind(addr)\n",
      "  File \"zmq/backend/cython/socket.pyx\", line 568, in zmq.backend.cython.socket.Socket.bind\n",
      "  File \"zmq/backend/cython/checkrc.pxd\", line 28, in zmq.backend.cython.checkrc._check_rc\n",
      "zmq.error.ZMQError: Address already in use\n"
     ]
    },
    {
     "ename": "SystemExit",
     "evalue": "1",
     "output_type": "error",
     "traceback": [
      "An exception has occurred, use %tb to see the full traceback.\n",
      "\u001b[0;31mSystemExit\u001b[0m\u001b[0;31m:\u001b[0m 1\n"
     ]
    },
    {
     "name": "stderr",
     "output_type": "stream",
     "text": [
      "/opt/conda/lib/python3.10/site-packages/IPython/core/interactiveshell.py:3441: UserWarning: To exit: use 'exit', 'quit', or Ctrl-D.\n",
      "  warn(\"To exit: use 'exit', 'quit', or Ctrl-D.\", stacklevel=1)\n"
     ]
    }
   ],
   "source": [
    "from flask import Flask, jsonify, request\n",
    "\n",
    "app = Flask(__name__)\n",
    "\n",
    "# define a simple endpoint\n",
    "@app.route('/hello', methods=['GET'])\n",
    "def hello():\n",
    "    return jsonify({'message': 'Hello, World!'})\n",
    "\n",
    "# define an endpoint that accepts POST requests\n",
    "@app.route('/greet', methods=['POST'])\n",
    "def greet():\n",
    "    # get the request data\n",
    "    data = request.json\n",
    "    name = data['name']\n",
    "    greeting = f\"Hello, {name}!\"\n",
    "    return jsonify({'message': greeting})\n",
    "\n",
    "if __name__ == '__main__':\n",
    "    app.run(debug=True)"
   ]
  },
  {
   "cell_type": "code",
   "execution_count": null,
   "id": "ee6136f8-e71c-408b-92d4-a6cf899658f7",
   "metadata": {},
   "outputs": [],
   "source": []
  }
 ],
 "metadata": {
  "kernelspec": {
   "display_name": "Python 3 (ipykernel)",
   "language": "python",
   "name": "python3"
  },
  "language_info": {
   "codemirror_mode": {
    "name": "ipython",
    "version": 3
   },
   "file_extension": ".py",
   "mimetype": "text/x-python",
   "name": "python",
   "nbconvert_exporter": "python",
   "pygments_lexer": "ipython3",
   "version": "3.10.8"
  }
 },
 "nbformat": 4,
 "nbformat_minor": 5
}
