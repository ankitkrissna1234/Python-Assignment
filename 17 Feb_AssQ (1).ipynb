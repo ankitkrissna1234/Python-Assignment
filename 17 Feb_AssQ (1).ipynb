{
 "cells": [
  {
   "cell_type": "markdown",
   "id": "8b1b13bd-b4f4-4062-81bf-7fb3ca0f7226",
   "metadata": {},
   "source": [
    "1)"
   ]
  },
  {
   "cell_type": "markdown",
   "id": "b12cbc94-5500-4ebe-96ca-52f0401f23de",
   "metadata": {},
   "source": [
    "MongoDB is a popular document-oriented NoSQL database that is designed to handle large amounts of unstructured or semi-structured data. Unlike traditional SQL databases, which store data in tables and rows, MongoDB stores data in collections of documents, which are similar to JSON objects.\n",
    "\n",
    "Non-relational databases, also known as NoSQL databases, are a class of databases that do not follow the traditional relational database model. Unlike relational databases, which use structured data models, NoSQL databases can handle unstructured and semi-structured data, making them ideal for scenarios where data is dynamic and constantly changing."
   ]
  },
  {
   "cell_type": "markdown",
   "id": "2ac27ba1-fbf2-4a18-a001-9850bb753187",
   "metadata": {},
   "source": [
    "There are several scenarios where MongoDB may be preferred over SQL databases. For example:\n",
    "\n",
    "i)   Handling large amounts of unstructured data: MongoDB is designed to handle large amounts of unstructured data, which makes it an ideal choice for scenarios where data is not easily organized into tables.\n",
    "\n",
    "ii)  High scalability and availability: MongoDB can be easily scaled horizontally to handle large volumes of data and can also be deployed across multiple servers for high availability.\n",
    "\n",
    "iii) Faster development cycles: MongoDB's flexible data model allows for faster development cycles as it can quickly adapt to changes in data structures.\n",
    "\n",
    "iv) Support for geospatial data: MongoDB has built-in support for geospatial data and provides powerful geospatial queries and indexing capabilities."
   ]
  },
  {
   "cell_type": "markdown",
   "id": "aa485f25-7a29-482b-9f96-d501ef0a0ab6",
   "metadata": {},
   "source": [
    "In summary, MongoDB is a non-relational database that is designed to handle large amounts of unstructured data and is ideal for scenarios where scalability, availability, and flexibility are essential."
   ]
  },
  {
   "cell_type": "markdown",
   "id": "20b746f7-db88-4089-9dea-276977b229a1",
   "metadata": {},
   "source": [
    "2)"
   ]
  },
  {
   "cell_type": "markdown",
   "id": "35bb731f-318e-4a73-a373-2bb264b6748b",
   "metadata": {},
   "source": [
    "MongoDB is a popular document-oriented NoSQL database that comes with a variety of features that make it a powerful and flexible tool for handling large amounts of unstructured data. Below are some of the key features of MongoDB:\n",
    "\n",
    "i)   Flexible data model: MongoDB has a flexible document-based data model that can store data in a variety of formats, including key-value pairs, arrays, and nested documents. This makes it easy to handle complex and dynamic data structures.\n",
    "\n",
    "ii)  Dynamic schema: Unlike traditional SQL databases, MongoDB does not require a predefined schema or data model. This means that developers can easily add, modify or remove fields from their documents without having to alter the schema of the database.\n",
    "\n",
    "iii) High scalability: MongoDB can be scaled horizontally by adding more servers to handle large amounts of data. This is done through sharding, which partitions the data across multiple servers.\n",
    "\n",
    "iv)  High availability: MongoDB provides high availability through replica sets, which are copies of the database running on different servers. If one server fails, another server can take over and continue serving requests.\n",
    "\n",
    "v)   Powerful query language: MongoDB provides a rich query language that supports a wide range of queries, including geospatial queries, text searches, and aggregation queries.\n",
    "\n",
    "vi)  Indexing: MongoDB supports various indexing strategies to help improve query performance, including compound indexes, geospatial indexes, and text indexes.\n",
    "\n",
    "vii) Security: MongoDB provides several security features, including access control, authentication, and encryption, to help protect sensitive data.\n",
    "\n",
    "In summary, MongoDB's flexible data model, dynamic schema, scalability, high availability, powerful query language, indexing, and security features make it a popular choice for handling large amounts of unstructured data in modern applications."
   ]
  },
  {
   "cell_type": "markdown",
   "id": "9190ca57-c735-45a0-ae6a-ac694fd8c839",
   "metadata": {},
   "source": [
    "3)"
   ]
  },
  {
   "cell_type": "markdown",
   "id": "c97b2723-11ca-4978-9811-5b21404daaca",
   "metadata": {},
   "source": [
    "To connect MongoDB to Python, we can use the PyMongo library, which is the official Python driver for MongoDB. Here's an example code snippet that shows how to connect to MongoDB and create a database and a collection:"
   ]
  },
  {
   "cell_type": "code",
   "execution_count": 6,
   "id": "1c7cd8da-4882-4fe1-8d4d-3a4829bbbfbb",
   "metadata": {},
   "outputs": [],
   "source": [
    "import pymongo\n",
    "\n",
    "# Connect to MongoDB server\n",
    "client = pymongo.MongoClient(\"mongodb://localhost:27017/\")\n",
    "\n",
    "# Create a database\n",
    "mydb = client[\"mydatabase\"]\n",
    "\n",
    "# Create a collection\n",
    "mycol = mydb[\"customers\"]"
   ]
  },
  {
   "cell_type": "markdown",
   "id": "07065115-33bf-4a83-8eb9-6d9bc1d329dc",
   "metadata": {},
   "source": [
    "In this example, we first import the PyMongo library. We then connect to a MongoDB server running on the local machine using the 'MongoClient' object. The '27017' is the default port used by MongoDB. If you are using a different port number or a remote server, you can replace 'localhost:27017' with the appropriate server address.\n",
    "\n",
    "We then create a new database named \"mydatabase\" using the 'client[\"mydatabase\"]' command. Finally, we create a new collection named \"customers\" using the 'mydb[\"customers\"]' command.\n",
    "\n",
    "Once the database and collection are created, we can use the PyMongo library to perform various operations on the collection, such as inserting, updating, and querying documents."
   ]
  },
  {
   "cell_type": "markdown",
   "id": "057c0311-a325-4fd8-a701-f0c2f35445b4",
   "metadata": {},
   "source": [
    "4)"
   ]
  },
  {
   "cell_type": "code",
   "execution_count": null,
   "id": "7396e748-448f-4d17-b4ea-f7287565dbfe",
   "metadata": {},
   "outputs": [],
   "source": [
    "import pymongo\n",
    "\n",
    "# Connect to MongoDB server\n",
    "client = pymongo.MongoClient(\"mongodb://localhost:27017/\")\n",
    "\n",
    "# Create a database\n",
    "mydb = client[\"mydatabase\"]\n",
    "\n",
    "# Create a collection\n",
    "mycol = mydb[\"customers\"]\n",
    "\n",
    "# Insert one record\n",
    "mydict = { \"name\": \"John\", \"address\": \"Highway 37\" }\n",
    "x = mycol.insert_one(mydict)\n",
    "\n",
    "# Insert multiple records\n",
    "mylist = [\n",
    "  { \"name\": \"Amy\", \"address\": \"Apple st 652\" },\n",
    "  { \"name\": \"Hannah\", \"address\": \"Mountain 21\" },\n",
    "  { \"name\": \"Michael\", \"address\": \"Valley 345\" },\n",
    "  { \"name\": \"Sandy\", \"address\": \"Ocean blvd 2\" },\n",
    "  { \"name\": \"Betty\", \"address\": \"Green Grass 1\" },\n",
    "  { \"name\": \"Richard\", \"address\": \"Sky st 331\" },\n",
    "  { \"name\": \"Susan\", \"address\": \"One way 98\" },\n",
    "  { \"name\": \"Vicky\", \"address\": \"Yellow Garden 2\" },\n",
    "  { \"name\": \"Ben\", \"address\": \"Park Lane 38\" },\n",
    "  { \"name\": \"William\", \"address\": \"Central st 954\" },\n",
    "  { \"name\": \"Chuck\", \"address\": \"Main Road 989\" },\n",
    "  { \"name\": \"Viola\", \"address\": \"Sideway 1633\" }\n",
    "]\n",
    "x = mycol.insert_many(mylist)\n",
    "\n",
    "# Retrieve one record using find_one()\n",
    "x = mycol.find_one()\n",
    "print(x)\n",
    "\n",
    "# Retrieve all records using find()\n",
    "for x in mycol.find():\n",
    "  print(x)"
   ]
  },
  {
   "cell_type": "markdown",
   "id": "eead4845-0291-4bcd-a02e-456470112649",
   "metadata": {},
   "source": [
    "In this example, we first connect to the MongoDB server and create a database and a collection using the code from question 3.\n",
    "\n",
    "We then insert one record into the collection using the 'insert_one()' method and insert multiple records using the 'insert_many()' method.\n",
    "\n",
    "We use the 'find_one(') method to retrieve one record from the collection and print it to the console. We also use the 'find()' method to retrieve all records from the collection and print them to the console using a loop."
   ]
  },
  {
   "cell_type": "markdown",
   "id": "795244a6-7797-4bb0-b183-5ebf6925abab",
   "metadata": {},
   "source": [
    "5)"
   ]
  },
  {
   "cell_type": "markdown",
   "id": "60de8f4a-c859-4bcb-81ce-8fa212fb74d0",
   "metadata": {},
   "source": [
    "The 'find()' method in MongoDB is used to query a collection and retrieve documents that match a specified set of criteria. The 'find()' method returns a cursor object that can be iterated to retrieve the matching documents."
   ]
  },
  {
   "cell_type": "markdown",
   "id": "84587352-0830-4873-b507-5c8e874bfd8b",
   "metadata": {},
   "source": [
    "Here's an example code snippet that demonstrates how to use the 'find()' method to query a MongoDB database:"
   ]
  },
  {
   "cell_type": "code",
   "execution_count": null,
   "id": "26696c8b-0afa-4ee3-b6b9-e085ae394458",
   "metadata": {},
   "outputs": [],
   "source": [
    "import pymongo\n",
    "\n",
    "# Connect to MongoDB server\n",
    "client = pymongo.MongoClient(\"mongodb://localhost:27017/\")\n",
    "\n",
    "# Create a database\n",
    "mydb = client[\"mydatabase\"]\n",
    "\n",
    "# Create a collection\n",
    "mycol = mydb[\"customers\"]\n",
    "\n",
    "# Query the collection using the find() method\n",
    "myquery = { \"address\": \"Park Lane 38\" }\n",
    "mydocs = mycol.find(myquery)\n",
    "\n",
    "# Print the matching documents\n",
    "for doc in mydocs:\n",
    "    print(doc)"
   ]
  },
  {
   "cell_type": "markdown",
   "id": "26921147-b49c-4952-859f-b66a139733a1",
   "metadata": {},
   "source": [
    "In this example, we first connect to the MongoDB server and create a database and a collection using the code from question 3.\n",
    "\n",
    "We then define a query using a Python dictionary that specifies the criteria for selecting documents from the collection. In this case, we are selecting documents where the \"address\" field is equal to \"Park Lane 38\".\n",
    "\n",
    "We then use the 'find()' method to query the collection using the specified criteria. The 'find()' method returns a cursor object that we can iterate over to retrieve the matching documents.\n",
    "\n",
    "Finally, we use a loop to iterate over the cursor object and print each matching document to the console."
   ]
  },
  {
   "cell_type": "markdown",
   "id": "f9268738-be62-4c30-b5f6-0acbf254c536",
   "metadata": {},
   "source": [
    "6)"
   ]
  },
  {
   "cell_type": "markdown",
   "id": "80c66fae-ec43-484d-9609-7c0fa9fd599b",
   "metadata": {},
   "source": [
    "The 'sort() 'method in MongoDB is used to sort the documents in a collection based on one or more fields. The 'sort()' method takes a dictionary that specifies the field(s) to sort on and the direction of the sorting (ascending or descending).\n",
    "\n",
    "Here's an example code snippet that demonstrates how to use the 'sort()' method to sort documents in a MongoDB collection:"
   ]
  },
  {
   "cell_type": "code",
   "execution_count": null,
   "id": "144ec25a-a3c5-4d78-90ab-17c86ca126fc",
   "metadata": {},
   "outputs": [],
   "source": [
    "import pymongo\n",
    "\n",
    "# Connect to MongoDB server\n",
    "client = pymongo.MongoClient(\"mongodb://localhost:27017/\")\n",
    "\n",
    "# Create a database\n",
    "mydb = client[\"mydatabase\"]\n",
    "\n",
    "# Create a collection\n",
    "mycol = mydb[\"customers\"]\n",
    "\n",
    "# Sort the collection using the sort() method\n",
    "mydocs = mycol.find().sort(\"name\")\n",
    "\n",
    "# Print the sorted documents\n",
    "for doc in mydocs:\n",
    "    print(doc)"
   ]
  },
  {
   "cell_type": "markdown",
   "id": "81b9241f-17e1-42f5-aa99-ace907164a39",
   "metadata": {},
   "source": [
    "In this example, we first connect to the MongoDB server and create a database and a collection using the code from question 3.\n",
    "\n",
    "We then use the 'find()' method to retrieve all documents from the collection and sort them by the \"name\" field using the 'sort()' method.\n",
    "\n",
    "The 'sort()' method sorts the documents in ascending order by default. To sort in descending order, we can specify a value of -1 for the field in the sort dictionary. For example, 'mydocs = mycol.find().sort(\"name\", -1)' would sort the documents in descending order by the \"name\" field.\n",
    "\n",
    "Finally, we use a loop to iterate over the cursor object and print each sorted document to the console."
   ]
  },
  {
   "cell_type": "markdown",
   "id": "086fbe44-4224-415f-a215-5fd7529ed2d0",
   "metadata": {},
   "source": [
    "7)"
   ]
  },
  {
   "cell_type": "markdown",
   "id": "3990a5a2-fe0e-44bf-8f9a-f4e944564707",
   "metadata": {},
   "source": [
    "In MongoDB, there are several methods for deleting data from a collection. The 'delete_one()' method is used to delete a single document that matches a specified filter. The 'delete_many()' method is used to delete multiple documents that match a specified filter. 'The drop()' method is used to drop an entire collection from a database.\n",
    "\n",
    "Here's a brief explanation of when to use each of these methods:\n",
    "\n",
    "i) 'delete_one()': Use this method when you want to delete a single document from a collection that matches a specific filter. For example, if you want to delete a single customer from a collection based on their email address, you could use 'mycol.delete_one({\"email\": \"example@example.com\"})'.\n",
    "\n",
    "ii) 'delete_many()': Use this method when you want to delete multiple documents from a collection that match a specific filter. For example, if you want to delete all customers from a collection who have a status of \"inactive\", you could use 'mycol.delete_many({\"status\": \"inactive\"})'.\n",
    "\n",
    "iii) 'drop()': Use this method when you want to delete an entire collection from a database. This method permanently removes all documents and indexes in the collection, so use it with caution. For example, if you want to delete a collection called \"customers\", you could use 'mydb.customers.drop()'.\n",
    "\n",
    "It's important to note that these methods permanently delete data from a collection or database, so it's important to use them with caution and always double-check that you're deleting the correct data."
   ]
  }
 ],
 "metadata": {
  "kernelspec": {
   "display_name": "Python 3 (ipykernel)",
   "language": "python",
   "name": "python3"
  },
  "language_info": {
   "codemirror_mode": {
    "name": "ipython",
    "version": 3
   },
   "file_extension": ".py",
   "mimetype": "text/x-python",
   "name": "python",
   "nbconvert_exporter": "python",
   "pygments_lexer": "ipython3",
   "version": "3.10.8"
  }
 },
 "nbformat": 4,
 "nbformat_minor": 5
}
