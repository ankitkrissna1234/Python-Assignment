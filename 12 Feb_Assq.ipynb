{
 "cells": [
  {
   "cell_type": "markdown",
   "id": "66381ae4-17fa-4b00-9b72-652bad356ecd",
   "metadata": {},
   "source": [
    "1)"
   ]
  },
  {
   "cell_type": "markdown",
   "id": "f3d2e8ab-9be1-4552-874d-16b1e8b87847",
   "metadata": {},
   "source": [
    "In Python, an exception is an error that occurs during the execution of a program that interrupts the normal flow of the program's instructions. When an exception occurs, Python creates an exception object, which contains information about the error, such as its type and message.\n",
    "\n",
    "A syntax error, on the other hand, is a type of error that occurs when there is a mistake in the syntax of a program. This can happen if there is a missing or misplaced bracket, or if a variable is misspelled, for example. A syntax error prevents the program from running at all, as the Python interpreter is unable to understand the code.\n",
    "\n",
    "The main difference between an exception and a syntax error is that a syntax error occurs during the parsing of the code, before the program is executed, while an exception occurs during the execution of the program. Syntax errors are usually caused by mistakes in the code itself, while exceptions are often caused by unexpected situations that occur during the execution of the program, such as a file not being found or a division by zero. Unlike syntax errors, which prevent the program from running at all, exceptions can be caught and handled by the program, allowing it to continue running."
   ]
  },
  {
   "cell_type": "markdown",
   "id": "9bc92dbc-68e4-456b-a272-51a2f36225d6",
   "metadata": {},
   "source": [
    "2)"
   ]
  },
  {
   "cell_type": "markdown",
   "id": "a43226a5-f768-4d7b-a5d3-29762c44e97f",
   "metadata": {},
   "source": [
    "When an exception is not handled in Python, the program terminates abruptly and displays a traceback message that shows the type of exception that occurred, the location in the code where the exception occurred, and the call stack of the program up to the point where the exception occurred. This can make it difficult to understand what went wrong and where in the code the error occurred."
   ]
  },
  {
   "cell_type": "markdown",
   "id": "7fc7674a-0517-42f2-8829-67280d7c8be0",
   "metadata": {},
   "source": [
    "Here's an example to demonstrate what happens when an exception is not handled:"
   ]
  },
  {
   "cell_type": "code",
   "execution_count": 1,
   "id": "b3a784a2-3867-4610-8292-2298684f7a06",
   "metadata": {},
   "outputs": [
    {
     "ename": "ZeroDivisionError",
     "evalue": "division by zero",
     "output_type": "error",
     "traceback": [
      "\u001b[0;31m---------------------------------------------------------------------------\u001b[0m",
      "\u001b[0;31mZeroDivisionError\u001b[0m                         Traceback (most recent call last)",
      "Cell \u001b[0;32mIn[1], line 3\u001b[0m\n\u001b[1;32m      1\u001b[0m num1 \u001b[38;5;241m=\u001b[39m \u001b[38;5;241m10\u001b[39m\n\u001b[1;32m      2\u001b[0m num2 \u001b[38;5;241m=\u001b[39m \u001b[38;5;241m0\u001b[39m\n\u001b[0;32m----> 3\u001b[0m result \u001b[38;5;241m=\u001b[39m \u001b[43mnum1\u001b[49m\u001b[43m \u001b[49m\u001b[38;5;241;43m/\u001b[39;49m\u001b[43m \u001b[49m\u001b[43mnum2\u001b[49m\n\u001b[1;32m      4\u001b[0m \u001b[38;5;28mprint\u001b[39m(result)\n",
      "\u001b[0;31mZeroDivisionError\u001b[0m: division by zero"
     ]
    }
   ],
   "source": [
    "num1 = 10\n",
    "num2 = 0\n",
    "result = num1 / num2\n",
    "print(result)"
   ]
  },
  {
   "cell_type": "markdown",
   "id": "3aac8647-3d89-4f46-95b2-18e8ca10a7d8",
   "metadata": {},
   "source": [
    "In this code, we are trying to divide the number 10 by 0, which is not allowed in Python and will raise a ZeroDivisionError exception. Since we haven't provided any code to handle this exception, the program will terminate"
   ]
  },
  {
   "cell_type": "markdown",
   "id": "1bc25b23-f996-40ad-a099-ccd5aca371ff",
   "metadata": {},
   "source": [
    "As you can see, the traceback message shows the location of the error (File \"test.py\", line 3) and the type of exception (ZeroDivisionError). This information can be useful in debugging the program, but it doesn't provide any way to recover from the error and continue running the program. To handle this exception, we could use a try-except block, like this:"
   ]
  },
  {
   "cell_type": "code",
   "execution_count": 6,
   "id": "992c80ad-f2fa-4b30-8905-685b3be74d1a",
   "metadata": {},
   "outputs": [
    {
     "name": "stdout",
     "output_type": "stream",
     "text": [
      "This is my error division by zero\n"
     ]
    }
   ],
   "source": [
    "num1 = 10\n",
    "num2 = 0\n",
    "try:\n",
    "    result = num1 / num2\n",
    "except ZeroDivisionError as e:\n",
    "    print(\"This is my error\",e)"
   ]
  },
  {
   "cell_type": "markdown",
   "id": "4cb376e3-71db-41a1-8be3-fd55c5764e3d",
   "metadata": {},
   "source": [
    "In this code, we have enclosed the division operation inside a try block, and provided an except block to handle the ZeroDivisionError exception. If the exception occurs, the except block will be executed, and the program will print the message \"Cannot divide by zero\" instead of terminating abruptly. This allows the program to continue running and handle the exception in a more controlled way."
   ]
  },
  {
   "cell_type": "markdown",
   "id": "3762178b-329d-45c4-8355-55ab4784f706",
   "metadata": {},
   "source": [
    "3)"
   ]
  },
  {
   "cell_type": "markdown",
   "id": "2f342f15-0a02-463b-a515-7e76dfdddc21",
   "metadata": {},
   "source": [
    "In Python, the 'try' statement is used to catch and handle exceptions. The 'try' statement allows you to define a block of code that may raise an exception, and provides a way to catch the exception and handle it in a specific way."
   ]
  },
  {
   "cell_type": "markdown",
   "id": "87b4f1de-e6f7-47c2-a737-0d97d1834a88",
   "metadata": {},
   "source": [
    "The basic syntax of a 'try' statement is as follows:"
   ]
  },
  {
   "cell_type": "markdown",
   "id": "28c50889-8591-47cb-8fad-8bdb8e166f1c",
   "metadata": {},
   "source": [
    "try:                                                                                             \n",
    "    # code that may raise an exception                                                           \n",
    "except <exception_type>:                                                                         \n",
    "    # code to handle the exception\n"
   ]
  },
  {
   "cell_type": "markdown",
   "id": "2998ac83-5f59-4944-8ae7-ed978c512e03",
   "metadata": {},
   "source": [
    "In this syntax, the code inside the 'try' block is executed first. If an exception occurs while executing this code, Python looks for an 'except' block that matches the type of the exception. If a matching 'except' block is found, the code inside that block is executed to handle the exception. If no matching 'except' block is found, the exception is passed up to the calling code or terminates the program."
   ]
  },
  {
   "cell_type": "markdown",
   "id": "4b38bbf3-7e27-44de-9ebc-99dc0c47e0dc",
   "metadata": {},
   "source": [
    "Here's an example to illustrate how to use a 'try' statement to catch and handle an exception:"
   ]
  },
  {
   "cell_type": "code",
   "execution_count": 8,
   "id": "ea57aa62-a17b-4d25-af6e-de001d94e184",
   "metadata": {},
   "outputs": [
    {
     "name": "stdin",
     "output_type": "stream",
     "text": [
      "Enter a number:  56\n",
      "Enter another number:  0\n"
     ]
    },
    {
     "name": "stdout",
     "output_type": "stream",
     "text": [
      "Cannot divide by zero\n"
     ]
    }
   ],
   "source": [
    "try:\n",
    "    num1 = int(input(\"Enter a number: \"))\n",
    "    num2 = int(input(\"Enter another number: \"))\n",
    "    result = num1 / num2\n",
    "    print(\"The result is:\", result)\n",
    "except ValueError:\n",
    "    print(\"Please enter a valid integer\")\n",
    "except ZeroDivisionError:\n",
    "    print(\"Cannot divide by zero\")"
   ]
  },
  {
   "cell_type": "markdown",
   "id": "9f38106c-119c-478d-9cb6-97335db37d21",
   "metadata": {},
   "source": [
    "In this code, we are asking the user to enter two numbers and performing a division operation. Since the user input is in string format, we need to convert it to an integer using the 'int()' function. If the user enters a non-integer value, a 'ValueError' exception will be raised, and the code inside the first 'except' block will be executed to handle the exception. If the user enters a value of '0' for the second number, a 'ZeroDivisionError' exception will be raised, and the code inside the second 'except' block will be executed to handle the exception.\n",
    "\n",
    "Using a 'try' statement allows us to handle exceptions in a controlled way and prevent the program from crashing due to unexpected errors."
   ]
  },
  {
   "cell_type": "markdown",
   "id": "ef7f729a-2a6f-4b78-b757-4b1b90adaa74",
   "metadata": {},
   "source": [
    "4) a)"
   ]
  },
  {
   "cell_type": "markdown",
   "id": "32810587-aae4-4c3f-8d7f-57ca1a11b4bf",
   "metadata": {},
   "source": [
    "In Python, the 'try'/'except'/'else' statement is used to handle exceptions in a controlled way and execute specific code based on whether an exception was raised or not.\n",
    "\n",
    "The basic syntax of a 'try'/'except'/'else' statement is as follows:"
   ]
  },
  {
   "cell_type": "markdown",
   "id": "54b66c13-dd1d-4879-807d-332969a3bb7f",
   "metadata": {},
   "source": [
    "try:                                                                                             \n",
    "    # code that may raise an exception                                                           \n",
    "except <exception_type>:                                                                         \n",
    "    # code to handle the exception                                                               \n",
    "else:                                                                                             \n",
    "    # code to execute if no exception is raised                                                   "
   ]
  },
  {
   "cell_type": "markdown",
   "id": "01e6c255-9370-47a8-918c-7172d0c5e3f8",
   "metadata": {},
   "source": [
    "In this syntax, the code inside the 'try' block is executed first. If an exception occurs while executing this code, Python looks for an 'except' block that matches the type of the exception. If a matching 'except' block is found, the code inside that block is executed to handle the exception. If no exception is raised, the code inside the 'else' block is executed.\n",
    "\n",
    "Here's an example to illustrate how to use a 'try'/'except'/'else' statement:"
   ]
  },
  {
   "cell_type": "code",
   "execution_count": 9,
   "id": "f64987e7-3a65-4c89-9505-85dbcce786f6",
   "metadata": {},
   "outputs": [
    {
     "name": "stdin",
     "output_type": "stream",
     "text": [
      "Enter a number:  44\n",
      "Enter another number:  ii\n"
     ]
    },
    {
     "name": "stdout",
     "output_type": "stream",
     "text": [
      "Please enter a valid integer\n"
     ]
    }
   ],
   "source": [
    "try:\n",
    "    num1 = int(input(\"Enter a number: \"))\n",
    "    num2 = int(input(\"Enter another number: \"))\n",
    "    result = num1 / num2\n",
    "except ValueError:\n",
    "    print(\"Please enter a valid integer\")\n",
    "except ZeroDivisionError:\n",
    "    print(\"Cannot divide by zero\")\n",
    "else:\n",
    "    print(\"The result is:\", result)"
   ]
  },
  {
   "cell_type": "markdown",
   "id": "ef989b41-bedf-4a78-8b4e-d63aabd332a2",
   "metadata": {},
   "source": [
    "In this code, we are asking the user to enter two numbers and performing a division operation. If the user enters a non-integer value, a 'ValueError' exception will be raised, and the code inside the first 'except' block will be executed to handle the exception. If the user enters a value of '0' for the second number, a 'ZeroDivisionError' exception will be raised, and the code inside the second 'except' block will be executed to handle the exception. If no exception is raised, the code inside the 'else' block will be executed to print the result of the division operation.\n",
    "\n",
    "Using a 'try'/'except'/'else' statement allows us to handle exceptions in a controlled way and execute specific code based on whether an exception was raised or not. This can be particularly useful in cases where we want to perform a specific action only if no exceptions are raised, such as printing out the result of a calculation or closing a file."
   ]
  },
  {
   "cell_type": "markdown",
   "id": "f426782a-9bf1-4d3d-9f4d-49f8652a25b5",
   "metadata": {},
   "source": [
    "b)"
   ]
  },
  {
   "cell_type": "markdown",
   "id": "b48f0c3c-3c3f-49f7-88a3-405256031b13",
   "metadata": {},
   "source": [
    "In Python, the 'finally' block is used to define a section of code that should always be executed, regardless of whether an exception was raised or not. This block is often used to perform some sort of cleanup or finalization action, such as closing a file or releasing a resource."
   ]
  },
  {
   "cell_type": "markdown",
   "id": "d8a09f50-f7b4-48b6-b2ce-90a70173c028",
   "metadata": {},
   "source": [
    "The basic syntax of a 'try'/'except'/'finally' statement is as follows:"
   ]
  },
  {
   "cell_type": "markdown",
   "id": "d6d3deef-be37-4a05-aec2-e8b1e74d6638",
   "metadata": {},
   "source": [
    "try:                                                                                             \n",
    "    # code that may raise an exception                                                           \n",
    "except <exception_type>:                                                                         \n",
    "    # code to handle the exception                                                               \n",
    "finally:                                                                                         \n",
    "    # code to execute always, whether an exception was raised or not                             "
   ]
  },
  {
   "cell_type": "markdown",
   "id": "be7b93e9-9f1a-4b8f-ae85-7b0971c8619b",
   "metadata": {},
   "source": [
    "In this syntax, the code inside the 'try' block is executed first. If an exception occurs while executing this code, Python looks for an 'except' block that matches the type of the exception. If a matching 'except' block is found, the code inside that block is executed to handle the exception. Regardless of whether an exception was raised or not, the code inside the 'finally' block is executed afterwards.\n",
    "\n",
    "Here's an example to illustrate how to use a 'try'/'except'/'finally' statement:"
   ]
  },
  {
   "cell_type": "code",
   "execution_count": 16,
   "id": "b8315aa7-e587-42e3-a18a-3c29a3a8fc7b",
   "metadata": {},
   "outputs": [
    {
     "name": "stdout",
     "output_type": "stream",
     "text": [
      "Could not read file\n"
     ]
    },
    {
     "ename": "NameError",
     "evalue": "name 'file' is not defined",
     "output_type": "error",
     "traceback": [
      "\u001b[0;31m---------------------------------------------------------------------------\u001b[0m",
      "\u001b[0;31mNameError\u001b[0m                                 Traceback (most recent call last)",
      "Cell \u001b[0;32mIn[16], line 8\u001b[0m\n\u001b[1;32m      6\u001b[0m     \u001b[38;5;28mprint\u001b[39m(\u001b[38;5;124m\"\u001b[39m\u001b[38;5;124mCould not read file\u001b[39m\u001b[38;5;124m\"\u001b[39m)\n\u001b[1;32m      7\u001b[0m \u001b[38;5;28;01mfinally\u001b[39;00m:\n\u001b[0;32m----> 8\u001b[0m     \u001b[43mfile\u001b[49m\u001b[38;5;241m.\u001b[39mclose()\n",
      "\u001b[0;31mNameError\u001b[0m: name 'file' is not defined"
     ]
    }
   ],
   "source": [
    "try:\n",
    "    file = open(\"example.txt\", \"r\")\n",
    "    data = file.read()\n",
    "    print(data)\n",
    "except IOError:\n",
    "    print(\"Could not read file\")\n",
    "finally:\n",
    "    file.close()"
   ]
  },
  {
   "cell_type": "markdown",
   "id": "20a5d0d7-b08e-47fa-b998-50110ad640a7",
   "metadata": {},
   "source": [
    "In this code, we are trying to open a file called 'example.txt', read its contents, and print them to the console. If an 'IOError' exception occurs (e.g. if the file does not exist), the code inside the 'except' block will be executed to handle the exception. Regardless of whether an exception was raised or not, the code inside the 'finally' block will be executed to close the file and release any resources associated with it.\n",
    "\n",
    "Using a 'try'/'except'/'finally' statement allows us to handle exceptions in a controlled way and ensure that important cleanup actions are always performed, even in cases where an exception was raised."
   ]
  },
  {
   "cell_type": "markdown",
   "id": "2e59e48f-c1d0-4853-9c61-bf2c422e75ac",
   "metadata": {},
   "source": [
    "c)"
   ]
  },
  {
   "cell_type": "markdown",
   "id": "f75ea99f-8afb-4163-97c6-daf75d4e7ca0",
   "metadata": {},
   "source": [
    "In Python, the 'raise' keyword is used to raise an exception explicitly in your code. You may use this when you need to handle a particular exception case or signal an error.\n",
    "\n",
    "Here's an example:"
   ]
  },
  {
   "cell_type": "code",
   "execution_count": 17,
   "id": "f25dff0d-115c-4340-a0d5-d3bb82cc282e",
   "metadata": {},
   "outputs": [
    {
     "name": "stdout",
     "output_type": "stream",
     "text": [
      "An error occurred: Division by zero is not allowed\n"
     ]
    }
   ],
   "source": [
    "def divide_by_zero(num1, num2):\n",
    "    if num2 == 0:\n",
    "        raise ZeroDivisionError(\"Division by zero is not allowed\")\n",
    "    return num1 / num2\n",
    "\n",
    "try:\n",
    "    result = divide_by_zero(10, 0)\n",
    "    print(result)\n",
    "except ZeroDivisionError as e:\n",
    "    print(f\"An error occurred: {e}\")"
   ]
  },
  {
   "cell_type": "markdown",
   "id": "e518b639-25db-45e1-a48a-23c6d16c05ce",
   "metadata": {},
   "source": [
    "In this example, we define a function 'divide_by_zero()' that takes two arguments 'num1' and 'num2' and performs a division operation between the two. If the second argument 'num2' is '0', we raise a 'ZeroDivisionError' with a custom message.\n",
    "\n",
    "We then try to call 'divide_by_zero()' with the arguments '10' and '0', which will raise a 'ZeroDivisionError'. This exception is caught by the except block, where we print out the error message.\n",
    "\n",
    "Using the 'raise' keyword can be helpful in signaling specific error cases, as well as providing more context and information about the error."
   ]
  },
  {
   "cell_type": "markdown",
   "id": "7fec8153-cf7c-427c-90a9-2f4a467c0d08",
   "metadata": {},
   "source": [
    "5)"
   ]
  },
  {
   "cell_type": "markdown",
   "id": "37ba9c2e-b3f0-4097-a179-46898e13a0d0",
   "metadata": {},
   "source": [
    "In Python, you can create your own custom exceptions to handle specific types of errors that may occur in your code. Custom exceptions are defined as classes that inherit from the built-in 'Exception' class or one of its subclasses.\n",
    "\n",
    "Here is an example of how to define a custom exception class in Python:"
   ]
  },
  {
   "cell_type": "code",
   "execution_count": 18,
   "id": "7d662051-a93f-444f-b944-270016520143",
   "metadata": {},
   "outputs": [],
   "source": [
    "class CustomException(Exception):\n",
    "    pass"
   ]
  },
  {
   "cell_type": "markdown",
   "id": "974fe5a1-616d-47d6-84c5-8d9aa8c05a6d",
   "metadata": {},
   "source": [
    "In this example, we define a new class called 'CustomException' that inherits from the built-in 'Exception' class. We also define an empty 'pass' statement to indicate that the class does not have any additional methods or attributes."
   ]
  },
  {
   "cell_type": "markdown",
   "id": "43eef0fa-a6fc-47a7-ac0e-36492d7bd89d",
   "metadata": {},
   "source": [
    "Custom exceptions can be useful for adding more specific error handling to your code, making it easier to debug and maintain."
   ]
  },
  {
   "cell_type": "markdown",
   "id": "747dcf5d-17eb-480b-b000-cffdb315b817",
   "metadata": {},
   "source": [
    "6)"
   ]
  },
  {
   "cell_type": "markdown",
   "id": "22718ca9-580a-4abe-bc5e-a4d2b1b2430e",
   "metadata": {},
   "source": [
    "We need custom exceptions in Python to provide a more specific and meaningful way of handling errors that may occur in our code. Custom exceptions allow us to create specialized error classes that are tailored to the needs of our application or library."
   ]
  },
  {
   "cell_type": "markdown",
   "id": "95f24978-1dec-4598-8187-d8e37c49cf75",
   "metadata": {},
   "source": [
    "Here are some reasons why we might need to use custom exceptions in our Python code:"
   ]
  },
  {
   "cell_type": "markdown",
   "id": "b8316d75-560b-468c-803b-49d8b3d58c9a",
   "metadata": {},
   "source": [
    "i) To distinguish between different types of errors: Sometimes, the built-in Python exceptions may not be specific enough to describe the error that occurred in our code. By creating custom exceptions, we can define our own error types that provide more detailed information about the error."
   ]
  },
  {
   "cell_type": "markdown",
   "id": "519bd4a0-f7a2-40ad-a9d0-42afca620c63",
   "metadata": {},
   "source": [
    "ii) To provide more meaningful error messages: Custom exceptions allow us to define error messages that are specific to our application or library. This can make it easier for developers to understand what went wrong and how to fix it."
   ]
  },
  {
   "cell_type": "markdown",
   "id": "0be9afc5-41f3-4880-a522-2896f9f1bac0",
   "metadata": {},
   "source": [
    "iii)To centralize error handling: By creating custom exceptions, we can centralize the error handling logic for our application or library. This can make it easier to maintain and update our code, as well as improve the overall reliability of our software."
   ]
  },
  {
   "cell_type": "markdown",
   "id": "b2008cf7-d2b1-4850-affe-43ce9426727d",
   "metadata": {},
   "source": [
    "iv)To simplify error handling code: Using custom exceptions can make our error handling code more concise and easier to read. Instead of handling multiple types of errors with a single 'except' block, we can use specific exception classes to handle each type of error separately."
   ]
  },
  {
   "cell_type": "markdown",
   "id": "0363197a-ac39-423f-aa7b-e419e91ac14b",
   "metadata": {},
   "source": [
    "Overall, custom exceptions are a powerful tool for improving the error handling capabilities of our Python code. They allow us to provide more detailed information about errors, simplify error handling logic, and improve the overall reliability and maintainability of our software."
   ]
  },
  {
   "cell_type": "markdown",
   "id": "f5625032-8622-48c9-ae11-9b1b3806654f",
   "metadata": {},
   "source": [
    "Example:"
   ]
  },
  {
   "cell_type": "code",
   "execution_count": 19,
   "id": "1d5cf46f-7ab7-40e9-9de9-5a16378870d9",
   "metadata": {},
   "outputs": [],
   "source": [
    "class validateage(Exception):\n",
    "    \n",
    "    def __init__(self,msg):\n",
    "        self.msg=msg"
   ]
  },
  {
   "cell_type": "code",
   "execution_count": 20,
   "id": "8530b02d-5577-4d56-b066-d3e7d7fe5860",
   "metadata": {},
   "outputs": [],
   "source": [
    "def validaetage(age):\n",
    "    if age < 0:\n",
    "        raise validateage(\"Entered age is negative.\")\n",
    "    elif age > 200:\n",
    "        raise validateage(\"Entered age is very high.\")\n",
    "    else:\n",
    "        print(\"Age is valid.\")"
   ]
  },
  {
   "cell_type": "code",
   "execution_count": 21,
   "id": "59dc9a44-af44-429a-a45f-f9e947a4eee0",
   "metadata": {},
   "outputs": [
    {
     "name": "stdin",
     "output_type": "stream",
     "text": [
      "Enter your age:  -455\n"
     ]
    },
    {
     "name": "stdout",
     "output_type": "stream",
     "text": [
      "Entered age is negative.\n"
     ]
    }
   ],
   "source": [
    "try:\n",
    "    age = int(input(\"Enter your age: \"))\n",
    "    validaetage(age)\n",
    "except validateage as e:\n",
    "    print(e)"
   ]
  },
  {
   "cell_type": "code",
   "execution_count": null,
   "id": "a95c5132-a45d-45ba-92db-99f58e54a7f9",
   "metadata": {},
   "outputs": [],
   "source": []
  }
 ],
 "metadata": {
  "kernelspec": {
   "display_name": "Python 3 (ipykernel)",
   "language": "python",
   "name": "python3"
  },
  "language_info": {
   "codemirror_mode": {
    "name": "ipython",
    "version": 3
   },
   "file_extension": ".py",
   "mimetype": "text/x-python",
   "name": "python",
   "nbconvert_exporter": "python",
   "pygments_lexer": "ipython3",
   "version": "3.10.8"
  }
 },
 "nbformat": 4,
 "nbformat_minor": 5
}
